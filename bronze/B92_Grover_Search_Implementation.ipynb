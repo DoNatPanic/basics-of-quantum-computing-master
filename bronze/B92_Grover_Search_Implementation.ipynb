{
 "cells": [
  {
   "cell_type": "markdown",
   "metadata": {},
   "source": [
    "<table>\n",
    "    <tr>\n",
    "        <td  style=\"background-color:#ffffff;\"><a href=\"https://qsoftware.lu.lv/index.php/qworld/\" target=\"_blank\"><img src=\"..\\images\\qworld.jpg\" width=\"70%\" align=\"left\"></a></td>\n",
    "        <td style=\"background-color:#ffffff;\" width=\"*\"></td>\n",
    "        <td  style=\"background-color:#ffffff;vertical-align:text-top;\"><a href=\"https://qsoftware.lu.lv\" target=\"_blank\"><img src=\"..\\images\\logo.jpg\" width=\"25%\" align=\"right\"></a></td>        \n",
    "    </tr>\n",
    "    <tr><td colspan=\"3\" align=\"right\" style=\"color:#777777;background-color:#ffffff;font-size:12px;\">\n",
    "        prepared by Maksim Dimitrijev<br>\n",
    "        contributed by Özlem Salehi (improvements for Oracle implementation with Phase kickback).\n",
    "    </td></tr>\n",
    "    <tr><td colspan=\"3\" align=\"right\" style=\"color:#bbbbbb;background-color:#ffffff;font-size:11px;font-style:italic;\">\n",
    "        This cell contains some macros. If there is a problem with displaying mathematical formulas, please run this cell to load these macros.\n",
    "    </td></tr>\n",
    "</table>\n",
    "$ \\newcommand{\\bra}[1]{\\langle #1|} $\n",
    "$ \\newcommand{\\ket}[1]{|#1\\rangle} $\n",
    "$ \\newcommand{\\braket}[2]{\\langle #1|#2\\rangle} $\n",
    "$ \\newcommand{\\dot}[2]{ #1 \\cdot #2} $\n",
    "$ \\newcommand{\\biginner}[2]{\\left\\langle #1,#2\\right\\rangle} $\n",
    "$ \\newcommand{\\mymatrix}[2]{\\left( \\begin{array}{#1} #2\\end{array} \\right)} $\n",
    "$ \\newcommand{\\myvector}[1]{\\mymatrix{c}{#1}} $\n",
    "$ \\newcommand{\\myrvector}[1]{\\mymatrix{r}{#1}} $\n",
    "$ \\newcommand{\\mypar}[1]{\\left( #1 \\right)} $\n",
    "$ \\newcommand{\\mybigpar}[1]{ \\Big( #1 \\Big)} $\n",
    "$ \\newcommand{\\sqrttwo}{\\frac{1}{\\sqrt{2}}} $\n",
    "$ \\newcommand{\\dsqrttwo}{\\dfrac{1}{\\sqrt{2}}} $\n",
    "$ \\newcommand{\\onehalf}{\\frac{1}{2}} $\n",
    "$ \\newcommand{\\donehalf}{\\dfrac{1}{2}} $\n",
    "$ \\newcommand{\\hadamard}{ \\mymatrix{rr}{ \\sqrttwo & \\sqrttwo \\\\ \\sqrttwo & -\\sqrttwo }} $\n",
    "$ \\newcommand{\\vzero}{\\myvector{1\\\\0}} $\n",
    "$ \\newcommand{\\vone}{\\myvector{0\\\\1}} $\n",
    "$ \\newcommand{\\vhadamardzero}{\\myvector{ \\sqrttwo \\\\  \\sqrttwo } } $\n",
    "$ \\newcommand{\\vhadamardone}{ \\myrvector{ \\sqrttwo \\\\ -\\sqrttwo } } $\n",
    "$ \\newcommand{\\myarray}[2]{ \\begin{array}{#1}#2\\end{array}} $\n",
    "$ \\newcommand{\\X}{ \\mymatrix{cc}{0 & 1 \\\\ 1 & 0}  } $\n",
    "$ \\newcommand{\\Z}{ \\mymatrix{rr}{1 & 0 \\\\ 0 & -1}  } $\n",
    "$ \\newcommand{\\Htwo}{ \\mymatrix{rrrr}{ \\frac{1}{2} & \\frac{1}{2} & \\frac{1}{2} & \\frac{1}{2} \\\\ \\frac{1}{2} & -\\frac{1}{2} & \\frac{1}{2} & -\\frac{1}{2} \\\\ \\frac{1}{2} & \\frac{1}{2} & -\\frac{1}{2} & -\\frac{1}{2} \\\\ \\frac{1}{2} & -\\frac{1}{2} & -\\frac{1}{2} & \\frac{1}{2} } } $\n",
    "$ \\newcommand{\\CNOT}{ \\mymatrix{cccc}{1 & 0 & 0 & 0 \\\\ 0 & 1 & 0 & 0 \\\\ 0 & 0 & 0 & 1 \\\\ 0 & 0 & 1 & 0} } $\n",
    "$ \\newcommand{\\norm}[1]{ \\left\\lVert #1 \\right\\rVert } $"
   ]
  },
  {
   "cell_type": "markdown",
   "metadata": {},
   "source": [
    "<h2>Grover's Search: Implementation</h2>\n",
    "\n",
    "Now we will consider how to implement Grover's search with available gates. Let's recall the whole algorithm with the basic case.\n",
    "\n",
    "We are given $N=2^n$ elements, and one element is marked. The task is to find this marked element.\n",
    "\n",
    "We are given $n$ qubits. At the beginning we apply Hadamard to each qubit, so we put our quantum state into superposition. The amplitude of each basis state $ \\ket{0 \\cdots 0}, \\ldots, \\ket{1 \\cdots 1} $ is set to $ \\frac{1}{\\sqrt{N}} $. After that we iterate the following algorithm for several times:\n",
    "<ul>\n",
    "    <li>Make a query: apply a query oracle operator to qubits - it flips the sign of the state that corresponds to the marked element.</li>\n",
    "    <li>Inversion: apply a diffusion matrix - the value of each element is reflected over the mean of all values.</li>\n",
    "</ul>\n",
    "\n",
    "Let's check how can we implement the query and inversion operations."
   ]
  },
  {
   "cell_type": "markdown",
   "metadata": {},
   "source": [
    "<h3>Query operation</h3>\n",
    "\n",
    "Suppose that there exists a function $f$ with the following properties:\n",
    "\n",
    "\\begin{align*}\n",
    "f(x)&=1 &\\mbox{ if $x$ is marked}\\\\\n",
    "f(x)&=0 &\\mbox{ otherwise}\n",
    "\\end{align*}\n",
    "\n",
    "The Grover's algorithm does not actually search a list of elements, but given that there exists a function $f$ with the given properties, it finds the marked element $x$ such that $f(x)=1$. An operator which flips the sign of the amplitude of the state corresponding to $x$ can be constructed using a procedure called <font color=\"blue\">phase-kickback</font>.\n",
    "\n",
    "Query operator is an identity operator with entry $-1$ corresponding to the marked element. Suppose that we have $N=4$ elements and the last one is marked. In such case our query operator will look like this:\n",
    "\n",
    "$\\mymatrix{cccc}{1 & 0 & 0 & 0 \\\\ 0 & 1 & 0 & 0 \\\\ 0 & 0 & 1 & 0 \\\\ 0 & 0 & 0 & -1}$.\n",
    "\n",
    "To implement such operator with phase kickback we need ancilla (additional) qubit in state $\\frac{1}{\\sqrt{2}} (\\ket{0} - \\ket{1})$. This state is achievable by applying x-gate and h-gate to the qubit in state $\\ket{0}$. After that, we can affect the needed state with phase-kickback to flip the sign. For this purpose we just need to perform controlled NOT operation, where our qubits act as controllers, and ancilla is the targed qubit. Let's check the implementation."
   ]
  },
  {
   "cell_type": "code",
   "execution_count": 1,
   "metadata": {},
   "outputs": [
    {
     "name": "stdout",
     "output_type": "stream",
     "text": [
      "  1.0  0.0  0.0  0.0  0.0  0.0  0.0  0.0\n",
      "  0.0  1.0  0.0  0.0  0.0  0.0  0.0  0.0\n",
      "  0.0  0.0  1.0  0.0  0.0  0.0  0.0  0.0\n",
      "  0.0  0.0  0.0 -1.0  0.0  0.0  0.0  0.0\n",
      "  0.0  0.0  0.0  0.0  1.0  0.0  0.0  0.0\n",
      "  0.0  0.0  0.0  0.0  0.0  1.0  0.0  0.0\n",
      "  0.0  0.0  0.0  0.0  0.0  0.0  1.0  0.0\n",
      "  0.0  0.0  0.0  0.0  0.0  0.0  0.0  1.0\n"
     ]
    },
    {
     "data": {
      "text/plain": [
       "<Figure size 680.594x367.889 with 1 Axes>"
      ]
     },
     "execution_count": 1,
     "metadata": {},
     "output_type": "execute_result"
    }
   ],
   "source": [
    "from qiskit import QuantumRegister, ClassicalRegister, QuantumCircuit, execute, Aer\n",
    "\n",
    "qreg1 =  QuantumRegister(3)\n",
    "creg1 = ClassicalRegister(3)\n",
    "\n",
    "circuit1 = QuantumCircuit(qreg1,creg1)\n",
    "\n",
    "# prepare ancilla qubit\n",
    "circuit1.x(qreg1[2])\n",
    "circuit1.h(qreg1[2])\n",
    "\n",
    "circuit1.ccx(qreg1[0],qreg1[1],qreg1[2])\n",
    "\n",
    "# put ancilla qubit back into state |0>\n",
    "circuit1.h(qreg1[2])\n",
    "circuit1.x(qreg1[2])\n",
    "\n",
    "job = execute(circuit1,Aer.get_backend('unitary_simulator'))\n",
    "u=job.result().get_unitary(circuit1,decimals=3)\n",
    "for i in range(len(u)):\n",
    "    s=\"\"\n",
    "    for j in range(len(u)):\n",
    "        val = str(u[i][j].real)\n",
    "        while(len(val)<5): val  = \" \"+val\n",
    "        s = s + val\n",
    "    print(s)\n",
    "\n",
    "circuit1.draw(output='mpl')"
   ]
  },
  {
   "cell_type": "markdown",
   "metadata": {},
   "source": [
    "Now we discuss the details of the implementation. ccx-gate affects the target qubit if both controller qubits are in state $\\ket{1}$. Because the target qubit is in state $\\frac{1}{\\sqrt{2}} (\\ket{0} - \\ket{1})$, we observe phase-kickback effect, which flips the sign of the state that controls the ancilla qubit. Therefore, the sign of the state 11 is flipped. The top-left $4 \\times 4$ matrix corresponds to query operator with element 11 being marked.\n",
    "\n",
    "How can we flip the sign of other states? Remember our efforts to affect controlled rotation with other states (Multiple rotations). We can use the same trick here. If we flip the state of the qubit, then it will control the operation if it was initially in state $\\ket{0}$. Let's check another example, now our marked element is 01."
   ]
  },
  {
   "cell_type": "code",
   "execution_count": null,
   "metadata": {},
   "outputs": [],
   "source": [
    "from qiskit import QuantumRegister, ClassicalRegister, QuantumCircuit, execute, Aer\n",
    "\n",
    "qreg2 =  QuantumRegister(3)\n",
    "creg2 = ClassicalRegister(3)\n",
    "\n",
    "circuit2 = QuantumCircuit(qreg2,creg2)\n",
    "\n",
    "# prepare ancilla qubit\n",
    "circuit2.x(qreg2[2])\n",
    "circuit2.h(qreg2[2])\n",
    "\n",
    "circuit2.x(qreg2[1])\n",
    "circuit2.ccx(qreg2[0],qreg2[1],qreg2[2])\n",
    "circuit2.x(qreg2[1])\n",
    "\n",
    "# put ancilla qubit back into state |0>\n",
    "circuit2.h(qreg2[2])\n",
    "circuit2.x(qreg2[2])\n",
    "\n",
    "job = execute(circuit2,Aer.get_backend('unitary_simulator'))\n",
    "u=job.result().get_unitary(circuit2,decimals=3)\n",
    "for i in range(len(u)):\n",
    "    s=\"\"\n",
    "    for j in range(len(u)):\n",
    "        val = str(u[i][j].real)\n",
    "        while(len(val)<5): val  = \" \"+val\n",
    "        s = s + val\n",
    "    print(s)"
   ]
  },
  {
   "cell_type": "markdown",
   "metadata": {},
   "source": [
    "<h3>Task 1</h3>\n",
    "\n",
    "Implement the query operation for $n=2$ ($N=4$). Define a function which marks any one of asked elements.\n",
    "\n",
    "As a result you need to define the following function: <i>query(circuit,quantum_reg,number)</i>, where:\n",
    "<ul>\n",
    "    <li><i>circuit</i> allows to pass the quantum circuit;</li>\n",
    "    <li><i>quantum_reg</i> allows to pass the quantum register;</li>\n",
    "    <li><i>number</i> is the number of marked element, between 0 and 3, where 0 corresponds to 00 and 3 corresponds to 11 (like binary numbers :) ).</li>\n",
    "</ul>"
   ]
  },
  {
   "cell_type": "code",
   "execution_count": 4,
   "metadata": {},
   "outputs": [],
   "source": [
    "def modFunc(state):\n",
    "    a = []\n",
    "    a_inverse = []\n",
    "    for i in range(2):\n",
    "        a.append(0)\n",
    "        a_inverse.append(0)\n",
    "        \n",
    "    t1 = state\n",
    "    t2 = state\n",
    "    for i in range(2):\n",
    "        t2 = t1 % 2\n",
    "        t1 = t1 // 2\n",
    "        a[i] = t2\n",
    "        \n",
    "    return a\n",
    "    \n",
    "\n",
    "#number - marked element, between 0 and 3.\n",
    "def query(circuit,quantum_reg,number):\n",
    "    #code example (you might need to remove it for your solution):\n",
    "    circuit.x(quantum_reg[2])\n",
    "    circuit.h(quantum_reg[2])\n",
    "\n",
    "    res = modFunc(number)\n",
    "    \n",
    "    for i in range(2):\n",
    "        if (res[i] == 0):\n",
    "            circuit.x(quantum_reg[i + 1])\n",
    "    circuit.ccx(quantum_reg[0],quantum_reg[1],quantum_reg[2])\n",
    "    for i in range(2):\n",
    "        if (res[i] == 1):\n",
    "            circuit.x(quantum_reg[i + 1])\n",
    "\n",
    "    # put ancilla qubit back into state |0>\n",
    "    circuit.h(quantum_reg[2])\n",
    "    circuit.x(quantum_reg[2])\n",
    "\n"
   ]
  },
  {
   "cell_type": "markdown",
   "metadata": {},
   "source": [
    "You can play around with the following code to see that your function is implementing the query operation. How to use this to mark 2 elements?"
   ]
  },
  {
   "cell_type": "code",
   "execution_count": 6,
   "metadata": {},
   "outputs": [
    {
     "name": "stdout",
     "output_type": "stream",
     "text": [
      "  0.0  0.0 -1.0  0.0  0.0  0.0  0.0  0.0\n",
      "  0.0  0.0  0.0  1.0  0.0  0.0  0.0  0.0\n",
      " -1.0  0.0  0.0  0.0  0.0  0.0  0.0  0.0\n",
      "  0.0 -1.0  0.0  0.0  0.0  0.0  0.0  0.0\n",
      "  0.0  0.0  0.0  0.0  0.0  0.0  1.0  0.0\n",
      "  0.0  0.0  0.0  0.0  0.0  0.0  0.0  1.0\n",
      "  0.0  0.0  0.0  0.0  1.0  0.0  0.0  0.0\n",
      "  0.0  0.0  0.0  0.0  0.0  1.0  0.0  0.0\n"
     ]
    }
   ],
   "source": [
    "from qiskit import QuantumRegister, ClassicalRegister, QuantumCircuit, execute, Aer\n",
    "\n",
    "qreg3 =  QuantumRegister(3)\n",
    "creg3 = ClassicalRegister(3)\n",
    "\n",
    "mycircuit3 = QuantumCircuit(qreg3,creg3)\n",
    "\n",
    "#Any value between 0 and 3.\n",
    "query(mycircuit3,qreg3,1)\n",
    "\n",
    "job = execute(mycircuit3,Aer.get_backend('unitary_simulator'))\n",
    "u=job.result().get_unitary(mycircuit3,decimals=3)\n",
    "for i in range(len(u)):\n",
    "    s=\"\"\n",
    "    for j in range(len(u)):\n",
    "        val = str(u[i][j].real)\n",
    "        while(len(val)<5): val  = \" \"+val\n",
    "        s = s + val\n",
    "    print(s)"
   ]
  },
  {
   "cell_type": "markdown",
   "metadata": {},
   "source": [
    "<a href=\"B92_Grover_Search_Implementation_Solutions.ipynb#task1\">click for our solution</a>"
   ]
  },
  {
   "cell_type": "markdown",
   "metadata": {},
   "source": [
    "<h3>Task 2 (Optional, challenging)</h3>\n",
    "\n",
    "Implement the query operation for $n=3$ ($N=8$).\n",
    "\n",
    "To implements this operation you will need 5 qubits (1 additional qubit to implement controlled operations + ancilla). Use the qubit 3 as additional qubit and qubit 4 as ancilla."
   ]
  },
  {
   "cell_type": "code",
   "execution_count": null,
   "metadata": {},
   "outputs": [],
   "source": [
    "#number - marked element, between 0 and 7.\n",
    "def big_query(circuit,quantum_reg,number):\n",
    "    #code example (you might need to remove it for your solution):\n",
    "    circuit.x(quantum_reg[0])\n",
    "    circuit.x(quantum_reg[0])\n",
    "#\n",
    "# your code is here\n",
    "#\n"
   ]
  },
  {
   "cell_type": "markdown",
   "metadata": {},
   "source": [
    "You can play around with the following code to see that your function is implementing the query operation."
   ]
  },
  {
   "cell_type": "code",
   "execution_count": null,
   "metadata": {},
   "outputs": [],
   "source": [
    "from qiskit import QuantumRegister, ClassicalRegister, QuantumCircuit, execute, Aer\n",
    "\n",
    "big_qreg =  QuantumRegister(5)\n",
    "big_creg = ClassicalRegister(5)\n",
    "\n",
    "big_mycircuit = QuantumCircuit(big_qreg,big_creg)\n",
    "\n",
    "#Any value between 0 and 7.\n",
    "big_query(big_mycircuit,big_qreg,5)\n",
    "\n",
    "job = execute(big_mycircuit,Aer.get_backend('unitary_simulator'))\n",
    "u=job.result().get_unitary(big_mycircuit,decimals=3)\n",
    "# print top-left 8x8 entries of the matrix.\n",
    "for i in range(8):\n",
    "    s=\"\"\n",
    "    for j in range(8):\n",
    "        val = str(u[i][j].real)\n",
    "        while(len(val)<5): val  = \" \"+val\n",
    "        s = s + val\n",
    "    print(s)"
   ]
  },
  {
   "cell_type": "markdown",
   "metadata": {},
   "source": [
    "<a href=\"B92_Grover_Search_Implementation_Solutions.ipynb#task2\">click for our solution</a>"
   ]
  },
  {
   "cell_type": "markdown",
   "metadata": {},
   "source": [
    "<h3>Inversion operation</h3>\n",
    "\n",
    "Small reminder how does the inversion operation look like:\n",
    "\n",
    "$$ 2 \\mymatrix{ccc}{\n",
    "    \\frac{1}{N}  & \\cdots & \\frac{1}{N} \\\\ \n",
    "    \\vdots & \\ddots & \\vdots \\\\\n",
    "    \\frac{1}{N}  & \\cdots & \\frac{1}{N} \\\\ \n",
    "    } \n",
    "- I . $$\n",
    "\n",
    "To implement the inversion (diffusion) operation, we will need additional (ancilla) qubit. The idea of implementation for inversion operation is the following:\n",
    "<ul>\n",
    "    <li>Apply X and H to the ancilla qubit.</li>\n",
    "    <li>Apply H and X to other qubits that will form our inversion operation.</li>\n",
    "    <li>Apply controlled NOT operator, where all qubits of inversion operation are for controlling, and ancilla qubit is controlled.</li>\n",
    "    <li>Apply X to the ancilla qubit.</li>\n",
    "    <li>Apply X and H to other qubits that will form our inversion operation.</li>\n",
    "    <li>Apply H and X to the ancilla qubit.</li>\n",
    "</ul>\n",
    "\n",
    "Although it looks a bit tricky, you can notice that in first two steps we apply similar gates to our operation and ancilla qubits, and after controlled NOT and NOT to ancilla, we reverse these operations.\n",
    "\n",
    "You can notice that we use the ancilla in the state $\\frac{1}{\\sqrt{2}} (\\ket{0} - \\ket{1})$, like we did for query operation. This is not a coincidence, since we again use phase-kickback. This time we want want to flip the sign of all states, except the state $H\\ket{00 \\cdots 0}$, which intuitively resembles inversion about the mean. To affect with phase-kickback the state $H\\ket{00 \\cdots 0}$, we prepare qubits with H and X before the controlled NOT. After controlled NOT we apply X to the ancilla qubit, and this operation reverses the effect of phase-kickback in a way, that all the states will be affected except the chosen one. Therefore, we manage to flip the sign of all needed states. The remaining two steps are just to reverse the first two preparation steps."
   ]
  },
  {
   "cell_type": "markdown",
   "metadata": {},
   "source": [
    "<h3>Task 3</h3>\n",
    "\n",
    "Implement the inversion operation for 4 elements.\n",
    "\n",
    "In the implementation the ancilla qubit will be qubit 2, while qubits for control are 0 and 1. As a result you should obtain the following values in the top-left $4 \\times 4$ entries:\n",
    "\n",
    "$\\mymatrix{cccc}{-0.5 & 0.5 & 0.5 & 0.5 \\\\ 0.5 & -0.5 & 0.5 & 0.5 \\\\ 0.5 & 0.5 & -0.5 & 0.5 \\\\ 0.5 & 0.5 & 0.5 & -0.5}$."
   ]
  },
  {
   "cell_type": "code",
   "execution_count": 7,
   "metadata": {},
   "outputs": [],
   "source": [
    "def inversion(circuit,quantum_reg):\n",
    "    #step 1\n",
    "    circuit.x(quantum_reg[2])\n",
    "    circuit.h(quantum_reg[2])\n",
    "    \n",
    "    #step 2\n",
    "    circuit.h(quantum_reg[1])\n",
    "    circuit.h(quantum_reg[0])\n",
    "    circuit.x(quantum_reg[1])\n",
    "    circuit.x(quantum_reg[0])\n",
    "\n",
    "    #step 3\n",
    "    circuit.ccx(quantum_reg[1],quantum_reg[0],quantum_reg[2])\n",
    "    \n",
    "    #step 4\n",
    "    circuit.x(quantum_reg[2])\n",
    "\n",
    "    #step 5\n",
    "    circuit.x(quantum_reg[1])\n",
    "    circuit.x(quantum_reg[0])\n",
    "    circuit.h(quantum_reg[1])\n",
    "    circuit.h(quantum_reg[0])\n",
    "\n",
    "    #step 6\n",
    "    circuit.h(quantum_reg[2])\n",
    "    circuit.x(quantum_reg[2])"
   ]
  },
  {
   "cell_type": "markdown",
   "metadata": {},
   "source": [
    "Below you can check the matrix of your inversion operator and how does the circuit look like. We are interested in the top-left $4 \\times 4$ part of the matrix, the remaining parts are because we used ancilla qubit."
   ]
  },
  {
   "cell_type": "code",
   "execution_count": 8,
   "metadata": {},
   "outputs": [
    {
     "name": "stdout",
     "output_type": "stream",
     "text": [
      " -0.5  0.5  0.5  0.5  0.0 -0.0 -0.0  0.0\n",
      "  0.5 -0.5  0.5  0.5 -0.0  0.0  0.0 -0.0\n",
      "  0.5  0.5 -0.5  0.5 -0.0  0.0  0.0 -0.0\n",
      "  0.5  0.5  0.5 -0.5  0.0 -0.0 -0.0  0.0\n",
      "  0.0  0.0  0.0  0.0  1.0  0.0  0.0 -0.0\n",
      "  0.0  0.0  0.0  0.0  0.0  1.0 -0.0  0.0\n",
      "  0.0  0.0  0.0  0.0  0.0 -0.0  1.0  0.0\n",
      "  0.0  0.0  0.0  0.0 -0.0  0.0  0.0  1.0\n"
     ]
    },
    {
     "data": {
      "image/png": "[encoded data removed]",
      "text/plain": [
       "<Figure size 550.228x264.88 with 1 Axes>"
      ]
     },
     "execution_count": 8,
     "metadata": {},
     "output_type": "execute_result"
    }
   ],
   "source": [
    "from qiskit import QuantumRegister, ClassicalRegister, QuantumCircuit, execute, Aer\n",
    "\n",
    "qreg4 =  QuantumRegister(3)\n",
    "creg4 = ClassicalRegister(3)\n",
    "\n",
    "mycircuit4 = QuantumCircuit(qreg4,creg4)\n",
    "\n",
    "inversion(mycircuit4,qreg4)\n",
    "\n",
    "job = execute(mycircuit4,Aer.get_backend('unitary_simulator'))\n",
    "u=job.result().get_unitary(mycircuit4,decimals=3)\n",
    "for i in range(len(u)):\n",
    "    s=\"\"\n",
    "    for j in range(len(u)):\n",
    "        val = str(u[i][j].real)\n",
    "        while(len(val)<5): val  = \" \"+val\n",
    "        s = s + val\n",
    "    print(s)\n",
    "    \n",
    "mycircuit4.draw(output='mpl')"
   ]
  },
  {
   "cell_type": "markdown",
   "metadata": {},
   "source": [
    "<a href=\"B92_Grover_Search_Implementation_Solutions.ipynb#task3\">click for our solution</a>"
   ]
  },
  {
   "cell_type": "markdown",
   "metadata": {},
   "source": [
    "<h3>Task 4 (Optional, challenging)</h3>\n",
    "\n",
    "Implement the inversion operation for $n=3$ ($N=8$). This time you will need 5 qubits - 3 for the operation, 1 for ancilla, and one more qubit to ensure the operation of 3 qubits controlling the other qubit.\n",
    "\n",
    "In the implementation the ancilla qubit will be qubit 4, while qubits for control are 0, 1 and 2; qubit 3 is used to ensure this multiple control operation. As a result you should obtain the following values in the top-left $8 \\times 8$ entries:\n",
    "\n",
    "$\\mymatrix{cccccccc}{-0.75 & 0.25 & 0.25 & 0.25 & 0.25 & 0.25 & 0.25 & 0.25 \\\\ 0.25 & -0.75 & 0.25 & 0.25 & 0.25 & 0.25 & 0.25 & 0.25 \\\\ 0.25 & 0.25 & -0.75 & 0.25 & 0.25 & 0.25 & 0.25 & 0.25 \\\\ 0.25 & 0.25 & 0.25 & -0.75 & 0.25 & 0.25 & 0.25 & 0.25 \\\\ 0.25 & 0.25 & 0.25 & 0.25 & -0.75 & 0.25 & 0.25 & 0.25 \\\\ 0.25 & 0.25 & 0.25 & 0.25 & 0.25 & -0.75 & 0.25 & 0.25 \\\\ 0.25 & 0.25 & 0.25 & 0.25 & 0.25 & 0.25 & -0.75 & 0.25 \\\\ 0.25 & 0.25 & 0.25 & 0.25 & 0.25 & 0.25 & 0.25 & -0.75}$."
   ]
  },
  {
   "cell_type": "code",
   "execution_count": null,
   "metadata": {},
   "outputs": [],
   "source": [
    "def big_inversion(circuit,quantum_reg):\n",
    "    #code example (you might need to remove it for your solution):\n",
    "    circuit.x(quantum_reg[0])\n",
    "    circuit.x(quantum_reg[0])\n",
    "#\n",
    "# your code is here\n",
    "#\n"
   ]
  },
  {
   "cell_type": "markdown",
   "metadata": {},
   "source": [
    "Below you can check the matrix of your inversion operator. We are interested in the top-left $8 \\times 8$ part of the matrix, the remaining parts are because of additional qubits."
   ]
  },
  {
   "cell_type": "code",
   "execution_count": null,
   "metadata": {},
   "outputs": [],
   "source": [
    "from qiskit import QuantumRegister, ClassicalRegister, QuantumCircuit, execute, Aer\n",
    "\n",
    "big_qreg2 =  QuantumRegister(5)\n",
    "big_creg2 = ClassicalRegister(5)\n",
    "\n",
    "big_mycircuit2 = QuantumCircuit(big_qreg2,big_creg2)\n",
    "\n",
    "big_inversion(big_mycircuit2,big_qreg2)\n",
    "\n",
    "job = execute(big_mycircuit2,Aer.get_backend('unitary_simulator'))\n",
    "u=job.result().get_unitary(big_mycircuit2,decimals=3)\n",
    "for i in range(8):\n",
    "    s=\"\"\n",
    "    for j in range(8):\n",
    "        val = str(u[i][j].real)\n",
    "        while(len(val)<5): val  = \" \"+val\n",
    "        s = s + val\n",
    "    print(s)"
   ]
  },
  {
   "cell_type": "markdown",
   "metadata": {},
   "source": [
    "<a href=\"B92_Grover_Search_Implementation_Solutions.ipynb#task4\">click for our solution</a>"
   ]
  },
  {
   "cell_type": "markdown",
   "metadata": {},
   "source": [
    "<h3>Testing Grover's search</h3>\n",
    "\n",
    "Now we are ready to test our operations and run Grover's search. In the provided code we have 4 elements and among elements 0,1,2,3 the element 1 is marked. We perform just one iteration. You can play around by changing the number of Grover's iterations or marked elements.\n",
    "\n",
    "We also did a small improvement. Notice that in query and inversion operations we use ancilla qubit in the state $\\frac{1}{\\sqrt{2}} (\\ket{0} - \\ket{1})$. We can save some operations by changing ancilla's state only once before and once after Grover's iterations. You can check the circuit to observe the changes."
   ]
  },
  {
   "cell_type": "code",
   "execution_count": null,
   "metadata": {},
   "outputs": [],
   "source": [
    "%run ../include/quantum.py\n",
    "\n",
    "from qiskit import QuantumRegister, ClassicalRegister, QuantumCircuit, execute, Aer\n",
    "\n",
    "qreg5 =  QuantumRegister(3)\n",
    "creg5 = ClassicalRegister(3)\n",
    "\n",
    "mycircuit5 = QuantumCircuit(qreg5,creg5)\n",
    "\n",
    "#Grover\n",
    "#Initial step - superposition.\n",
    "for i in range(2):\n",
    "    mycircuit5.h(qreg5[i])\n",
    "mycircuit5.x(qreg5[2])\n",
    "mycircuit5.h(qreg5[2])\n",
    "mycircuit5.barrier()\n",
    "#Grover's iterations.\n",
    "for i in range(1):\n",
    "    oracle1(mycircuit5,qreg5,1)\n",
    "    mycircuit5.barrier()\n",
    "    diffusion1(mycircuit5,qreg5)\n",
    "    mycircuit5.barrier()\n",
    "\n",
    "mycircuit5.h(qreg5[2])\n",
    "mycircuit5.x(qreg5[2])\n",
    "mycircuit5.measure(qreg5,creg5)\n",
    "\n",
    "job = execute(mycircuit5,Aer.get_backend('qasm_simulator'),shots=10000)\n",
    "counts5 = job.result().get_counts(mycircuit5)\n",
    "print(counts5) # print the outcomes\n",
    "\n",
    "mycircuit5.draw(output='mpl')"
   ]
  },
  {
   "cell_type": "markdown",
   "metadata": {},
   "source": [
    "<h3>8 element case (optional)</h3>\n",
    "\n",
    "We will use 2 additional qubits (1 ancilla + 1 qubit for controlled operations). We have $n=3$, $N=8$, and use 5 total qubits. This means that the parts of operation matrices that we are interested in are the top-left $8 \\times 8$ entries.\n",
    "\n",
    "Query operator:"
   ]
  },
  {
   "cell_type": "code",
   "execution_count": null,
   "metadata": {},
   "outputs": [],
   "source": [
    "%run ../include/quantum.py\n",
    "\n",
    "from qiskit import QuantumRegister, ClassicalRegister, QuantumCircuit, execute, Aer\n",
    "\n",
    "qreg6 =  QuantumRegister(5)\n",
    "creg6 = ClassicalRegister(5)\n",
    "\n",
    "mycircuit6 = QuantumCircuit(qreg6,creg6)\n",
    "\n",
    "#Any value between 0 and 7.\n",
    "oracle2(mycircuit6,qreg6,1)\n",
    "\n",
    "job = execute(mycircuit6,Aer.get_backend('unitary_simulator'))\n",
    "u=job.result().get_unitary(mycircuit6,decimals=3)\n",
    "# print top-left 8x8 entries of the matrix.\n",
    "for i in range(8):\n",
    "    s=\"\"\n",
    "    for j in range(8):\n",
    "        val = str(u[i][j].real)\n",
    "        while(len(val)<5): val  = \" \"+val\n",
    "        s = s + val\n",
    "    print(s)"
   ]
  },
  {
   "cell_type": "markdown",
   "metadata": {},
   "source": [
    "Inversion operator:"
   ]
  },
  {
   "cell_type": "code",
   "execution_count": null,
   "metadata": {},
   "outputs": [],
   "source": [
    "%run ../include/quantum.py\n",
    "\n",
    "from qiskit import QuantumRegister, ClassicalRegister, QuantumCircuit, execute, Aer\n",
    "\n",
    "qreg7 =  QuantumRegister(5)\n",
    "creg7 = ClassicalRegister(5)\n",
    "\n",
    "mycircuit7 = QuantumCircuit(qreg7,creg7)\n",
    "\n",
    "diffusion2(mycircuit7,qreg7)\n",
    "\n",
    "job = execute(mycircuit7,Aer.get_backend('unitary_simulator'))\n",
    "u=job.result().get_unitary(mycircuit7,decimals=3)\n",
    "# print top-left 8x8 entries of the matrix.\n",
    "for i in range(8):\n",
    "    s=\"\"\n",
    "    for j in range(8):\n",
    "        val = str(u[i][j].real)\n",
    "        while(len(val)<6): val  = \" \"+val\n",
    "        s = s + val\n",
    "    print(s)"
   ]
  },
  {
   "cell_type": "markdown",
   "metadata": {},
   "source": [
    "You can play around with Grover's search on 8 elements now:"
   ]
  },
  {
   "cell_type": "code",
   "execution_count": null,
   "metadata": {},
   "outputs": [],
   "source": [
    "%run ../include/quantum.py\n",
    "\n",
    "from qiskit import QuantumRegister, ClassicalRegister, QuantumCircuit, execute, Aer\n",
    "\n",
    "qreg8 =  QuantumRegister(5)\n",
    "creg8 = ClassicalRegister(5)\n",
    "\n",
    "mycircuit8 = QuantumCircuit(qreg8,creg8)\n",
    "\n",
    "#Grover\n",
    "for i in range(3):\n",
    "    mycircuit8.h(qreg8[i])\n",
    "mycircuit8.barrier()\n",
    "#Try 1,2,6,12 iterations of Grover\n",
    "for i in range(1):\n",
    "    oracle2(mycircuit8,qreg8,5)\n",
    "    mycircuit8.barrier()\n",
    "    diffusion2(mycircuit8,qreg8)\n",
    "    mycircuit8.barrier()\n",
    "\n",
    "mycircuit8.measure(qreg8,creg8)\n",
    "\n",
    "job = execute(mycircuit8,Aer.get_backend('qasm_simulator'),shots=10000)\n",
    "counts8 = job.result().get_counts(mycircuit8)\n",
    "print(counts8) # print the outcomes"
   ]
  },
  {
   "cell_type": "markdown",
   "metadata": {},
   "source": [
    "<h3>16 element case (optional)</h3>\n",
    "\n",
    "We will use 3 additional qubits (1 ancilla + 2 qubits for controlled operations). We have $n=4$, $N=16$, and use 7 total qubits. This means that the parts of operation matrices that we are interested in are the top-left $16 \\times 16$ entries.\n",
    "\n",
    "Query operator:"
   ]
  },
  {
   "cell_type": "code",
   "execution_count": null,
   "metadata": {},
   "outputs": [],
   "source": [
    "%run ../include/quantum.py\n",
    "\n",
    "from qiskit import QuantumRegister, ClassicalRegister, QuantumCircuit, execute, Aer\n",
    "\n",
    "qreg9 =  QuantumRegister(7)\n",
    "creg9 = ClassicalRegister(7)\n",
    "\n",
    "mycircuit9 = QuantumCircuit(qreg9,creg9)\n",
    "\n",
    "#Any value between 0 and 15.\n",
    "oracle3(mycircuit9,qreg9,0)\n",
    "\n",
    "job = execute(mycircuit9,Aer.get_backend('unitary_simulator'))\n",
    "u=job.result().get_unitary(mycircuit9,decimals=3)\n",
    "# print top-left 16x16 entries of the matrix.\n",
    "for i in range(16):\n",
    "    s=\"\"\n",
    "    for j in range(16):\n",
    "        val = str(u[i][j].real)\n",
    "        while(len(val)<5): val  = \" \"+val\n",
    "        s = s + val\n",
    "    print(s)"
   ]
  },
  {
   "cell_type": "markdown",
   "metadata": {},
   "source": [
    "Inversion operator:"
   ]
  },
  {
   "cell_type": "code",
   "execution_count": null,
   "metadata": {},
   "outputs": [],
   "source": [
    "%run ../include/quantum.py\n",
    "    \n",
    "from qiskit import QuantumRegister, ClassicalRegister, QuantumCircuit, execute, Aer\n",
    "\n",
    "qreg10 =  QuantumRegister(7)\n",
    "creg10 = ClassicalRegister(7)\n",
    "\n",
    "mycircuit10 = QuantumCircuit(qreg10,creg10)\n",
    "\n",
    "diffusion3(mycircuit10,qreg10)\n",
    "\n",
    "job = execute(mycircuit10,Aer.get_backend('unitary_simulator'))\n",
    "u=job.result().get_unitary(mycircuit10,decimals=3)\n",
    "# print top-left 16x16 entries of the matrix.\n",
    "for i in range(16):\n",
    "    s=\"\"\n",
    "    for j in range(16):\n",
    "        val = str(u[i][j].real)\n",
    "        while(len(val)<7): val  = \" \"+val\n",
    "        s = s + val\n",
    "    print(s)"
   ]
  },
  {
   "cell_type": "markdown",
   "metadata": {},
   "source": [
    "You can play around with Grover's search on 16 elements now:"
   ]
  },
  {
   "cell_type": "code",
   "execution_count": null,
   "metadata": {},
   "outputs": [],
   "source": [
    "%run ../include/quantum.py\n",
    "\n",
    "from qiskit import QuantumRegister, ClassicalRegister, QuantumCircuit, execute, Aer\n",
    "\n",
    "qreg11 =  QuantumRegister(7)\n",
    "creg11 = ClassicalRegister(7)\n",
    "\n",
    "mycircuit11 = QuantumCircuit(qreg11,creg11)\n",
    "\n",
    "#Grover\n",
    "for i in range(4):\n",
    "    mycircuit11.h(qreg11[i])\n",
    "mycircuit11.barrier()\n",
    "\n",
    "for i in range(1):\n",
    "    oracle3(mycircuit11,qreg11,0)\n",
    "    mycircuit11.barrier()\n",
    "    diffusion3(mycircuit11,qreg11)\n",
    "    mycircuit11.barrier()\n",
    "\n",
    "mycircuit11.measure(qreg11,creg11)\n",
    "\n",
    "job = execute(mycircuit11,Aer.get_backend('qasm_simulator'),shots=10000)\n",
    "counts11 = job.result().get_counts(mycircuit11)\n",
    "print(counts11) # print the outcomes"
   ]
  },
  {
   "cell_type": "markdown",
   "metadata": {},
   "source": [
    "<h3>Task 5 (optional)</h3>\n",
    "\n",
    "Do you remember which number of iterations is optimal to find the marked element with Grover's search? Good. Here we have a quantum program with one marked element. First, determine the total number of elements in this program. After that please pick the optimal number of iterations. You can check your guess by changing the value of <i>iteration_count</i>, please also check less optimal options like <i>iteration_count-1</i>, <i>iteration_count+1</i>."
   ]
  },
  {
   "cell_type": "code",
   "execution_count": null,
   "metadata": {},
   "outputs": [],
   "source": [
    "%run ../include/quantum.py\n",
    "\n",
    "from qiskit import QuantumRegister, ClassicalRegister, QuantumCircuit, execute, Aer\n",
    "\n",
    "qreg12 =  QuantumRegister(19)\n",
    "creg12 = ClassicalRegister(19)\n",
    "\n",
    "mycircuit12 = QuantumCircuit(qreg12,creg12)\n",
    "\n",
    "for i in range(10):\n",
    "    mycircuit12.h(qreg12[i])\n",
    "\n",
    "mycircuit12.x(qreg12[18])\n",
    "mycircuit12.h(qreg12[18])\n",
    "\n",
    "#number of iterations - change this value\n",
    "iteration_count = 0\n",
    "for i in range(iteration_count):\n",
    "    giant_oracle(mycircuit12,qreg12,0)\n",
    "    giant_diffusion(mycircuit12,qreg12)\n",
    "    \n",
    "mycircuit12.h(qreg12[18])\n",
    "mycircuit12.x(qreg12[18])\n",
    "\n",
    "mycircuit12.measure(qreg12,creg12)\n",
    "\n",
    "job = execute(mycircuit12,Aer.get_backend('qasm_simulator'),shots=10000)\n",
    "counts12 = job.result().get_counts(mycircuit12)\n",
    "print(counts12)"
   ]
  },
  {
   "cell_type": "code",
   "execution_count": null,
   "metadata": {},
   "outputs": [],
   "source": []
  }
 ],
 "metadata": {
  "kernelspec": {
   "display_name": "Python 3",
   "language": "python",
   "name": "python3"
  },
  "language_info": {
   "codemirror_mode": {
    "name": "ipython",
    "version": 3
   },
   "file_extension": ".py",
   "mimetype": "text/x-python",
   "name": "python",
   "nbconvert_exporter": "python",
   "pygments_lexer": "ipython3",
   "version": "3.7.3"
  }
 },
 "nbformat": 4,
 "nbformat_minor": 2
}
