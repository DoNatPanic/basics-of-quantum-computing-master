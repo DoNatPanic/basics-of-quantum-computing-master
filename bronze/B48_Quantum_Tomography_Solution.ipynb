{
 "cells": [
  {
   "cell_type": "markdown",
   "metadata": {},
   "source": [
    "<table> <tr>\n",
    "        <td  style=\"background-color:#ffffff;\">\n",
    "            <a href=\"http://qworld.lu.lv\" target=\"_blank\"><img src=\"..\\images\\qworld.jpg\" width=\"25%\" align=\"left\"> </a></td>\n",
    "        <td style=\"background-color:#ffffff;vertical-align:bottom;text-align:right;\">\n",
    "            prepared by <a href=\"http://abu.lu.lv\" target=\"_blank\">Abuzer Yakaryilmaz</a> (<a href=\"http://qworld.lu.lv/index.php/qlatvia/\" target=\"_blank\">QLatvia</a>)\n",
    "        </td>        \n",
    "</tr></table>"
   ]
  },
  {
   "cell_type": "markdown",
   "metadata": {},
   "source": [
    "<table width=\"100%\"><tr><td style=\"color:#bbbbbb;background-color:#ffffff;font-size:11px;font-style:italic;text-align:right;\">This cell contains some macros. If there is a problem with displaying mathematical formulas, please run this cell to load these macros. </td></tr></table>\n",
    "$ \\newcommand{\\bra}[1]{\\langle #1|} $\n",
    "$ \\newcommand{\\ket}[1]{|#1\\rangle} $\n",
    "$ \\newcommand{\\braket}[2]{\\langle #1|#2\\rangle} $\n",
    "$ \\newcommand{\\dot}[2]{ #1 \\cdot #2} $\n",
    "$ \\newcommand{\\biginner}[2]{\\left\\langle #1,#2\\right\\rangle} $\n",
    "$ \\newcommand{\\mymatrix}[2]{\\left( \\begin{array}{#1} #2\\end{array} \\right)} $\n",
    "$ \\newcommand{\\myvector}[1]{\\mymatrix{c}{#1}} $\n",
    "$ \\newcommand{\\myrvector}[1]{\\mymatrix{r}{#1}} $\n",
    "$ \\newcommand{\\mypar}[1]{\\left( #1 \\right)} $\n",
    "$ \\newcommand{\\mybigpar}[1]{ \\Big( #1 \\Big)} $\n",
    "$ \\newcommand{\\sqrttwo}{\\frac{1}{\\sqrt{2}}} $\n",
    "$ \\newcommand{\\dsqrttwo}{\\dfrac{1}{\\sqrt{2}}} $\n",
    "$ \\newcommand{\\onehalf}{\\frac{1}{2}} $\n",
    "$ \\newcommand{\\donehalf}{\\dfrac{1}{2}} $\n",
    "$ \\newcommand{\\hadamard}{ \\mymatrix{rr}{ \\sqrttwo & \\sqrttwo \\\\ \\sqrttwo & -\\sqrttwo }} $\n",
    "$ \\newcommand{\\vzero}{\\myvector{1\\\\0}} $\n",
    "$ \\newcommand{\\vone}{\\myvector{0\\\\1}} $\n",
    "$ \\newcommand{\\stateplus}{\\myvector{ \\sqrttwo \\\\  \\sqrttwo } } $\n",
    "$ \\newcommand{\\stateminus}{ \\myrvector{ \\sqrttwo \\\\ -\\sqrttwo } } $\n",
    "$ \\newcommand{\\myarray}[2]{ \\begin{array}{#1}#2\\end{array}} $\n",
    "$ \\newcommand{\\X}{ \\mymatrix{cc}{0 & 1 \\\\ 1 & 0}  } $\n",
    "$ \\newcommand{\\Z}{ \\mymatrix{rr}{1 & 0 \\\\ 0 & -1}  } $\n",
    "$ \\newcommand{\\Htwo}{ \\mymatrix{rrrr}{ \\frac{1}{2} & \\frac{1}{2} & \\frac{1}{2} & \\frac{1}{2} \\\\ \\frac{1}{2} & -\\frac{1}{2} & \\frac{1}{2} & -\\frac{1}{2} \\\\ \\frac{1}{2} & \\frac{1}{2} & -\\frac{1}{2} & -\\frac{1}{2} \\\\ \\frac{1}{2} & -\\frac{1}{2} & -\\frac{1}{2} & \\frac{1}{2} } } $\n",
    "$ \\newcommand{\\CNOT}{ \\mymatrix{cccc}{1 & 0 & 0 & 0 \\\\ 0 & 1 & 0 & 0 \\\\ 0 & 0 & 0 & 1 \\\\ 0 & 0 & 1 & 0} } $\n",
    "$ \\newcommand{\\norm}[1]{ \\left\\lVert #1 \\right\\rVert } $\n",
    "$ \\newcommand{\\pstate}[1]{ \\lceil \\mspace{-1mu} #1 \\mspace{-1.5mu} \\rfloor } $"
   ]
  },
  {
   "cell_type": "markdown",
   "metadata": {},
   "source": [
    "<h2> <font color=\"blue\"> Solution for </font>Quantum Tomography</h2>"
   ]
  },
  {
   "cell_type": "markdown",
   "metadata": {},
   "source": [
    "<a id=\"task1\"></a>\n",
    "<h3> Task 1</h3>\n",
    "\n",
    "You are given 1000 copies of an arbitrary quantum state which lies in the first or second quadrant of the unit circle.\n",
    "\n",
    "This quantum state can be represented by an angle $ \\theta \\in [0,180) $.\n",
    "\n",
    "<i>Please execute the following cell, but do not check the value of $\\theta$.</i>"
   ]
  },
  {
   "cell_type": "code",
   "execution_count": 9,
   "metadata": {},
   "outputs": [
    {
     "name": "stdout",
     "output_type": "stream",
     "text": [
      "2.4633577062647967\n"
     ]
    }
   ],
   "source": [
    "from random import randrange\n",
    "from math import pi\n",
    " \n",
    "theta = randrange(18000)/18000 * pi"
   ]
  },
  {
   "cell_type": "markdown",
   "metadata": {},
   "source": [
    "Your task is to guess this quantum state by writing quantum programs.\n",
    "\n",
    "We assume that the quantum state is given to us with the following code. \n",
    "\n",
    "    from qiskit import QuantumRegister, ClassicalRegister, QuantumCircuit, execute, Aer\n",
    "\n",
    "    # we define a quantum circuit with one qubit and one bit\n",
    "    qreg2 =  QuantumRegister(1) # quantum register with a single qubit\n",
    "    creg2 = ClassicalRegister(1) # classical register with a single bit\n",
    "    circuit2 = QuantumCircuit(qreg2,creg2) # quantum circuit with quantum and classical registers\n",
    "\n",
    "    # rotate the qubit with rotation_angle\n",
    "    circuit2.ry(2*theta,qreg2[0])\n",
    "\n",
    "You should write further codes without using variable $theta$ again.\n",
    "\n",
    "You may use measurements or further $ry$-gates.\n",
    "\n",
    "You can use 1000 shots in total when executing your quantum programs (you can have more than one program starting with the above code).\n",
    "\n",
    "After your guess, please check the actual value and calculate your error in percentage."
   ]
  },
  {
   "cell_type": "markdown",
   "metadata": {},
   "source": [
    "<h3> Solution </h3>"
   ]
  },
  {
   "cell_type": "markdown",
   "metadata": {},
   "source": [
    "<b>Step 1:</b>\n",
    "\n",
    "We define a measurement and execute the circuit 100 times.\n",
    "\n",
    "Then, we check the number of 1s, say $ N $.\n",
    "\n",
    "We expect $ \\sin^2(\\theta) \\approx N/100 $.\n",
    "\n",
    "In the other words, $ \\theta \\approx sin^{-1} \\mypar{ \\sqrt{ \\frac{n}{100} } } = arcsin \\mypar{ \\sqrt{ \\frac{n}{100} } }  $. "
   ]
  },
  {
   "cell_type": "code",
   "execution_count": 3,
   "metadata": {},
   "outputs": [
    {
     "data": {
      "text/plain": [
       "<qiskit.circuit.instructionset.InstructionSet at 0x1d36485c9e8>"
      ]
     },
     "execution_count": 3,
     "metadata": {},
     "output_type": "execute_result"
    }
   ],
   "source": [
    "# import all necessary objects and methods for quantum circuits\n",
    "from qiskit import QuantumRegister, ClassicalRegister, QuantumCircuit, execute, Aer\n",
    "# import randrange for random choices\n",
    "from random import randrange\n",
    "\n",
    "# we define a quantum circuit with one qubit and one bit\n",
    "qreg1 =  QuantumRegister(1) # quantum register with a single qubit\n",
    "creg1 = ClassicalRegister(1) # classical register with a single bit\n",
    "circuit1 = QuantumCircuit(qreg1,creg1) # quantum circuit with quantum and classical registers\n",
    "\n",
    "# rotate the qubit with theta\n",
    "circuit1.ry(2*theta,qreg1[0]) \n",
    "\n",
    "circuit1.measure(qreg1,creg1)"
   ]
  },
  {
   "cell_type": "code",
   "execution_count": 4,
   "metadata": {},
   "outputs": [
    {
     "name": "stdout",
     "output_type": "stream",
     "text": [
      "the number of observed ones 68\n",
      "theta1 is 0.9695321101157683\n"
     ]
    }
   ],
   "source": [
    "# execute the program 100 times\n",
    "job = execute(circuit1,Aer.get_backend('qasm_simulator'),shots=100)\n",
    "\n",
    "counts = job.result().get_counts(circuit1)\n",
    "\n",
    "number_of_ones = 0\n",
    "if '1' in counts:\n",
    "    number_of_ones = counts['1']\n",
    "print(\"the number of observed ones\",number_of_ones)\n",
    "\n",
    "# import asin (inverse of sine function) from math\n",
    "from math import asin\n",
    "\n",
    "theta1 = asin((number_of_ones/100)**0.5)\n",
    "\n",
    "print(\"theta1 is\",theta1)"
   ]
  },
  {
   "cell_type": "markdown",
   "metadata": {},
   "source": [
    "<b>Step 2:</b>\n",
    "\n",
    "Remark that $ \\sin (\\theta) = \\sin(\\pi - \\theta) $. So, we have two candidates: $\\theta_1$ or $ \\theta_2 = \\pi - \\theta_1 $."
   ]
  },
  {
   "cell_type": "code",
   "execution_count": 11,
   "metadata": {},
   "outputs": [
    {
     "name": "stdout",
     "output_type": "stream",
     "text": [
      "0.9695321101157683\n",
      "2.172060543474025\n"
     ]
    },
    {
     "data": {
      "image/png": "[encoded data removed]",
      "text/plain": [
       "<Figure size 360x360 with 1 Axes>"
      ]
     },
     "metadata": {
      "needs_background": "light"
     },
     "output_type": "display_data"
    }
   ],
   "source": [
    "# draw the quantum state\n",
    "\n",
    "%run qlatvia.py\n",
    "\n",
    "draw_qubit()\n",
    "\n",
    "theta2 = pi - theta1\n",
    "\n",
    "from math import cos,sin\n",
    "\n",
    "quantum_state1 = [ cos(theta1),sin(theta1) ]\n",
    "quantum_state2 = [ cos(theta2),sin(theta2) ]\n",
    "\n",
    "draw_quantum_state(quantum_state1[0],quantum_state1[1],\"|v1>\")\n",
    "draw_quantum_state(quantum_state2[0],quantum_state2[1],\"|v2>\")\n",
    "print(theta1)\n",
    "print(theta2)"
   ]
  },
  {
   "cell_type": "markdown",
   "metadata": {},
   "source": [
    "How can we distinguish them? \n",
    "\n",
    "Consider the following two cases:\n",
    "<ul>\n",
    "    <li> rotation with angle $ \\theta - \\theta_1 $ and </li>\n",
    "    <li> rotation with angle $ \\theta + \\theta_1 $. </li>\n",
    "</ul>\n",
    "\n",
    "If $ \\theta_1 \\approx \\theta $, then we expect to see more 0s in the first case.\n",
    "\n",
    "If $ \\theta_2 \\approx \\theta $, then we expect to see more 0s in the second case."
   ]
  },
  {
   "cell_type": "code",
   "execution_count": 6,
   "metadata": {},
   "outputs": [
    {
     "name": "stdout",
     "output_type": "stream",
     "text": [
      "the number of observed 0s in the first case is 25\n"
     ]
    }
   ],
   "source": [
    "# case 1\n",
    "\n",
    "qreg2 =  QuantumRegister(1) # quantum register with a single qubit\n",
    "creg2 = ClassicalRegister(1) # classical register with a single bit\n",
    "circuit2 = QuantumCircuit(qreg2,creg2) # quantum circuit with quantum and classical registers\n",
    "\n",
    "# rotate the qubit with theta\n",
    "circuit2.ry(2*theta,qreg2[0]) \n",
    "# rotate the qubit with -theta1\n",
    "circuit2.ry(-2*theta1,qreg2[0]) \n",
    "\n",
    "circuit2.measure(qreg2,creg2)\n",
    "\n",
    "# execute the program 100 times\n",
    "job = execute(circuit2,Aer.get_backend('qasm_simulator'),shots=100)\n",
    "\n",
    "counts = job.result().get_counts(circuit2)\n",
    "\n",
    "case_1 = 0\n",
    "if '0' in counts:\n",
    "    case_1 = counts['0']\n",
    "print(\"the number of observed 0s in the first case is\",case_1)"
   ]
  },
  {
   "cell_type": "code",
   "execution_count": 7,
   "metadata": {},
   "outputs": [
    {
     "name": "stdout",
     "output_type": "stream",
     "text": [
      "the number of observed 0s in the second case is 100\n"
     ]
    }
   ],
   "source": [
    "# case 2\n",
    "\n",
    "qreg3 =  QuantumRegister(1) # quantum register with a single qubit\n",
    "creg3 = ClassicalRegister(1) # classical register with a single bit\n",
    "circuit3 = QuantumCircuit(qreg3,creg3) # quantum circuit with quantum and classical registers\n",
    "\n",
    "# rotate the qubit with theta\n",
    "circuit3.ry(2*theta,qreg3[0]) \n",
    "# rotate the qubit with +theta1\n",
    "circuit3.ry(+2*theta1,qreg3[0])\n",
    "\n",
    "circuit3.measure(qreg3,creg3)\n",
    "\n",
    "# execute the program 100 times\n",
    "job = execute(circuit3,Aer.get_backend('qasm_simulator'),shots=100)\n",
    "\n",
    "counts = job.result().get_counts(circuit3)\n",
    "\n",
    "case_2 = 0\n",
    "if '0' in counts:\n",
    "    case_2 = counts['0']\n",
    "print(\"the number of observed 0s in the second case is\",case_2)"
   ]
  },
  {
   "cell_type": "code",
   "execution_count": 8,
   "metadata": {},
   "outputs": [
    {
     "name": "stdout",
     "output_type": "stream",
     "text": [
      "theta should be in the second quadrant\n"
     ]
    }
   ],
   "source": [
    "if case_1 > case_2:\n",
    "    print(\"theta should be in the first quadrant\")\n",
    "else:\n",
    "    print(\"theta should be in the second quadrant\")"
   ]
  },
  {
   "cell_type": "markdown",
   "metadata": {},
   "source": [
    "<b>Step 3:</b>\n",
    "\n",
    "We can use the remaining 700 shots to make a better approximation of $\\theta$.\n",
    "\n",
    "We simply execute the first circuit with 700 shots."
   ]
  },
  {
   "cell_type": "code",
   "execution_count": null,
   "metadata": {},
   "outputs": [],
   "source": [
    "# execute the program 700 times\n",
    "total_shots = 700\n",
    "job = execute(circuit1,Aer.get_backend('qasm_simulator'),shots=total_shots)\n",
    "\n",
    "counts = job.result().get_counts(circuit1)\n",
    "\n",
    "number_of_ones = 0\n",
    "if '1' in counts:\n",
    "    number_of_ones = counts['1']\n",
    "print(\"the number of observed ones\",number_of_ones)\n",
    "\n",
    "# import asin (inverse of sine function) from math\n",
    "from math import asin\n",
    "\n",
    "theta_guess = asin((number_of_ones/total_shots)**0.5)\n",
    "\n",
    "if case_1 < case_2:\n",
    "    theta_guess = pi - theta_guess\n",
    "\n",
    "print(\"our guess is\",theta_guess)\n",
    "print(\"original theta is\",theta)\n",
    "\n",
    "error_in_percentage = abs(theta_guess-theta)/theta*100\n",
    "print(\"error is\",error_in_percentage,\"%\")"
   ]
  }
 ],
 "metadata": {
  "kernelspec": {
   "display_name": "Python 3",
   "language": "python",
   "name": "python3"
  },
  "language_info": {
   "codemirror_mode": {
    "name": "ipython",
    "version": 3
   },
   "file_extension": ".py",
   "mimetype": "text/x-python",
   "name": "python",
   "nbconvert_exporter": "python",
   "pygments_lexer": "ipython3",
   "version": "3.7.3"
  }
 },
 "nbformat": 4,
 "nbformat_minor": 2
}
