{
 "cells": [
  {
   "cell_type": "markdown",
   "metadata": {},
   "source": [
    "<table>\n",
    "    <tr>\n",
    "        <td  style=\"background-color:#ffffff;\"><a href=\"https://qsoftware.lu.lv/index.php/qworld/\" target=\"_blank\"><img src=\"..\\images\\qworld.jpg\" width=\"70%\" align=\"left\"></a></td>\n",
    "        <td style=\"background-color:#ffffff;\" width=\"*\"></td>\n",
    "        <td  style=\"background-color:#ffffff;vertical-align:text-top;\"><a href=\"https://qsoftware.lu.lv\" target=\"_blank\"><img src=\"..\\images\\logo.jpg\" width=\"25%\" align=\"right\"></a></td>        \n",
    "    </tr>\n",
    "    <tr><td colspan=\"3\" align=\"right\" style=\"color:#777777;background-color:#ffffff;font-size:12px;\">\n",
    "        prepared by <a href=\"http://abu.lu.lv\" target=\"_blank\">Abuzer Yakaryilmaz</a>\n",
    "    </td></tr>\n",
    "    <tr><td colspan=\"3\" align=\"right\" style=\"color:#bbbbbb;background-color:#ffffff;font-size:11px;font-style:italic;\">\n",
    "        This cell contains some macros. If there is a problem with displaying mathematical formulas, please run this cell to load these macros.\n",
    "    </td></tr>\n",
    "</table>\n",
    "$ \\newcommand{\\bra}[1]{\\langle #1|} $\n",
    "$ \\newcommand{\\ket}[1]{|#1\\rangle} $\n",
    "$ \\newcommand{\\braket}[2]{\\langle #1|#2\\rangle} $\n",
    "$ \\newcommand{\\dot}[2]{ #1 \\cdot #2} $\n",
    "$ \\newcommand{\\biginner}[2]{\\left\\langle #1,#2\\right\\rangle} $\n",
    "$ \\newcommand{\\mymatrix}[2]{\\left( \\begin{array}{#1} #2\\end{array} \\right)} $\n",
    "$ \\newcommand{\\myvector}[1]{\\mymatrix{c}{#1}} $\n",
    "$ \\newcommand{\\myrvector}[1]{\\mymatrix{r}{#1}} $\n",
    "$ \\newcommand{\\mypar}[1]{\\left( #1 \\right)} $\n",
    "$ \\newcommand{\\mybigpar}[1]{ \\Big( #1 \\Big)} $\n",
    "$ \\newcommand{\\sqrttwo}{\\frac{1}{\\sqrt{2}}} $\n",
    "$ \\newcommand{\\dsqrttwo}{\\dfrac{1}{\\sqrt{2}}} $\n",
    "$ \\newcommand{\\onehalf}{\\frac{1}{2}} $\n",
    "$ \\newcommand{\\donehalf}{\\dfrac{1}{2}} $\n",
    "$ \\newcommand{\\hadamard}{ \\mymatrix{rr}{ \\sqrttwo & \\sqrttwo \\\\ \\sqrttwo & -\\sqrttwo }} $\n",
    "$ \\newcommand{\\vzero}{\\myvector{1\\\\0}} $\n",
    "$ \\newcommand{\\vone}{\\myvector{0\\\\1}} $\n",
    "$ \\newcommand{\\vhadamardzero}{\\myvector{ \\sqrttwo \\\\  \\sqrttwo } } $\n",
    "$ \\newcommand{\\vhadamardone}{ \\myrvector{ \\sqrttwo \\\\ -\\sqrttwo } } $\n",
    "$ \\newcommand{\\myarray}[2]{ \\begin{array}{#1}#2\\end{array}} $\n",
    "$ \\newcommand{\\X}{ \\mymatrix{cc}{0 & 1 \\\\ 1 & 0}  } $\n",
    "$ \\newcommand{\\Z}{ \\mymatrix{rr}{1 & 0 \\\\ 0 & -1}  } $\n",
    "$ \\newcommand{\\Htwo}{ \\mymatrix{rrrr}{ \\frac{1}{2} & \\frac{1}{2} & \\frac{1}{2} & \\frac{1}{2} \\\\ \\frac{1}{2} & -\\frac{1}{2} & \\frac{1}{2} & -\\frac{1}{2} \\\\ \\frac{1}{2} & \\frac{1}{2} & -\\frac{1}{2} & -\\frac{1}{2} \\\\ \\frac{1}{2} & -\\frac{1}{2} & -\\frac{1}{2} & \\frac{1}{2} } } $\n",
    "$ \\newcommand{\\CNOT}{ \\mymatrix{cccc}{1 & 0 & 0 & 0 \\\\ 0 & 1 & 0 & 0 \\\\ 0 & 0 & 0 & 1 \\\\ 0 & 0 & 1 & 0} } $\n",
    "$ \\newcommand{\\norm}[1]{ \\left\\lVert #1 \\right\\rVert } $\n",
    "$ \\newcommand{\\pstate}[1]{ \\lceil \\mspace{-1mu} #1 \\mspace{-1.5mu} \\rfloor } $"
   ]
  },
  {
   "cell_type": "markdown",
   "metadata": {},
   "source": [
    "<h2> Correlation</h2>"
   ]
  },
  {
   "cell_type": "markdown",
   "metadata": {},
   "source": [
    "We start with an explanation (by Daniel Reitzner).\n",
    "\n",
    "Our father prepares the lunchs of my sister and mine. He puts our boxes either pasta or couscous salad.\n",
    "\n",
    "Until openning the boxes, we do not know our lunch. But, once I open my box, I will know the lunch of my sister as well, and vice versa.\n",
    "\n",
    "This is <i>correlation</i>."
   ]
  },
  {
   "cell_type": "markdown",
   "metadata": {},
   "source": [
    "Now, we follow a more formal explanation.\n",
    "\n",
    "Asja has one euro and Balvis has one cent.\n",
    "\n",
    "Both coins are fair and we do not see their coins. \n",
    "\n",
    "They start with \"head\" (state 0).\n",
    "<br>\n",
    "Asja flips her coin once. Then, the probabilistic states of Asja and Balvis are $ \\myvector{\\frac{1}{2} \\\\ \\frac{1}{2}} $ and $ \\myvector{1 \\\\ 0} $, respectively."
   ]
  },
  {
   "cell_type": "markdown",
   "metadata": {},
   "source": [
    "<h3> Task 1</h3>\n",
    "\n",
    "Calculate the state of composite system."
   ]
  },
  {
   "cell_type": "markdown",
   "metadata": {},
   "source": [
    "<h4>Solution</h4>\n",
    "The state of composite system is $ \\myvector{\\frac{1}{2} \\\\ \\frac{1}{2}} \\otimes \\myvector{1 \\\\ 0} = \\myvector{\\frac{1}{2} \\myvector{1 \\\\ 0} \\\\ \\frac{1}{2} \\myvector{1 \\\\ 0} } = \\myvector{\\frac{1}{2} \\\\ 0 \\\\ \\frac{1}{2} \\\\ 0 } = \\frac{1}{2} \\pstate{00} + \\frac{1}{2} \\pstate{10}  $.\n",
    " Alternatively,"
   ]
  },
  {
   "cell_type": "code",
   "execution_count": 29,
   "metadata": {},
   "outputs": [
    {
     "name": "stdout",
     "output_type": "stream",
     "text": [
      "[[0.5], [0.0], [0.5], [0.0]]\n"
     ]
    }
   ],
   "source": [
    "#lets define tensor multiplication of two states\n",
    "def bitsMultiply(M1,M2):\n",
    "    M=[]\n",
    "    for i in range(4):\n",
    "        M.append([0])\n",
    "    for i in range(2): # row of M1\n",
    "        for j in range(1): # column of M1\n",
    "            for k in range(2): # row of M2\n",
    "                for l in range(1): # column of M2\n",
    "                    M[i*2+k][1*j+l] = M1[i][j] * M2[k][l] \n",
    "    return M\n",
    "\n",
    "#first probabilistic state\n",
    "M0 = [[1/2],[1/2]]\n",
    "#second probabilistic state\n",
    "M1 = [[1],[0]]\n",
    "#state of composite system\n",
    "M01=[]\n",
    "\n",
    "for i in range(4):\n",
    "    M01.append([0])\n",
    "\n",
    "#call function \n",
    "M01=bitsMultiply(M0,M1)\n",
    "\n",
    "print(M01)"
   ]
  },
  {
   "cell_type": "markdown",
   "metadata": {},
   "source": [
    "<a href=\"B18_Correlation_Solutions.ipynb#task1\">click for our solution</a>"
   ]
  },
  {
   "cell_type": "markdown",
   "metadata": {},
   "source": [
    "They apply Controlled-NOT operator on their coins, which operates on two bits:\n",
    "\n",
    "$$\n",
    "    CNOT = \\CNOT.\n",
    "$$\n",
    "\n",
    "<i> The effect of CNOT is that, if the state of the first bit is 1, then the value of the second bit is flipped.\n",
    "\n",
    "Here the first one is the controlled bit and the second one is the targeted bit.</i>\n",
    "\n",
    "By using the basis states:\n",
    "<ul style=\"font-size:16px;\">\n",
    "    <li>$CNOT \\pstate{00} = \\pstate{00}$</li>\n",
    "    <li>$CNOT \\pstate{01} = \\pstate{01}$</li>\n",
    "    <li>$CNOT \\pstate{\\mathbf{\\color{red}{1}\\color{blue}{0}}} = \\pstate{\\mathbf{\\color{red}{1}\\color{blue}{1}}} $</li>\n",
    "    <li>$CNOT \\pstate{\\mathbf{\\color{red}{1}\\color{blue}{1}}} = \\pstate{\\mathbf{\\color{red}{1}\\color{blue}{0}}} $</li>\n",
    "</ul>\n",
    "    \n"
   ]
  },
  {
   "cell_type": "markdown",
   "metadata": {},
   "source": [
    "<h3> Task 2</h3>\n",
    "\n",
    "Verify that the state of composite system is $ \\frac{1}{2} \\pstate{00} + \\frac{1}{2} \\pstate{11} $ after CNOT operator."
   ]
  },
  {
   "cell_type": "markdown",
   "metadata": {},
   "source": [
    "<h4>Solition<h4>\n",
    "\n",
    "$ \\CNOT  \\myvector{\\frac{1}{2} \\\\ 0 \\\\ \\frac{1}{2} \\\\ 0 } =  \\myvector{\\frac{1}{2} \\\\ 0 \\\\ 0 \\\\ \\frac{1}{2}  } = \\frac{1}{2} \\pstate{00} + \\frac{1}{2} \\pstate{11} $.\n",
    "\n",
    "Alternatively,"
   ]
  },
  {
   "cell_type": "code",
   "execution_count": 28,
   "metadata": {},
   "outputs": [
    {
     "name": "stdout",
     "output_type": "stream",
     "text": [
      "[0.5, 0.0, 0.0, 0.5]\n"
     ]
    }
   ],
   "source": [
    "CNOT = [[1, 0, 0, 0], [0, 1, 0, 0], [0, 0, 0, 1], [0, 0, 1, 0]]\n",
    "M = [0.5, 0, 0.5, 0]\n",
    "res=[]\n",
    "for i in range(4):\n",
    "    res.append(0)\n",
    "    \n",
    "for i in range(4):\n",
    "    for j in range(4):   \n",
    "        res[i]+=CNOT[i][j]*M[j]\n",
    "print(res)"
   ]
  },
  {
   "cell_type": "markdown",
   "metadata": {},
   "source": [
    "<a href=\"B18_Correlation_Solutions.ipynb#task2\">click for our solution</a>"
   ]
  },
  {
   "cell_type": "markdown",
   "metadata": {},
   "source": [
    "<h3> Task 3 </h3>\n",
    "\n",
    "<b>Discussion and analysis:</b>\n",
    "\n",
    "Suppose that Asja and Balvis separate from each other without changing their states. \n",
    "\n",
    "If we see the Asja's coin, then can we guess the state of Balvis' coin, and vice versa? \n",
    "\n",
    "If so, we can say that both bits are correlated to each other."
   ]
  },
  {
   "cell_type": "markdown",
   "metadata": {},
   "source": [
    "<h3>Correlated systems</h3>\n",
    "\n",
    "If the state of a composite system cannot be written as the tensor product of the states of its sub-systems, then we can say that the sub-systems are correlated."
   ]
  },
  {
   "cell_type": "markdown",
   "metadata": {},
   "source": [
    "<h3>Task 4</h3>\n",
    "\n",
    "Show that it is not possible to write $ \\myvector{ \\frac{1}{2} \\\\ 0 \\\\ 0 \\\\ \\frac{1}{2} } $ as $ \\myvector{a\\\\b} \\otimes \\myvector{c\\\\d} $ for some numbers $ a,b,c,$ and $d $.\n",
    "\n",
    "<i>Remark that the correlation in general might not be easily shown as in this basic example. </i>"
   ]
  },
  {
   "cell_type": "markdown",
   "metadata": {},
   "source": [
    "<h4>Solution<h4>\n",
    " $ \\myvector{a\\\\b} \\otimes \\myvector{c\\\\d} = \\myvector{ a  \\myvector{c\\\\d}  \\\\ b  \\myvector{c\\\\d}  } = \\myvector{ ac \\\\ ad \\\\ bc \\\\ bd } $. \n",
    " \n",
    "So, $ac = bd = \\frac{1}{2}$. That's why numbers a, b, c, d are nonzero. But, as we can see, $ad = bc = 0$. It's a contradiction."
   ]
  },
  {
   "cell_type": "markdown",
   "metadata": {},
   "source": [
    "<a href=\"B18_Correlation_Solutions.ipynb#task4\">click for our solution</a>"
   ]
  },
  {
   "cell_type": "markdown",
   "metadata": {},
   "source": [
    "<h3> Correlation with more than two bits</h3>\n",
    "\n",
    "Curie has a 50 cent in state 0. \n",
    "\n",
    "Then, the state of the composite system defined by these three coins will be \n",
    "\n",
    "$ \\mypar{ \\frac{1}{2} \\pstate{00} + \\frac{1}{2} \\pstate{11}  } \\otimes \\pstate{0} = \n",
    "\\frac{1}{2} \\pstate{000} + \\frac{1}{2} \\pstate{110} $.\n",
    "\n",
    "What happens if CNOT operator is applied to Asja's coin and Curie's coin, where Asja's coin is the control one and Curie's coin is the target one?\n",
    "\n",
    "CNOT is an operator defined for two bits. So, it can be applied to any pair of bits. \n",
    "\n",
    "In such a case, the value of any other bit in the composed system does not change.\n",
    "\n",
    "One may ask how its matrix form looks like defined on three bits."
   ]
  },
  {
   "cell_type": "markdown",
   "metadata": {},
   "source": [
    "<h3> Task 5 </h3>\n",
    "\n",
    "Verify that the CNOT operator applied to Asja's and Curie's coins as described above maps the basis states as follows:\n",
    "<ul>\n",
    "    <li> $ \\pstate{000} \\rightarrow \\pstate{000} $ </li>\n",
    "    <li> $ \\pstate{001} \\rightarrow \\pstate{001} $ </li>\n",
    "    <li> $ \\pstate{010} \\rightarrow \\pstate{010} $ </li>\n",
    "    <li> $ \\pstate{011} \\rightarrow \\pstate{011} $ </li>\n",
    "    <li> $ \\pstate{ \\mathbf{\\color{red}{1}} 0  \\mathbf{\\color{blue}{0}} } \\rightarrow \\pstate{ \\mathbf{\\color{red}{1}} 0  \\mathbf{\\color{blue}{1}} }  $ </li>\n",
    "    <li> $ \\pstate{ \\mathbf{\\color{red}{1}} 0  \\mathbf{\\color{blue}{1}} } \\rightarrow \\pstate{ \\mathbf{\\color{red}{1}} 0  \\mathbf{\\color{blue}{0}} }  $ </li>\n",
    "    <li> $ \\pstate{ \\mathbf{\\color{red}{1}} 1  \\mathbf{\\color{blue}{0}} } \\rightarrow \\pstate{ \\mathbf{\\color{red}{1}} 1  \\mathbf{\\color{blue}{1}} }  $ </li>\n",
    "    <li> $ \\pstate{ \\mathbf{\\color{red}{1}} 1  \\mathbf{\\color{blue}{1}} } \\rightarrow \\pstate{ \\mathbf{\\color{red}{1}} 1  \\mathbf{\\color{blue}{0}} }  $ </li>\n",
    "</ul>"
   ]
  },
  {
   "cell_type": "code",
   "execution_count": 37,
   "metadata": {},
   "outputs": [
    {
     "name": "stdout",
     "output_type": "stream",
     "text": [
      "tensor muliply of [1,0], [1,0] and [1,0] is [[1], [0], [0], [0], [0], [0], [0], [0]]\n",
      "tensor muliply of [1,0], [1,0] and [0,1] is [[0], [1], [0], [0], [0], [0], [0], [0]]\n",
      "tensor muliply of [1,0], [0,1] and [1,0] is [[0], [0], [1], [0], [0], [0], [0], [0]]\n",
      "tensor muliply of [1,0], [0,1] and [0,1] is [[0], [0], [0], [1], [0], [0], [0], [0]]\n",
      "tensor muliply of [0,1], [1,0] and [1,0] is [[0], [0], [0], [0], [1], [0], [0], [0]]\n",
      "tensor muliply of [0,1], [1,0] and [0,1] is [[0], [0], [0], [0], [0], [1], [0], [0]]\n",
      "tensor muliply of [0,1], [0,1] and [1,0] is [[0], [0], [0], [0], [0], [0], [1], [0]]\n",
      "tensor muliply of [0,1], [0,1] and [0,1] is [[0], [0], [0], [0], [0], [0], [0], [1]]\n"
     ]
    }
   ],
   "source": [
    "# matrix M0\n",
    "M0 = [[1],[0]]\n",
    "\n",
    "# matrix M1\n",
    "M1 = [[0],[1]]\n",
    "\n",
    "M000=[]\n",
    "M001=[]\n",
    "M010=[]\n",
    "M011=[]\n",
    "M100=[]\n",
    "M101=[]\n",
    "M110=[]\n",
    "M111=[]\n",
    "for i in range(8):\n",
    "    M000.append([0])\n",
    "    M001.append([0])\n",
    "    M010.append([0])\n",
    "    M011.append([0])\n",
    "    M100.append([0])\n",
    "    M101.append([0])\n",
    "    M110.append([0])\n",
    "    M111.append([0])\n",
    "\n",
    "def bitsMultiply(M1,M2,M3):\n",
    "    M_result=[]\n",
    "    M_tmp=[]\n",
    "    \n",
    "    for i in range(4):\n",
    "        M_tmp.append([0])\n",
    "        \n",
    "    for i in range(8):\n",
    "        M_result.append([0])\n",
    "        \n",
    "    for i in range(2): # row of M1\n",
    "        for j in range(1): # column of M1\n",
    "            for k in range(2): # row of M2\n",
    "                for l in range(1): # column of M2\n",
    "                    M_tmp[i*2+k][1*j+l] = M1[i][j] * M2[k][l] \n",
    "    for i in range(4): # row of M_tmp\n",
    "        for j in range(1): # column of M_tmp\n",
    "            for k in range(2): # row of M3\n",
    "                for l in range(1): # column of M3\n",
    "                    M_result[i*2+k][1*j+l] = M_tmp[i][j] * M3[k][l]                \n",
    "    return M_result\n",
    "\n",
    "M000=bitsMultiply(M0,M0,M0)\n",
    "M001=bitsMultiply(M0,M0,M1)\n",
    "M010=bitsMultiply(M0,M1,M0)\n",
    "M011=bitsMultiply(M0,M1,M1)\n",
    "M100=bitsMultiply(M1,M0,M0)\n",
    "M101=bitsMultiply(M1,M0,M1)\n",
    "M110=bitsMultiply(M1,M1,M0)\n",
    "M111=bitsMultiply(M1,M1,M1)\n",
    "\n",
    "\n",
    "print(\"tensor muliply of [1,0], [1,0] and [1,0] is\", M000)\n",
    "print(\"tensor muliply of [1,0], [1,0] and [0,1] is\", M001)\n",
    "print(\"tensor muliply of [1,0], [0,1] and [1,0] is\", M010)\n",
    "print(\"tensor muliply of [1,0], [0,1] and [0,1] is\", M011)\n",
    "print(\"tensor muliply of [0,1], [1,0] and [1,0] is\", M100)\n",
    "print(\"tensor muliply of [0,1], [1,0] and [0,1] is\", M101)\n",
    "print(\"tensor muliply of [0,1], [0,1] and [1,0] is\", M110)\n",
    "print(\"tensor muliply of [0,1], [0,1] and [0,1] is\", M111)"
   ]
  },
  {
   "cell_type": "markdown",
   "metadata": {},
   "source": [
    "<h3> Task 6 </h3>\n",
    "\n",
    "Verify that the described operator in Task 5 has the following matrix form:\n",
    "\n",
    "$$\n",
    "    \\mymatrix{cccc|cccc} {\n",
    "     \\mathbf{1} & 0 & 0 & 0 & 0 & 0 & 0 & 0 \\\\\n",
    "     0 & \\mathbf{1} & 0 & 0 & 0 & 0 & 0 & 0 \\\\\n",
    "     0 & 0 & \\mathbf{1} & 0 & 0 & 0 & 0 & 0 \\\\\n",
    "     0 & 0 & 0 & \\mathbf{1} & 0 & 0 & 0 & 0 \\\\      \n",
    "     \\hline\n",
    "     0 & 0 & 0 & 0 & 0 & \\mathbf{1} & 0 & 0 \\\\\n",
    "     0 & 0 & 0 & 0 & \\mathbf{1} & 0 & 0 & 0 \\\\\n",
    "     0 & 0 & 0 & 0 & 0 & 0 & 0 & \\mathbf{1} \\\\\n",
    "     0 & 0 & 0 & 0 & 0 & 0 & \\mathbf{1} & 0 \\\\\n",
    "    }\n",
    "$$"
   ]
  },
  {
   "cell_type": "code",
   "execution_count": 48,
   "metadata": {},
   "outputs": [
    {
     "name": "stdout",
     "output_type": "stream",
     "text": [
      "[1, 0, 0, 0, 0, 0, 0, 0]\n",
      "[0, 1, 0, 0, 0, 0, 0, 0]\n",
      "[0, 0, 1, 0, 0, 0, 0, 0]\n",
      "[0, 0, 0, 1, 0, 0, 0, 0]\n",
      "[0, 0, 0, 0, 0, 1, 0, 0]\n",
      "[0, 0, 0, 0, 1, 0, 0, 0]\n",
      "[0, 0, 0, 0, 0, 0, 0, 1]\n",
      "[0, 0, 0, 0, 0, 0, 1, 0]\n"
     ]
    }
   ],
   "source": [
    "CNOT = [[1, 0, 0, 0, 0, 0, 0, 0], [0, 1, 0, 0, 0, 0, 0, 0], [0, 0, 1, 0, 0, 0, 0, 0], [0, 0, 0, 1, 0, 0, 0, 0],\n",
    "        [0, 0, 0, 0, 0, 1, 0, 0], [0, 0, 0, 0, 1, 0, 0, 0], [0, 0, 0, 0, 0, 0, 0, 1], [0, 0, 0, 0, 0, 0, 1, 0]]\n",
    "\n",
    "M1 = [1, 0, 0, 0, 0, 0, 0, 0]\n",
    "M2 = [0, 1, 0, 0, 0, 0, 0, 0]\n",
    "M3 = [0, 0, 1, 0, 0, 0, 0, 0]\n",
    "M4 = [0, 0, 0, 1, 0, 0, 0, 0]\n",
    "M5 = [0, 0, 0, 0, 1, 0, 0, 0]\n",
    "M6 = [0, 0, 0, 0, 0, 1, 0, 0]\n",
    "M7 = [0, 0, 0, 0, 0, 0, 1, 0]\n",
    "M8 = [0, 0, 0, 0, 0, 0, 0, 1]\n",
    "    \n",
    "def bitsMultiply8(cnot_op,m):\n",
    "    res=[] \n",
    "    for i in range(8):\n",
    "        res.append(0)\n",
    "    for i in range(8):\n",
    "        for j in range(8):   \n",
    "            res[i]+=cnot_op[i][j]*m[j]\n",
    "    return res\n",
    "\n",
    "print(bitsMultiply8(CNOT,M1))\n",
    "print(bitsMultiply8(CNOT,M2))\n",
    "print(bitsMultiply8(CNOT,M3))\n",
    "print(bitsMultiply8(CNOT,M4))\n",
    "print(bitsMultiply8(CNOT,M5))\n",
    "print(bitsMultiply8(CNOT,M6))\n",
    "print(bitsMultiply8(CNOT,M7))\n",
    "print(bitsMultiply8(CNOT,M8))"
   ]
  },
  {
   "cell_type": "markdown",
   "metadata": {},
   "source": [
    "<h3> Task 7 </h3>\n",
    "\n",
    "Calculate the new state of the correlated system defined on the three bits after the CNOT operator defined in Task 5 or Task6.\n",
    "\n",
    "$ \\frac{1}{2} \\pstate{000} + \\frac{1}{2} \\pstate{110} \\rightarrow ? $"
   ]
  },
  {
   "cell_type": "markdown",
   "metadata": {},
   "source": [
    "<h4>Solution</h4>\n",
    "\n",
    "\n",
    "$ \\frac{1}{2} \\pstate{000} + \\frac{1}{2} \\pstate{\\mathbf{\\color{red}{1}}1\\mathbf{\\color{blue}{0}}} \\rightarrow \\frac{1}{2} \\pstate{000} + \\frac{1}{2}\\pstate{\\mathbf{\\color{red}{1}}1\\mathbf{\\color{blue}{1}}} $."
   ]
  },
  {
   "cell_type": "markdown",
   "metadata": {},
   "source": [
    "<a href=\"B18_Correlation_Solutions.ipynb#task7\">click for our solution</a>"
   ]
  },
  {
   "cell_type": "markdown",
   "metadata": {},
   "source": [
    "<h3> Task 8 </h3>\n",
    "\n",
    "Suppose that Daria had a 10 cent in state 1, and its coin is also combined with the composite system.\n",
    "\n",
    "What is the state of the new composite system?\n",
    "\n",
    "Then, CNOT operator is applied to Curie's coin and Daria's coin, where Curie's coin is the controlled one.\n",
    "\n",
    "What is the new state of the composite system after this CNOT operator?\n",
    "\n",
    "<i>Observe that the correlation with a new bit can be created by applying a CNOT gate between any bit already in the correlation and the new bit, where the new bit is the target one.</i>"
   ]
  },
  {
   "cell_type": "markdown",
   "metadata": {},
   "source": [
    "<h4>Solution</h4>\n",
    "\n",
    "The state of the new composite system is\n",
    "\n",
    "$ \\mypar{ \\frac{1}{2} \\pstate{000} + \\frac{1}{2} \\pstate{111} } \\otimes \\pstate{1} = \\frac{1}{2} \\pstate{0001} + \\frac{1}{2} \\pstate{1111}  $.\n",
    "\n",
    "\n",
    "After applying CNOT defined on the third bit (control) and fourth bit (target):\n",
    "\n",
    "$ \\frac{1}{2} \\pstate{0001} + \\frac{1}{2} \\pstate{11\\mathbf{\\color{red}{1}}\\mathbf{\\color{blue}{1}}} \\rightarrow \\frac{1}{2} \\pstate{0001} + \\frac{1}{2}\\pstate{11\\mathbf{\\color{red}{1}}\\mathbf{\\color{blue}{0}}} $.\n",
    "\n",
    "Now, all four bits are correlated. By seeing the state of any bit, we can know the states of the other bits."
   ]
  },
  {
   "cell_type": "markdown",
   "metadata": {},
   "source": [
    "<a href=\"B18_Correlation_Solutions.ipynb#task8\">click for our solution</a>"
   ]
  }
 ],
 "metadata": {
  "kernelspec": {
   "display_name": "Python 3",
   "language": "python",
   "name": "python3"
  },
  "language_info": {
   "codemirror_mode": {
    "name": "ipython",
    "version": 3
   },
   "file_extension": ".py",
   "mimetype": "text/x-python",
   "name": "python",
   "nbconvert_exporter": "python",
   "pygments_lexer": "ipython3",
   "version": "3.7.3"
  }
 },
 "nbformat": 4,
 "nbformat_minor": 2
}
