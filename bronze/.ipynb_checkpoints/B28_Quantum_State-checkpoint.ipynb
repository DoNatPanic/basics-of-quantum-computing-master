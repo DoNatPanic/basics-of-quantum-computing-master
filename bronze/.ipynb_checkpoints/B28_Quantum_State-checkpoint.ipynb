{
 "cells": [
  {
   "cell_type": "markdown",
   "metadata": {},
   "source": [
    "<table> <tr>\n",
    "        <td  style=\"background-color:#ffffff;\">\n",
    "            <a href=\"http://qworld.lu.lv\" target=\"_blank\"><img src=\"..\\images\\qworld.jpg\" width=\"25%\" align=\"left\"> </a></td>\n",
    "        <td style=\"background-color:#ffffff;vertical-align:bottom;text-align:right;\">\n",
    "            prepared by <a href=\"http://abu.lu.lv\" target=\"_blank\">Abuzer Yakaryilmaz</a> (<a href=\"http://qworld.lu.lv/index.php/qlatvia/\" target=\"_blank\">QLatvia</a>)\n",
    "        </td>        \n",
    "</tr></table>"
   ]
  },
  {
   "cell_type": "markdown",
   "metadata": {},
   "source": [
    "<table width=\"100%\"><tr><td style=\"color:#bbbbbb;background-color:#ffffff;font-size:11px;font-style:italic;text-align:right;\">This cell contains some macros. If there is a problem with displaying mathematical formulas, please run this cell to load these macros. </td></tr></table>\n",
    "$ \\newcommand{\\bra}[1]{\\langle #1|} $\n",
    "$ \\newcommand{\\ket}[1]{|#1\\rangle} $\n",
    "$ \\newcommand{\\braket}[2]{\\langle #1|#2\\rangle} $\n",
    "$ \\newcommand{\\dot}[2]{ #1 \\cdot #2} $\n",
    "$ \\newcommand{\\biginner}[2]{\\left\\langle #1,#2\\right\\rangle} $\n",
    "$ \\newcommand{\\mymatrix}[2]{\\left( \\begin{array}{#1} #2\\end{array} \\right)} $\n",
    "$ \\newcommand{\\myvector}[1]{\\mymatrix{c}{#1}} $\n",
    "$ \\newcommand{\\myrvector}[1]{\\mymatrix{r}{#1}} $\n",
    "$ \\newcommand{\\mypar}[1]{\\left( #1 \\right)} $\n",
    "$ \\newcommand{\\mybigpar}[1]{ \\Big( #1 \\Big)} $\n",
    "$ \\newcommand{\\sqrttwo}{\\frac{1}{\\sqrt{2}}} $\n",
    "$ \\newcommand{\\dsqrttwo}{\\dfrac{1}{\\sqrt{2}}} $\n",
    "$ \\newcommand{\\onehalf}{\\frac{1}{2}} $\n",
    "$ \\newcommand{\\donehalf}{\\dfrac{1}{2}} $\n",
    "$ \\newcommand{\\hadamard}{ \\mymatrix{rr}{ \\sqrttwo & \\sqrttwo \\\\ \\sqrttwo & -\\sqrttwo }} $\n",
    "$ \\newcommand{\\vzero}{\\myvector{1\\\\0}} $\n",
    "$ \\newcommand{\\vone}{\\myvector{0\\\\1}} $\n",
    "$ \\newcommand{\\vhadamardzero}{\\myvector{ \\sqrttwo \\\\  \\sqrttwo } } $\n",
    "$ \\newcommand{\\vhadamardone}{ \\myrvector{ \\sqrttwo \\\\ -\\sqrttwo } } $\n",
    "$ \\newcommand{\\myarray}[2]{ \\begin{array}{#1}#2\\end{array}} $\n",
    "$ \\newcommand{\\X}{ \\mymatrix{cc}{0 & 1 \\\\ 1 & 0}  } $\n",
    "$ \\newcommand{\\Z}{ \\mymatrix{rr}{1 & 0 \\\\ 0 & -1}  } $\n",
    "$ \\newcommand{\\Htwo}{ \\mymatrix{rrrr}{ \\frac{1}{2} & \\frac{1}{2} & \\frac{1}{2} & \\frac{1}{2} \\\\ \\frac{1}{2} & -\\frac{1}{2} & \\frac{1}{2} & -\\frac{1}{2} \\\\ \\frac{1}{2} & \\frac{1}{2} & -\\frac{1}{2} & -\\frac{1}{2} \\\\ \\frac{1}{2} & -\\frac{1}{2} & -\\frac{1}{2} & \\frac{1}{2} } } $\n",
    "$ \\newcommand{\\CNOT}{ \\mymatrix{cccc}{1 & 0 & 0 & 0 \\\\ 0 & 1 & 0 & 0 \\\\ 0 & 0 & 0 & 1 \\\\ 0 & 0 & 1 & 0} } $\n",
    "$ \\newcommand{\\norm}[1]{ \\left\\lVert #1 \\right\\rVert } $\n",
    "$ \\newcommand{\\pstate}[1]{ \\lceil \\mspace{-1mu} #1 \\mspace{-1.5mu} \\rfloor } $"
   ]
  },
  {
   "cell_type": "markdown",
   "metadata": {},
   "source": [
    "<h2>Quantum State</h2>\n",
    "\n",
    "_The overall probability must be 1 when we observe a quantum system._\n",
    "\n",
    "For example, the following vectors <u>cannot</u> be a valid quantum state:\n",
    "\n",
    "$$\n",
    "    \\myvector{ \\frac{1}{2} \\\\ \\frac{1}{2} } \n",
    "    \\mbox{ and }\n",
    "    \\myvector{ \\frac{\\sqrt{3}}{2} \\\\ \\frac{1}{\\sqrt{2}} }.\n",
    "$$\n",
    "\n",
    "For the first vector, the probabilities of observing the states $\\ket{0} $ and $ \\ket{1} $ are $ \\frac{1}{4} $. \n",
    "\n",
    "So, the overall probability of getting a result is $ \\frac{1}{4} + \\frac{1}{4} = \\frac{1}{2} $, which is less than 1.\n",
    "\n",
    "For the second vector, the probabilities of observing the states $\\ket{0} $ and $ \\ket{1} $ are respectively $ \\frac{3}{4} $ and $ \\frac{1}{2} $. \n",
    "\n",
    "So, the overall probability of getting a result is $ \\frac{3}{4} + \\frac{1}{2} = \\frac{5}{4} $, which is greater than 1."
   ]
  },
  {
   "cell_type": "markdown",
   "metadata": {},
   "source": [
    "<font color=\"blue\"><b>The summation of amplitude squares must be 1 for a valid quantum state.</b></font>"
   ]
  },
  {
   "cell_type": "markdown",
   "metadata": {},
   "source": [
    "<font color=\"blue\"><b>More formally, a quantum state can be represented by a vector having length 1, and vice versa.</b></font>\n",
    "\n",
    "<i>The summation of amplitude squares gives the square of the length of vector.\n",
    "\n",
    "But, this summation is 1, and its square root is also 1. So, we can use the term <u>length</u> in the defintion.</i>"
   ]
  },
  {
   "cell_type": "markdown",
   "metadata": {},
   "source": [
    "<i> <b>Technical notes:</b> We represent a quantum state as $ \\ket{u} $ instead of $ u $. Remember the relation between the length and dot product: $ \\norm{u} = \\sqrt{\\dot{u}{u}} $. \n",
    "    \n",
    "In quantum computation, we use inner product instead of dot product, which is defined on complex numbers. By using bra-ket notation, $ \\norm{ \\ket{u} } = \\sqrt{ \\braket{u}{u} } = 1 $, or equivalently $ \\braket{u}{u} = 1 $, where $ \\braket{u}{u} $ is a short form of $ \\bra{u}\\ket{u} $. For real-valued vectors, $ \\braket{v}{v} = \\dot{v}{v}  $.\n",
    "</i>"
   ]
  },
  {
   "cell_type": "markdown",
   "metadata": {},
   "source": [
    "<h3> Task 1 </h3>\n",
    "\n",
    "If the following vectors are valid quantum states defined with real numbers, then what can be the values of $a$ and $b$?\n",
    "\n",
    "$$\n",
    "    \\ket{v} = \\myrvector{a \\\\ -0.1 \\\\ -0.3 \\\\ 0.4 \\\\ 0.5}\n",
    "    ~~~~~ \\mbox{and} ~~~~~\n",
    "   \\ket{u} = \\myrvector{ \\frac{1}{\\sqrt{2}} \\\\ \\frac{1}{\\sqrt{b}} \\\\ -\\frac{1}{\\sqrt{3}} }.\n",
    "$$"
   ]
  },
  {
   "cell_type": "code",
   "execution_count": 12,
   "metadata": {},
   "outputs": [
    {
     "name": "stdout",
     "output_type": "stream",
     "text": [
      "a^2 =  0.49\n",
      "a = +/- 0.7\n",
      "\n",
      "1/b =  0.16666666666666674\n",
      "b =  5.999999999999997\n"
     ]
    }
   ],
   "source": [
    "v = [-0.1, -0.3, 0.4, 0.5]\n",
    "\n",
    "sum_of_squares = 0 \n",
    "for i in range(len(v)):\n",
    "    sum_of_squares += v[i]**2;\n",
    "print(\"a^2 = \",1-sum_of_squares)\n",
    "print(\"a = +/-\",(1-sum_of_squares)**0.5)\n",
    "\n",
    "print()\n",
    "\n",
    "u = [1/(2**0.5), -1/(3**0.5)]\n",
    "\n",
    "sum_of_squares = 0\n",
    "for i in range(len(u)):\n",
    "    sum_of_squares += u[i]**2;\n",
    "print(\"1/b = \",1-sum_of_squares)\n",
    "print(\"b = \",1/(1-sum_of_squares))\n",
    "\n"
   ]
  },
  {
   "cell_type": "markdown",
   "metadata": {},
   "source": [
    "<a href=\"B28_Quantum_State_Solutions.ipynb#task1\">click for our solution</a>"
   ]
  },
  {
   "cell_type": "markdown",
   "metadata": {},
   "source": [
    "<h3> Quantum Operators </h3>\n",
    "\n",
    "Once the quantum state is defined, the definition of quantum operator is very easy.\n",
    "\n",
    "<font color=\"blue\"><b>Any length preserving (square) matrix is a quantum operator, and vice versa.</b></font>"
   ]
  },
  {
   "cell_type": "markdown",
   "metadata": {},
   "source": [
    "<a id=\"task2\"></a>\n",
    "<h3> Task 2</h3>\n",
    "\n",
    "Remember Hadamard operator:\n",
    "\n",
    "$$\n",
    "    H = \\hadamard.\n",
    "$$"
   ]
  },
  {
   "cell_type": "markdown",
   "metadata": {},
   "source": [
    "Randomly create a 2-dimensional quantum state, and test whether Hadamard operator preserves its length or not.\n",
    "\n",
    "<b>Write a function</b> that returns a randomly created 2-dimensional quantum state.\n",
    "\n",
    "<i>Hint:\n",
    "<ul>\n",
    "    <li> Pick two random values between -100 and 100 for the amplitudes of state 0 and state 1 </li>\n",
    "    <li> Find an appropriate normalization factor to divide each amplitude such that the length of quantum state should be 1 </li>\n",
    "</ul>\n",
    "</i>"
   ]
  },
  {
   "cell_type": "markdown",
   "metadata": {},
   "source": [
    "<b>Write a function</b> that determines whether a given vector is a valid quantum state or not.\n",
    "\n",
    "(Due to precision problem, the summation of squares may not be exactly 1 but very close to 1, e.g., 0.9999999999999998.)\n",
    "\n",
    "<b>Repeat 10 times:</b>\n",
    "<ul>\n",
    "    <li> Randomly picked a quantum state </li>\n",
    "    <li> Check whether the picked quantum state is valid </li>\n",
    "    <li> Multiply Hadamard matrix with the randomly created quantum state </li>\n",
    "    <li> Check whether the quantum state in result is valid </li>\n",
    "</ul>"
   ]
  },
  {
   "cell_type": "code",
   "execution_count": 18,
   "metadata": {},
   "outputs": [
    {
     "name": "stdout",
     "output_type": "stream",
     "text": [
      "[0.5820475906299051, 0.8131547222035438]\n"
     ]
    }
   ],
   "source": [
    "from random import randrange\n",
    "\n",
    "#Randomly picked a quantum state\n",
    "def random_quantum_state():\n",
    "    quantum_state=[0,0]\n",
    "    quantum_state[0] = randrange(-100,101)\n",
    "    quantum_state[1] = randrange(-100,101)\n",
    "    length = (quantum_state[0]**2+quantum_state[1]**2)**0.5\n",
    "    for i in range(2):\n",
    "        quantum_state[i] = quantum_state[i]/length\n",
    "    return quantum_state\n",
    "\n",
    "picked_quantum_state=random_quantum_state()\n",
    "print(picked_quantum_state)"
   ]
  },
  {
   "cell_type": "code",
   "execution_count": 30,
   "metadata": {},
   "outputs": [
    {
     "name": "stdout",
     "output_type": "stream",
     "text": [
      "True\n"
     ]
    }
   ],
   "source": [
    "#Check whether the picked quantum state is valid\n",
    "def is_quantum_state(quantum_state):\n",
    "    length_square = 0\n",
    "    for i in range(len(quantum_state)):\n",
    "        length_square += quantum_state[i]**2\n",
    "    if (length_square - 1)**2 < 10e-6: return True \n",
    "    return False \n",
    "\n",
    "print(is_quantum_state(picked_quantum_state))"
   ]
  },
  {
   "cell_type": "code",
   "execution_count": 29,
   "metadata": {},
   "outputs": [
    {
     "name": "stdout",
     "output_type": "stream",
     "text": [
      "[0.9865570165316865, -0.16341741991629155]\n",
      "True\n"
     ]
    }
   ],
   "source": [
    "#Multiply Hadamard matrix with the randomly created quantum state\n",
    "def hadamard(quantum_state):\n",
    "    result_quantum_state = [0,0] # define with zero entries\n",
    "    result_quantum_state[0] = (1/(2**0.5)) * quantum_state[0] + (1/(2**0.5)) * quantum_state[1]\n",
    "    result_quantum_state[1] = (1/(2**0.5)) * quantum_state[0] - (1/(2**0.5)) * quantum_state[1]\n",
    "    return result_quantum_state\n",
    "\n",
    "new_quantum_state = hadamard(picked_quantum_state)\n",
    "print(new_quantum_state)\n",
    "print(is_quantum_state(new_quantum_state))"
   ]
  },
  {
   "cell_type": "code",
   "execution_count": 36,
   "metadata": {},
   "outputs": [
    {
     "name": "stdout",
     "output_type": "stream",
     "text": [
      "Sample № 1\n",
      "Quantum state  [0.5820475906299051, 0.8131547222035438]  is  True\n",
      "State after Hadamard operator  [0.9865570165316865, -0.16341741991629155]  is  True\n",
      "Sample № 2\n",
      "Quantum state  [0.5820475906299051, 0.8131547222035438]  is  True\n",
      "State after Hadamard operator  [0.9865570165316865, -0.16341741991629155]  is  True\n",
      "Sample № 3\n",
      "Quantum state  [0.5820475906299051, 0.8131547222035438]  is  True\n",
      "State after Hadamard operator  [0.9865570165316865, -0.16341741991629155]  is  True\n",
      "Sample № 4\n",
      "Quantum state  [0.5820475906299051, 0.8131547222035438]  is  True\n",
      "State after Hadamard operator  [0.9865570165316865, -0.16341741991629155]  is  True\n",
      "Sample № 5\n",
      "Quantum state  [0.5820475906299051, 0.8131547222035438]  is  True\n",
      "State after Hadamard operator  [0.9865570165316865, -0.16341741991629155]  is  True\n",
      "Sample № 6\n",
      "Quantum state  [0.5820475906299051, 0.8131547222035438]  is  True\n",
      "State after Hadamard operator  [0.9865570165316865, -0.16341741991629155]  is  True\n",
      "Sample № 7\n",
      "Quantum state  [0.5820475906299051, 0.8131547222035438]  is  True\n",
      "State after Hadamard operator  [0.9865570165316865, -0.16341741991629155]  is  True\n",
      "Sample № 8\n",
      "Quantum state  [0.5820475906299051, 0.8131547222035438]  is  True\n",
      "State after Hadamard operator  [0.9865570165316865, -0.16341741991629155]  is  True\n",
      "Sample № 9\n",
      "Quantum state  [0.5820475906299051, 0.8131547222035438]  is  True\n",
      "State after Hadamard operator  [0.9865570165316865, -0.16341741991629155]  is  True\n",
      "Sample № 10\n",
      "Quantum state  [0.5820475906299051, 0.8131547222035438]  is  True\n",
      "State after Hadamard operator  [0.9865570165316865, -0.16341741991629155]  is  True\n"
     ]
    }
   ],
   "source": [
    "#Lets repeat for 10 times:\n",
    "for i in range(10):\n",
    "    print(\"Sample №\", i + 1)\n",
    "    print(\"Quantum state \", picked_quantum_state, \" is \", is_quantum_state(picked_quantum_state))\n",
    "    print(\"State after Hadamard operator \", new_quantum_state, \" is \", is_quantum_state(new_quantum_state))"
   ]
  },
  {
   "cell_type": "markdown",
   "metadata": {},
   "source": [
    "<a href=\"B28_Quantum_State_Solutions.ipynb#task2\">click for our solution</a>"
   ]
  }
 ],
 "metadata": {
  "kernelspec": {
   "display_name": "Python 3",
   "language": "python",
   "name": "python3"
  },
  "language_info": {
   "codemirror_mode": {
    "name": "ipython",
    "version": 3
   },
   "file_extension": ".py",
   "mimetype": "text/x-python",
   "name": "python",
   "nbconvert_exporter": "python",
   "pygments_lexer": "ipython3",
   "version": "3.7.3"
  }
 },
 "nbformat": 4,
 "nbformat_minor": 2
}
