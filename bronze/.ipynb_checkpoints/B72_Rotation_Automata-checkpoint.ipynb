{
 "cells": [
  {
   "cell_type": "markdown",
   "metadata": {},
   "source": [
    "<table>\n",
    "    <tr>\n",
    "        <td  style=\"background-color:#ffffff;\"><a href=\"https://qsoftware.lu.lv/index.php/qworld/\" target=\"_blank\"><img src=\"..\\images\\qworld.jpg\" width=\"70%\" align=\"left\"></a></td>\n",
    "        <td style=\"background-color:#ffffff;\" width=\"*\"></td>\n",
    "        <td  style=\"background-color:#ffffff;vertical-align:text-top;\"><a href=\"https://qsoftware.lu.lv\" target=\"_blank\"><img src=\"..\\images\\logo.jpg\" width=\"25%\" align=\"right\"></a></td>        \n",
    "    </tr>\n",
    "    <tr><td colspan=\"3\" align=\"right\" style=\"color:#777777;background-color:#ffffff;font-size:12px;\">\n",
    "        prepared by <a href=\"http://abu.lu.lv\" target=\"_blank\">Abuzer Yakaryilmaz</a>\n",
    "    </td></tr>\n",
    "    <tr><td colspan=\"3\" align=\"right\" style=\"color:#bbbbbb;background-color:#ffffff;font-size:11px;font-style:italic;\">\n",
    "        This cell contains some macros. If there is a problem with displaying mathematical formulas, please run this cell to load these macros.\n",
    "    </td></tr>\n",
    "</table>\n",
    "$ \\newcommand{\\bra}[1]{\\langle #1|} $\n",
    "$ \\newcommand{\\ket}[1]{|#1\\rangle} $\n",
    "$ \\newcommand{\\braket}[2]{\\langle #1|#2\\rangle} $\n",
    "$ \\newcommand{\\dot}[2]{ #1 \\cdot #2} $\n",
    "$ \\newcommand{\\biginner}[2]{\\left\\langle #1,#2\\right\\rangle} $\n",
    "$ \\newcommand{\\mymatrix}[2]{\\left( \\begin{array}{#1} #2\\end{array} \\right)} $\n",
    "$ \\newcommand{\\myvector}[1]{\\mymatrix{c}{#1}} $\n",
    "$ \\newcommand{\\myrvector}[1]{\\mymatrix{r}{#1}} $\n",
    "$ \\newcommand{\\mypar}[1]{\\left( #1 \\right)} $\n",
    "$ \\newcommand{\\mybigpar}[1]{ \\Big( #1 \\Big)} $\n",
    "$ \\newcommand{\\sqrttwo}{\\frac{1}{\\sqrt{2}}} $\n",
    "$ \\newcommand{\\dsqrttwo}{\\dfrac{1}{\\sqrt{2}}} $\n",
    "$ \\newcommand{\\onehalf}{\\frac{1}{2}} $\n",
    "$ \\newcommand{\\donehalf}{\\dfrac{1}{2}} $\n",
    "$ \\newcommand{\\hadamard}{ \\mymatrix{rr}{ \\sqrttwo & \\sqrttwo \\\\ \\sqrttwo & -\\sqrttwo }} $\n",
    "$ \\newcommand{\\vzero}{\\myvector{1\\\\0}} $\n",
    "$ \\newcommand{\\vone}{\\myvector{0\\\\1}} $\n",
    "$ \\newcommand{\\vhadamardzero}{\\myvector{ \\sqrttwo \\\\  \\sqrttwo } } $\n",
    "$ \\newcommand{\\vhadamardone}{ \\myrvector{ \\sqrttwo \\\\ -\\sqrttwo } } $\n",
    "$ \\newcommand{\\myarray}[2]{ \\begin{array}{#1}#2\\end{array}} $\n",
    "$ \\newcommand{\\X}{ \\mymatrix{cc}{0 & 1 \\\\ 1 & 0}  } $\n",
    "$ \\newcommand{\\Z}{ \\mymatrix{rr}{1 & 0 \\\\ 0 & -1}  } $\n",
    "$ \\newcommand{\\Htwo}{ \\mymatrix{rrrr}{ \\frac{1}{2} & \\frac{1}{2} & \\frac{1}{2} & \\frac{1}{2} \\\\ \\frac{1}{2} & -\\frac{1}{2} & \\frac{1}{2} & -\\frac{1}{2} \\\\ \\frac{1}{2} & \\frac{1}{2} & -\\frac{1}{2} & -\\frac{1}{2} \\\\ \\frac{1}{2} & -\\frac{1}{2} & -\\frac{1}{2} & \\frac{1}{2} } } $\n",
    "$ \\newcommand{\\CNOT}{ \\mymatrix{cccc}{1 & 0 & 0 & 0 \\\\ 0 & 1 & 0 & 0 \\\\ 0 & 0 & 0 & 1 \\\\ 0 & 0 & 1 & 0} } $\n",
    "$ \\newcommand{\\norm}[1]{ \\left\\lVert #1 \\right\\rVert } $"
   ]
  },
  {
   "cell_type": "markdown",
   "metadata": {},
   "source": [
    "<h2>Rotation Automata</h2>"
   ]
  },
  {
   "cell_type": "markdown",
   "metadata": {},
   "source": [
    "A rotation automaton is a decider. It makes decisions on the stream of symbols. We focus on the streams composed by symbol $ a $'s. So, the decisions will be basically about the lengths of streams.\n",
    "\n",
    "We start with rotation automata having single qubits that are initialized to $ \\ket{0} $.\n",
    "\n",
    "We fix a rotation angle, and we apply this rotation for each symbol. \n",
    "\n",
    "After reading the stream, we make a measurement. If the outcome is '0', then we give one answer, and, if the outcome is '1', then we give another answer.  \n",
    "\n",
    "Our aim is to make correct decisions on the streams as good as possible."
   ]
  },
  {
   "cell_type": "markdown",
   "metadata": {},
   "source": [
    "<h3> A trivial promise problem </h3>\n",
    "\n",
    "The number of $a$'s is a multiple of $ 8 $.\n",
    "\n",
    "For each symbol $a$, we apply the rotation with angle $ \\pi/16 $.\n",
    "\n",
    "In this way, we can exactly (zero-error) separate the streams having even multiples of $ 8 $ $a$'s from the streams having odd multiples of $ 8 $ $a$'s."
   ]
  },
  {
   "cell_type": "code",
   "execution_count": 1,
   "metadata": {},
   "outputs": [
    {
     "name": "stdout",
     "output_type": "stream",
     "text": [
      "8 is odd multiple of 8\n",
      "stream of lenght 8 -> {'1': 100}\n",
      "\n",
      "16 is even multiple of 8\n",
      "stream of lenght 16 -> {'0': 100}\n",
      "\n",
      "24 is odd multiple of 8\n",
      "stream of lenght 24 -> {'1': 100}\n",
      "\n",
      "32 is even multiple of 8\n",
      "stream of lenght 32 -> {'0': 100}\n",
      "\n",
      "40 is odd multiple of 8\n",
      "stream of lenght 40 -> {'1': 100}\n",
      "\n",
      "48 is even multiple of 8\n",
      "stream of lenght 48 -> {'0': 100}\n",
      "\n",
      "56 is odd multiple of 8\n",
      "stream of lenght 56 -> {'1': 100}\n",
      "\n",
      "64 is even multiple of 8\n",
      "stream of lenght 64 -> {'0': 100}\n",
      "\n"
     ]
    }
   ],
   "source": [
    "from qiskit import QuantumRegister, ClassicalRegister, QuantumCircuit, execute, Aer\n",
    "from math import pi\n",
    "\n",
    "# the angle of rotation\n",
    "theta = pi/16\n",
    "\n",
    "# we read streams of length 8, 16, 24, 32, 40, 48, 56, 64\n",
    "for i in [8, 16, 24, 32, 40, 48, 56, 64]:\n",
    "    # quantum circuit with one qubit and one bit\n",
    "    qreg =  QuantumRegister(1) \n",
    "    creg = ClassicalRegister(1) \n",
    "    mycircuit = QuantumCircuit(qreg,creg)\n",
    "    # the stream of length i\n",
    "    for j in range(i):\n",
    "        mycircuit.ry(2*theta,qreg[0]) # apply one rotation for each symbol\n",
    "    # we measure after reading the whole stream\n",
    "    mycircuit.measure(qreg[0],creg[0])\n",
    "    # execute the circuit 100 times\n",
    "    job = execute(mycircuit,Aer.get_backend('qasm_simulator'),shots=100)\n",
    "    counts = job.result().get_counts(mycircuit)\n",
    "    d = i /8\n",
    "    if d % 2 == 0: print(i,\"is even multiple of 8\")\n",
    "    else: print(i,\"is odd multiple of 8\")\n",
    "    print(\"stream of lenght\",i,\"->\",counts)\n",
    "    print()\n",
    "    \n"
   ]
  },
  {
   "cell_type": "markdown",
   "metadata": {},
   "source": [
    "<b> Remark:</b> For the same problem, we need at least 4 classical bits. \n",
    "\n",
    "When changing the parameter $2^3$ to $ 2^k $, we can still use a single qubit. On the other hand, we need at least $ (k+1) $ classical bits."
   ]
  },
  {
   "cell_type": "markdown",
   "metadata": {},
   "source": [
    "<h3>Task 1</h3>\n",
    "\n",
    "Do the same task given above by using different angles.\n",
    "\n",
    "Test at least three different angles. \n",
    "\n",
    "Please modify the code above."
   ]
  },
  {
   "cell_type": "code",
   "execution_count": 6,
   "metadata": {},
   "outputs": [
    {
     "name": "stdout",
     "output_type": "stream",
     "text": [
      "8 is odd multiple of 8\n",
      "stream of lenght 8 -> {'1': 100}\n",
      "\n",
      "16 is even multiple of 8\n",
      "stream of lenght 16 -> {'0': 100}\n",
      "\n",
      "24 is odd multiple of 8\n",
      "stream of lenght 24 -> {'1': 100}\n",
      "\n",
      "32 is even multiple of 8\n",
      "stream of lenght 32 -> {'0': 100}\n",
      "\n",
      "40 is odd multiple of 8\n",
      "stream of lenght 40 -> {'1': 100}\n",
      "\n",
      "48 is even multiple of 8\n",
      "stream of lenght 48 -> {'0': 100}\n",
      "\n",
      "56 is odd multiple of 8\n",
      "stream of lenght 56 -> {'1': 100}\n",
      "\n",
      "64 is even multiple of 8\n",
      "stream of lenght 64 -> {'0': 100}\n",
      "\n"
     ]
    }
   ],
   "source": [
    "from qiskit import QuantumRegister, ClassicalRegister, QuantumCircuit, execute, Aer\n",
    "from math import pi\n",
    "\n",
    "# the angle of rotation\n",
    "theta = 3*pi/16 # 5*pi/16, 7*pi/16\n",
    "\n",
    "# we read streams of length 8, 16, 24, 32, 40, 48, 56, 64\n",
    "for i in [8, 16, 24, 32, 40, 48, 56, 64]:\n",
    "    # quantum circuit with one qubit and one bit\n",
    "    qreg =  QuantumRegister(1) \n",
    "    creg = ClassicalRegister(1) \n",
    "    mycircuit = QuantumCircuit(qreg,creg)\n",
    "    # the stream of length i\n",
    "    for j in range(i):\n",
    "        mycircuit.ry(2*theta,qreg[0]) # apply one rotation for each symbol\n",
    "    # we measure after reading the whole stream\n",
    "    mycircuit.measure(qreg[0],creg[0])\n",
    "    # execute the circuit 100 times\n",
    "    job = execute(mycircuit,Aer.get_backend('qasm_simulator'),shots=100)\n",
    "    counts = job.result().get_counts(mycircuit)\n",
    "    d = i /8\n",
    "    if d % 2 == 0: print(i,\"is even multiple of 8\")\n",
    "    else: print(i,\"is odd multiple of 8\")\n",
    "    print(\"stream of lenght\",i,\"->\",counts)\n",
    "    print()"
   ]
  },
  {
   "cell_type": "markdown",
   "metadata": {},
   "source": [
    "<a href=\"B72_Rotation_Automata_Solutions.ipynb#task1\">click for our solution</a>"
   ]
  },
  {
   "cell_type": "markdown",
   "metadata": {},
   "source": [
    "<h3>$ \\mathsf{MOD_p} $</h3>\n",
    "\n",
    "Now, we consider a more general problem called $ \\mathsf{MOD_p} $, where $\\sf p$ is a prime number.\n",
    "\n",
    "We will read a stream of symbols $a$. The number of $a$'s can be arbitrary.\n",
    "\n",
    "For each symbol, we apply a rotation.\n",
    "\n",
    "Our aim is to separate the streams whose length is a multiple of $ \\sf p $ from the other streams. \n",
    "\n",
    "<b>We design a good decider step by step.</b>\n",
    "\n",
    "<i>Remark that each $ p $ defines a different problem.</i>"
   ]
  },
  {
   "cell_type": "markdown",
   "metadata": {},
   "source": [
    "<h3>Task 2</h3>\n",
    "\n",
    "Let $ \\mathsf{p} = 11 $.\n",
    "\n",
    "Determine an angle of rotation such that when the length of stream is a multiple of $ \\sf p $, then we observe only state $ 0 $, and we can also observe state $ 1 $, otherwise.\n",
    "\n",
    "Test your rotation by using a quantum circuit. Execute the circuit for all streams of lengths from 1 to 11."
   ]
  },
  {
   "cell_type": "code",
   "execution_count": 4,
   "metadata": {},
   "outputs": [
    {
     "name": "stdout",
     "output_type": "stream",
     "text": [
      "the picked angle is 4 times of 2pi/11\n",
      "\n",
      "stream of lenght 1 -> {'0': 172, '1': 828}\n",
      "stream of lenght 2 -> {'0': 401, '1': 599}\n",
      "stream of lenght 3 -> {'0': 917, '1': 83}\n",
      "stream of lenght 4 -> {'0': 21, '1': 979}\n",
      "stream of lenght 5 -> {'0': 732, '1': 268}\n",
      "stream of lenght 6 -> {'0': 727, '1': 273}\n",
      "stream of lenght 7 -> {'0': 18, '1': 982}\n",
      "stream of lenght 8 -> {'0': 909, '1': 91}\n",
      "stream of lenght 9 -> {'0': 414, '1': 586}\n",
      "stream of lenght 10 -> {'0': 175, '1': 825}\n",
      "stream of lenght 11 -> {'0': 1000}\n"
     ]
    }
   ],
   "source": [
    "from qiskit import QuantumRegister, ClassicalRegister, QuantumCircuit, execute, Aer\n",
    "from math import pi\n",
    "from random import randrange\n",
    "\n",
    "# the angle of rotation\n",
    "r = randrange(1,11)\n",
    "print(\"the picked angle is\",r,\"times of pi/11\")\n",
    "print()  \n",
    "theta = r*pi/11\n",
    "\n",
    "# we read streams of length from 1 to 11\n",
    "for i in range(1,12):\n",
    "    # quantum circuit with one qubit and one bit\n",
    "    qreg =  QuantumRegister(1) \n",
    "    creg = ClassicalRegister(1) \n",
    "    mycircuit = QuantumCircuit(qreg,creg)\n",
    "    # the stream of length i\n",
    "    for j in range(i):\n",
    "        mycircuit.ry(2*theta,qreg[0]) # apply one rotation for each symbol\n",
    "    # we measure after reading the whole stream\n",
    "    mycircuit.measure(qreg[0],creg[0])\n",
    "    # execute the circuit 1000 times\n",
    "    job = execute(mycircuit,Aer.get_backend('qasm_simulator'),shots=1000)\n",
    "    counts = job.result().get_counts(mycircuit)\n",
    "    print(\"stream of lenght\",i,\"->\",counts)\n",
    "    "
   ]
  },
  {
   "cell_type": "markdown",
   "metadata": {},
   "source": [
    "<a href=\"B72_Rotation_Automata_Solutions.ipynb#task2\">click for our solution</a>"
   ]
  },
  {
   "cell_type": "markdown",
   "metadata": {},
   "source": [
    "<h3> Observation</h3>\n",
    "\n",
    "For some streams of lengths from 1 to 10, we observe state $\\ket{1}$ only for a few times.\n",
    "\n",
    "This is definitely not desirable if we wish to distinguish the lengths that are multiple of $\\sf p$ from the rest with high probability."
   ]
  },
  {
   "cell_type": "markdown",
   "metadata": {},
   "source": [
    "<h3>Task 3</h3>\n",
    "\n",
    "List down 10 possible different angles for Task 2, where each angle should be between 0 and $2\\pi$."
   ]
  },
  {
   "cell_type": "markdown",
   "metadata": {},
   "source": [
    "Solution\n",
    "\n",
    "$ k\\frac{2\\pi}{11} $ for $ k \\in \\{1,\\ldots,10\\} $."
   ]
  },
  {
   "cell_type": "markdown",
   "metadata": {},
   "source": [
    "<a href=\"B72_Rotation_Automata_Solutions.ipynb#task3\">click for our solution</a>"
   ]
  },
  {
   "cell_type": "markdown",
   "metadata": {},
   "source": [
    "<h3>Task 4</h3>\n",
    "\n",
    "For each stream of length from 1 to 10, determine the best angle of rotation by using your circuit."
   ]
  },
  {
   "cell_type": "code",
   "execution_count": 7,
   "metadata": {},
   "outputs": [
    {
     "name": "stdout",
     "output_type": "stream",
     "text": [
      "length 1-> 1:295  2:822  3:961  4:597  5:95  6:77  7:585  8:980  9:824  10:320  \n",
      "for length 1 , the best k is 8\n",
      "\n",
      "length 2-> 1:838  2:571  3:92  4:979  5:321  6:295  7:980  8:76  9:592  10:821  \n",
      "for length 2 , the best k is 7\n",
      "\n",
      "length 3-> 1:986  2:81  3:844  4:279  5:572  6:593  7:276  8:820  9:80  10:979  \n",
      "for length 3 , the best k is 1\n",
      "\n",
      "length 4-> 1:561  2:982  3:275  4:96  5:839  6:811  7:87  8:308  9:978  10:607  \n",
      "for length 4 , the best k is 2\n",
      "\n",
      "length 5-> 1:84  2:299  3:554  4:825  5:983  6:974  7:822  8:576  9:313  10:75  \n",
      "for length 5 , the best k is 5\n",
      "\n",
      "length 6-> 1:74  2:328  3:608  4:824  5:970  6:980  7:836  8:594  9:300  10:79  \n",
      "for length 6 , the best k is 6\n",
      "\n",
      "length 7-> 1:546  2:979  3:312  4:83  5:829  6:819  7:75  8:287  9:984  10:571  \n",
      "for length 7 , the best k is 9\n",
      "\n",
      "length 8-> 1:980  2:79  3:809  4:301  5:590  6:554  7:318  8:831  9:69  10:978  \n",
      "for length 8 , the best k is 1\n",
      "\n",
      "length 9-> 1:827  2:543  3:87  4:977  5:298  6:272  7:979  8:79  9:580  10:855  \n",
      "for length 9 , the best k is 7\n",
      "\n",
      "length 10-> 1:303  2:827  3:981  4:567  5:83  6:68  7:534  8:977  9:839  10:269  \n",
      "for length 10 , the best k is 3\n",
      "\n"
     ]
    }
   ],
   "source": [
    "from qiskit import QuantumRegister, ClassicalRegister, QuantumCircuit, execute, Aer\n",
    "from math import pi\n",
    "from random import randrange\n",
    "\n",
    "# for each stream of length from 1 to 10\n",
    "for i in range(1,11):\n",
    "    number_of_one_state = 0\n",
    "    best_k = 1\n",
    "    all_outcomes_for_i = \"length \"+str(i)+\"-> \"\n",
    "    for k in range(1,11):\n",
    "        theta = k*2*pi/11\n",
    "        # quantum circuit with one qubit and one bit\n",
    "        qreg =  QuantumRegister(1) \n",
    "        creg = ClassicalRegister(1) \n",
    "        mycircuit = QuantumCircuit(qreg,creg)\n",
    "        # the stream of length i\n",
    "        for j in range(i):\n",
    "            mycircuit.ry(2*theta,qreg[0]) # apply one rotation for each symbol\n",
    "            # we measure after reading the whole stream\n",
    "        mycircuit.measure(qreg[0],creg[0])\n",
    "        # execute the circuit 10000 times\n",
    "        job = execute(mycircuit,Aer.get_backend('qasm_simulator'),shots=1000)\n",
    "        counts = job.result().get_counts(mycircuit)\n",
    "        all_outcomes_for_i = all_outcomes_for_i + str(k)+ \":\" + str(counts['1']) + \"  \"\n",
    "        if int(counts['1']) > number_of_one_state:\n",
    "            number_of_one_state = counts['1']\n",
    "            best_k = k\n",
    "    print(all_outcomes_for_i)\n",
    "    print(\"for length\",i,\", the best k is\",best_k)\n",
    "    print()"
   ]
  },
  {
   "cell_type": "markdown",
   "metadata": {},
   "source": [
    "<a href=\"B72_Rotation_Automata_Solutions.ipynb#task4\">click for our solution</a>"
   ]
  },
  {
   "cell_type": "markdown",
   "metadata": {},
   "source": [
    "<h3> Random strategy for $ \\mathsf{MOD_p} $</h3>"
   ]
  },
  {
   "cell_type": "markdown",
   "metadata": {},
   "source": [
    "For different length of streams that are not multiple of $\\sf p$, different angles $ \\big( k\\frac{2\\pi}{p} \\big) $ work better.\n",
    "\n",
    "We can use more than one rotation automaton, each of which uses different $ k $ for its angle of rotation. \n",
    "\n",
    "In this way, we can get better results, i.e., we can distinguish the lengths not multiple of $\\sf p$ with better probabilities, i.e., we observe state $ \\ket{1} $ more than half times for example."
   ]
  },
  {
   "cell_type": "markdown",
   "metadata": {},
   "source": [
    "<h3>Task 5</h3>\n",
    "\n",
    "Let $ \\mathsf{p} = 31 $.\n",
    "\n",
    "Create a circuit with three quantum bits and three classical bits.\n",
    "\n",
    "Rotate the qubits with angles $ 3\\cdot \\frac{2\\pi}{31} $, $ 7\\cdot\\frac{2\\pi}{31} $, and $ 11\\cdot\\frac{2\\pi}{31} $, respectively.\n",
    "\n",
    "Execute your circuit for all streams of lengths from 1 to 30. Check whether the number of state $ \\ket{000} $ is less than half or not.\n",
    "\n",
    "<i>Note that whether a key is in dictionary or not can be checked as follows:</i>\n",
    "\n",
    "    if '000' in counts.keys():\n",
    "        c = counts['000']\n",
    "    else:\n",
    "        c = 0"
   ]
  },
  {
   "cell_type": "code",
   "execution_count": 14,
   "metadata": {},
   "outputs": [
    {
     "name": "stdout",
     "output_type": "stream",
     "text": [
      "{'100': 12, '110': 424, '001': 3, '011': 96, '111': 187, '010': 272, '101': 1, '000': 5}\n",
      "000 is observed 5 times out of 1000\n",
      "the ratio of 000 is less than 50%\n",
      "\n",
      "{'100': 91, '110': 6, '001': 49, '011': 5, '111': 68, '010': 3, '101': 777, '000': 1}\n",
      "000 is observed 1 times out of 1000\n",
      "the ratio of 000 is less than 50%\n",
      "\n",
      "{'100': 2, '110': 12, '001': 162, '011': 629, '111': 118, '010': 38, '101': 32, '000': 7}\n",
      "000 is observed 7 times out of 1000\n",
      "the ratio of 000 is less than 50%\n",
      "\n",
      "{'100': 103, '110': 40, '001': 216, '011': 112, '111': 32, '010': 149, '101': 46, '000': 302}\n",
      "000 is observed 302 times out of 1000\n",
      "the ratio of 000 is less than 50%\n",
      "\n",
      "{'111': 2, '010': 14, '100': 466, '110': 495, '101': 7, '011': 1, '000': 15}\n",
      "000 is observed 15 times out of 1000\n",
      "the ratio of 000 is less than 50%\n",
      "\n",
      "{'100': 137, '110': 247, '001': 42, '011': 73, '111': 78, '010': 243, '101': 38, '000': 142}\n",
      "000 is observed 142 times out of 1000\n",
      "the ratio of 000 is less than 50%\n",
      "\n",
      "{'010': 57, '100': 1, '101': 3, '001': 603, '011': 190, '000': 146}\n",
      "000 is observed 146 times out of 1000\n",
      "the ratio of 000 is less than 50%\n",
      "\n",
      "{'100': 5, '110': 12, '001': 31, '011': 258, '111': 601, '010': 4, '101': 88, '000': 1}\n",
      "000 is observed 1 times out of 1000\n",
      "the ratio of 000 is less than 50%\n",
      "\n",
      "{'100': 409, '110': 19, '001': 70, '011': 3, '111': 12, '010': 2, '101': 431, '000': 54}\n",
      "000 is observed 54 times out of 1000\n",
      "the ratio of 000 is less than 50%\n",
      "\n",
      "{'111': 2, '010': 884, '100': 1, '110': 77, '000': 2, '011': 34}\n",
      "000 is observed 2 times out of 1000\n",
      "the ratio of 000 is less than 50%\n",
      "\n",
      "{'010': 4, '100': 266, '110': 3, '101': 34, '001': 90, '011': 1, '000': 602}\n",
      "000 is observed 602 times out of 1000\n",
      "the ratio of 000 is more than 50%\n",
      "\n",
      "{'111': 683, '010': 1, '100': 15, '110': 248, '101': 51, '011': 2}\n",
      "000 is observed 0 times out of 1000\n",
      "the ratio of 000 is less than 50%\n",
      "\n",
      "{'111': 70, '100': 2, '110': 1, '101': 359, '001': 483, '011': 84, '000': 1}\n",
      "000 is observed 1 times out of 1000\n",
      "the ratio of 000 is less than 50%\n",
      "\n",
      "{'100': 7, '110': 23, '001': 180, '011': 419, '111': 21, '010': 233, '101': 8, '000': 109}\n",
      "000 is observed 109 times out of 1000\n",
      "the ratio of 000 is less than 50%\n",
      "\n",
      "{'100': 415, '110': 316, '001': 3, '011': 4, '111': 31, '010': 80, '101': 44, '000': 107}\n",
      "000 is observed 107 times out of 1000\n",
      "the ratio of 000 is less than 50%\n",
      "\n",
      "{'100': 410, '110': 304, '001': 15, '011': 9, '111': 39, '010': 90, '101': 34, '000': 99}\n",
      "000 is observed 99 times out of 1000\n",
      "the ratio of 000 is less than 50%\n",
      "\n",
      "{'100': 5, '110': 15, '001': 155, '011': 430, '111': 19, '010': 265, '101': 7, '000': 104}\n",
      "000 is observed 104 times out of 1000\n",
      "the ratio of 000 is less than 50%\n",
      "\n",
      "{'111': 71, '100': 1, '101': 354, '001': 495, '011': 79}\n",
      "000 is observed 0 times out of 1000\n",
      "the ratio of 000 is less than 50%\n",
      "\n",
      "{'111': 669, '010': 1, '100': 11, '110': 261, '101': 56, '011': 2}\n",
      "000 is observed 0 times out of 1000\n",
      "the ratio of 000 is less than 50%\n",
      "\n",
      "{'100': 251, '110': 3, '001': 96, '011': 2, '111': 1, '010': 7, '101': 50, '000': 590}\n",
      "000 is observed 590 times out of 1000\n",
      "the ratio of 000 is more than 50%\n",
      "\n",
      "{'111': 1, '010': 864, '110': 91, '000': 5, '011': 39}\n",
      "000 is observed 5 times out of 1000\n",
      "the ratio of 000 is less than 50%\n",
      "\n",
      "{'100': 391, '110': 16, '001': 49, '011': 4, '111': 13, '010': 2, '101': 448, '000': 77}\n",
      "000 is observed 77 times out of 1000\n",
      "the ratio of 000 is less than 50%\n",
      "\n",
      "{'111': 607, '010': 13, '110': 12, '101': 92, '001': 31, '011': 245}\n",
      "000 is observed 0 times out of 1000\n",
      "the ratio of 000 is less than 50%\n",
      "\n",
      "{'111': 3, '010': 45, '100': 1, '101': 4, '001': 622, '011': 183, '000': 142}\n",
      "000 is observed 142 times out of 1000\n",
      "the ratio of 000 is less than 50%\n",
      "\n",
      "{'100': 154, '110': 248, '001': 46, '011': 68, '111': 71, '010': 224, '101': 43, '000': 146}\n",
      "000 is observed 146 times out of 1000\n",
      "the ratio of 000 is less than 50%\n",
      "\n",
      "{'111': 6, '010': 9, '100': 487, '110': 485, '101': 5, '000': 8}\n",
      "000 is observed 8 times out of 1000\n",
      "the ratio of 000 is less than 50%\n",
      "\n",
      "{'100': 76, '110': 40, '001': 239, '011': 101, '111': 25, '010': 145, '101': 73, '000': 301}\n",
      "000 is observed 301 times out of 1000\n",
      "the ratio of 000 is less than 50%\n",
      "\n",
      "{'100': 2, '110': 7, '001': 167, '011': 627, '111': 124, '010': 37, '101': 28, '000': 8}\n",
      "000 is observed 8 times out of 1000\n",
      "the ratio of 000 is less than 50%\n",
      "\n",
      "{'111': 72, '100': 104, '110': 5, '101': 755, '001': 49, '011': 7, '000': 8}\n",
      "000 is observed 8 times out of 1000\n",
      "the ratio of 000 is less than 50%\n",
      "\n",
      "{'100': 10, '110': 391, '001': 4, '011': 131, '111': 207, '010': 252, '101': 3, '000': 2}\n",
      "000 is observed 2 times out of 1000\n",
      "the ratio of 000 is less than 50%\n",
      "\n"
     ]
    }
   ],
   "source": [
    "from qiskit import QuantumRegister, ClassicalRegister, QuantumCircuit, execute, Aer\n",
    "from math import pi\n",
    "from random import randrange\n",
    "\n",
    "# the angles of rotations\n",
    "theta1 = 3*2*pi/31\n",
    "theta2 = 7*2*pi/31\n",
    "theta3 = 11*2*pi/31\n",
    "\n",
    "# we read streams of length from 1 to 30\n",
    "for i in range(1,31):\n",
    "    qreg =  QuantumRegister(3) \n",
    "    creg = ClassicalRegister(3) \n",
    "    mycircuit = QuantumCircuit(qreg,creg)\n",
    "    # the stream of length i\n",
    "    for j in range(i):\n",
    "        # apply rotations for each symbol\n",
    "        mycircuit.ry(2*theta1,qreg[0]) \n",
    "        mycircuit.ry(2*theta2,qreg[1]) \n",
    "        mycircuit.ry(2*theta3,qreg[2]) \n",
    "    # we measure after reading the whole stream\n",
    "    mycircuit.measure(qreg,creg)\n",
    "    # execute the circuit N times\n",
    "    N = 1000\n",
    "    job = execute(mycircuit,Aer.get_backend('qasm_simulator'),shots=N)\n",
    "    counts = job.result().get_counts(mycircuit)\n",
    "    print(counts)\n",
    "    if '000' in counts.keys():\n",
    "        c = counts['000']\n",
    "    else:\n",
    "        c = 0\n",
    "    print('000 is observed',c,'times out of',N)\n",
    "    percentange = round(c/N*100,1)\n",
    "    if (percentange <= 50):\n",
    "        print(\"the ratio of 000 is less than 50%\")\n",
    "    else:\n",
    "        print(\"the ratio of 000 is more than 50%\")\n",
    "    print()"
   ]
  },
  {
   "cell_type": "markdown",
   "metadata": {},
   "source": [
    "<a href=\"B72_Rotation_Automata_Solutions.ipynb#task5\">click for our solution</a>"
   ]
  },
  {
   "cell_type": "markdown",
   "metadata": {},
   "source": [
    "<h3>Task 6</h3>\n",
    "\n",
    "Let $ \\mathsf{p} = 31 $.\n",
    "\n",
    "Create a circuit with three quantum bits and three classical bits.\n",
    "\n",
    "Rotate the qubits with random angles of the form $ k\\frac{2\\pi}{31} $, where $ k \n",
    "\\in \\{1,\\ldots,30\\}.$\n",
    "\n",
    "Execute your circuit for all streams of lengths from 1 to 30.\n",
    "\n",
    "Calculate the maximum percentage of observing the state $ \\ket{000} $.\n",
    "\n",
    "Repeat this task for a few times.\n",
    "\n",
    "<i>Note that whether a key is in dictionary or not can be checked as follows:</i>\n",
    "\n",
    "    if '000' in counts.keys():\n",
    "        c = counts['000']\n",
    "    else:\n",
    "        c = 0"
   ]
  },
  {
   "cell_type": "code",
   "execution_count": 15,
   "metadata": {},
   "outputs": [
    {
     "name": "stdout",
     "output_type": "stream",
     "text": [
      "k1 = 15 k2 = 18 k3 = 17\n",
      "\n",
      "max percentage is 82.6\n"
     ]
    }
   ],
   "source": [
    "from qiskit import QuantumRegister, ClassicalRegister, QuantumCircuit, execute, Aer\n",
    "from math import pi\n",
    "from random import randrange\n",
    "\n",
    "# randomly picked angles of rotations \n",
    "k1 = randrange(1,31)\n",
    "theta1 = k1*2*pi/31\n",
    "k2 = randrange(1,31)\n",
    "theta2 = k2*2*pi/31\n",
    "k3 = randrange(1,31)\n",
    "theta3 = k3*2*pi/31\n",
    "print(\"k1 =\",k1,\"k2 =\",k2,\"k3 =\",k3)\n",
    "print()\n",
    "\n",
    "max_percentange = 0\n",
    "# we read streams of length from 1 to 30\n",
    "for i in range(1,31):\n",
    "    k1 = randrange(1,31)\n",
    "    theta1 = k1*2*pi/31\n",
    "    k2 = randrange(1,31)\n",
    "    theta2 = k2*2*pi/31\n",
    "    k3 = randrange(1,31)\n",
    "    theta3 = k3*2*pi/31\n",
    "    # quantum circuit with three qubits and three bits\n",
    "    qreg =  QuantumRegister(3) \n",
    "    creg = ClassicalRegister(3) \n",
    "    mycircuit = QuantumCircuit(qreg,creg)\n",
    "    # the stream of length i\n",
    "    for j in range(i):\n",
    "        # apply rotations for each symbol\n",
    "        mycircuit.ry(2*theta1,qreg[0]) \n",
    "        mycircuit.ry(2*theta2,qreg[1]) \n",
    "        mycircuit.ry(2*theta3,qreg[2]) \n",
    "    # we measure after reading the whole stream\n",
    "    mycircuit.measure(qreg,creg)\n",
    "    # execute the circuit N times\n",
    "    N = 1000\n",
    "    job = execute(mycircuit,Aer.get_backend('qasm_simulator'),shots=N)\n",
    "    counts = job.result().get_counts(mycircuit)\n",
    "    # print(counts)\n",
    "    if '000' in counts.keys():\n",
    "        c = counts['000']\n",
    "    else:\n",
    "        c = 0\n",
    "    # print('000 is observed',c,'times out of',N)\n",
    "    percentange = round(c/N*100,1)\n",
    "    if max_percentange < percentange: max_percentange = percentange\n",
    "    # print(\"the ration of 000 is \",percentange,\"%\")\n",
    "    # print()\n",
    "print(\"max percentage is\",max_percentange)"
   ]
  },
  {
   "cell_type": "markdown",
   "metadata": {},
   "source": [
    "<a href=\"B72_Rotation_Automata_Solutions.ipynb#task6\">click for our solution</a>"
   ]
  },
  {
   "cell_type": "markdown",
   "metadata": {},
   "source": [
    "<h3>Task 7</h3>\n",
    "\n",
    "Repeat Task 6 by using four and five qubits."
   ]
  },
  {
   "cell_type": "code",
   "execution_count": 17,
   "metadata": {},
   "outputs": [
    {
     "name": "stdout",
     "output_type": "stream",
     "text": [
      "k1 = 12 k2 = 10 k3 = 16 k4 = 1\n",
      "\n",
      "max percentage is 0\n"
     ]
    }
   ],
   "source": [
    "from qiskit import QuantumRegister, ClassicalRegister, QuantumCircuit, execute, Aer\n",
    "from math import pi\n",
    "from random import randrange\n",
    "\n",
    "# randomly picked angles of rotations \n",
    "k1 = randrange(1,31)\n",
    "theta1 = k1*2*pi/31\n",
    "k2 = randrange(1,31)\n",
    "theta2 = k2*2*pi/31\n",
    "k3 = randrange(1,31)\n",
    "theta3 = k3*2*pi/31\n",
    "k4 = randrange(1,31)\n",
    "theta4 = k3*2*pi/31\n",
    "print(\"k1 =\",k1,\"k2 =\",k2,\"k3 =\",k3,\"k4 =\",k4)\n",
    "print()\n",
    "\n",
    "max_percentange = 0\n",
    "# we read streams of length from 1 to 30\n",
    "for i in range(1,31):\n",
    "    k1 = randrange(1,31)\n",
    "    theta1 = k1*2*pi/31\n",
    "    k2 = randrange(1,31)\n",
    "    theta2 = k2*2*pi/31\n",
    "    k3 = randrange(1,31)\n",
    "    theta3 = k3*2*pi/31\n",
    "    k4 = randrange(1,31)\n",
    "    theta4 = k4*2*pi/31\n",
    "    # quantum circuit with three qubits and three bits\n",
    "    qreg =  QuantumRegister(4) \n",
    "    creg = ClassicalRegister(4) \n",
    "    mycircuit = QuantumCircuit(qreg,creg)\n",
    "    # the stream of length i\n",
    "    for j in range(i):\n",
    "        # apply rotations for each symbol\n",
    "        mycircuit.ry(2*theta1,qreg[0]) \n",
    "        mycircuit.ry(2*theta2,qreg[1]) \n",
    "        mycircuit.ry(2*theta3,qreg[2]) \n",
    "        mycircuit.ry(2*theta4,qreg[3]) \n",
    "    # we measure after reading the whole stream\n",
    "    mycircuit.measure(qreg,creg)\n",
    "    # execute the circuit N times\n",
    "    N = 1000\n",
    "    job = execute(mycircuit,Aer.get_backend('qasm_simulator'),shots=N)\n",
    "    counts = job.result().get_counts(mycircuit)\n",
    "    # print(counts)\n",
    "    if '000' in counts.keys():\n",
    "        c = counts['000']\n",
    "    else:\n",
    "        c = 0\n",
    "    # print('000 is observed',c,'times out of',N)\n",
    "    percentange = round(c/N*100,1)\n",
    "    if max_percentange < percentange: max_percentange = percentange\n",
    "    # print(\"the ration of 000 is \",percentange,\"%\")\n",
    "    # print()\n",
    "print(\"max percentage is\",max_percentange)"
   ]
  },
  {
   "cell_type": "markdown",
   "metadata": {},
   "source": [
    "<a href=\"B72_Rotation_Automata_Solutions.ipynb#task7\">click for our solution</a>"
   ]
  },
  {
   "cell_type": "markdown",
   "metadata": {},
   "source": [
    "<h3>Remarks</h3>\n",
    "\n",
    "Problem $\\sf MOD_p$ can be classically solved by using no less than $\\sf p$ states.\n",
    "\n",
    "As we have observed, the same problem can be solved by using a few quantum states in some cases.\n",
    "\n",
    "In fact, the above given random strategy can be implemented more state efficiently (we discuss the basics of this technique in the next notebook) so that $ \\log \\mathsf{p} $ quantum states is enough to solve the problem with high probability.\n",
    "\n",
    "Thus, we need at least logarithmic number of classical bits. On the other hand, we can use double logarithmic quantum bits. This is another exponential advantage of quantum computation.  \n",
    "\n",
    "<i> One implementation issue for the quantum algorithm is to implement more and more precise rotations, i.e., implementing the rotation with angle $ \\frac{2\\pi}{p} $ may not be possible when $ p $ gets bigger and bigger.\n",
    "\n",
    "Besides, a long sequence of rotations may require some error corrections, and each error correction solution can use new qubits.\n",
    "</i>"
   ]
  }
 ],
 "metadata": {
  "kernelspec": {
   "display_name": "Python 3",
   "language": "python",
   "name": "python3"
  },
  "language_info": {
   "codemirror_mode": {
    "name": "ipython",
    "version": 3
   },
   "file_extension": ".py",
   "mimetype": "text/x-python",
   "name": "python",
   "nbconvert_exporter": "python",
   "pygments_lexer": "ipython3",
   "version": "3.7.3"
  }
 },
 "nbformat": 4,
 "nbformat_minor": 2
}
