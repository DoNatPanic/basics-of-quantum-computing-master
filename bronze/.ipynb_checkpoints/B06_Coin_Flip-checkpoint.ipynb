{
 "cells": [
  {
   "cell_type": "markdown",
   "metadata": {},
   "source": [
    "<table width=\"100%\"> <tr>\n",
    "        <td  style=\"background-color:#ffffff;\">\n",
    "            <a href=\"https://qsoftware.lu.lv/index.php/qworld/\" target=\"_blank\"><img src=\"..\\images\\qworld.jpg\" width=\"35%\" align=\"left\"> </a></td>\n",
    "        <td style=\"background-color:#ffffff;vertical-align:bottom;text-align:right;\">\n",
    "            prepared by Abuzer Yakaryilmaz (<a href=\"http://qworld.lu.lv/index.php/qlatvia/\" target=\"_blank\">QLatvia</a>)\n",
    "        </td>        \n",
    "</tr></table>"
   ]
  },
  {
   "cell_type": "markdown",
   "metadata": {},
   "source": [
    "<table width=\"100%\"><tr><td style=\"color:#bbbbbb;background-color:#ffffff;font-size:11px;font-style:italic;text-align:right;\">This cell contains some macros. If there is a problem with displaying mathematical formulas, please run this cell to load these macros. </td></tr></table>\n",
    "$ \\newcommand{\\bra}[1]{\\langle #1|} $\n",
    "$ \\newcommand{\\ket}[1]{|#1\\rangle} $\n",
    "$ \\newcommand{\\braket}[2]{\\langle #1|#2\\rangle} $\n",
    "$ \\newcommand{\\dot}[2]{ #1 \\cdot #2} $\n",
    "$ \\newcommand{\\biginner}[2]{\\left\\langle #1,#2\\right\\rangle} $\n",
    "$ \\newcommand{\\mymatrix}[2]{\\left( \\begin{array}{#1} #2\\end{array} \\right)} $\n",
    "$ \\newcommand{\\myvector}[1]{\\mymatrix{c}{#1}} $\n",
    "$ \\newcommand{\\myrvector}[1]{\\mymatrix{r}{#1}} $\n",
    "$ \\newcommand{\\mypar}[1]{\\left( #1 \\right)} $\n",
    "$ \\newcommand{\\mybigpar}[1]{ \\Big( #1 \\Big)} $\n",
    "$ \\newcommand{\\sqrttwo}{\\frac{1}{\\sqrt{2}}} $\n",
    "$ \\newcommand{\\dsqrttwo}{\\dfrac{1}{\\sqrt{2}}} $\n",
    "$ \\newcommand{\\onehalf}{\\frac{1}{2}} $\n",
    "$ \\newcommand{\\donehalf}{\\dfrac{1}{2}} $\n",
    "$ \\newcommand{\\hadamard}{ \\mymatrix{rr}{ \\sqrttwo & \\sqrttwo \\\\ \\sqrttwo & -\\sqrttwo }} $\n",
    "$ \\newcommand{\\vzero}{\\myvector{1\\\\0}} $\n",
    "$ \\newcommand{\\vone}{\\myvector{0\\\\1}} $\n",
    "$ \\newcommand{\\vhadamardzero}{\\myvector{ \\sqrttwo \\\\  \\sqrttwo } } $\n",
    "$ \\newcommand{\\vhadamardone}{ \\myrvector{ \\sqrttwo \\\\ -\\sqrttwo } } $\n",
    "$ \\newcommand{\\myarray}[2]{ \\begin{array}{#1}#2\\end{array}} $\n",
    "$ \\newcommand{\\X}{ \\mymatrix{cc}{0 & 1 \\\\ 1 & 0}  } $\n",
    "$ \\newcommand{\\Z}{ \\mymatrix{rr}{1 & 0 \\\\ 0 & -1}  } $\n",
    "$ \\newcommand{\\Htwo}{ \\mymatrix{rrrr}{ \\frac{1}{2} & \\frac{1}{2} & \\frac{1}{2} & \\frac{1}{2} \\\\ \\frac{1}{2} & -\\frac{1}{2} & \\frac{1}{2} & -\\frac{1}{2} \\\\ \\frac{1}{2} & \\frac{1}{2} & -\\frac{1}{2} & -\\frac{1}{2} \\\\ \\frac{1}{2} & -\\frac{1}{2} & -\\frac{1}{2} & \\frac{1}{2} } } $\n",
    "$ \\newcommand{\\CNOT}{ \\mymatrix{cccc}{1 & 0 & 0 & 0 \\\\ 0 & 1 & 0 & 0 \\\\ 0 & 0 & 0 & 1 \\\\ 0 & 0 & 1 & 0} } $\n",
    "$ \\newcommand{\\norm}[1]{ \\left\\lVert #1 \\right\\rVert } $"
   ]
  },
  {
   "cell_type": "markdown",
   "metadata": {},
   "source": [
    "<h2> Coin Flip: A Probabilistic Bit </h2>\n",
    "\n",
    "<h3> A fair coin </h3>\n",
    "\n",
    "A coin has two sides: <i>Head</i> and <i>Tail</i>.\n",
    "\n",
    "After flipping a coin, we can get a Head or a Tail. We can represent these two cases by a single bit:\n",
    "<ul>\n",
    "    <li> 0 represents Head </li>\n",
    "    <li> 1 represents Tail </li>\n",
    "</ul>"
   ]
  },
  {
   "cell_type": "markdown",
   "metadata": {},
   "source": [
    "<h3> Flipping a fair coin </h3>\n",
    "\n",
    "If our coin is fair, then the probabilities of obtaining a Head or a Tail are equal:\n",
    "\n",
    "$ p= \\dfrac{1}{2} = 0.5 $.\n",
    "\n",
    "Coin-flipping can be defined as an operator:\n",
    "<ul>\n",
    "    <li> $ FairCoin(Head) = \\frac{1}{2} Head + \\frac{1}{2}Tail $ </li>\n",
    "    <li> $ FairCoin(Tail) = \\frac{1}{2} Head + \\frac{1}{2}Tail $ </li>\n",
    "</ul>\n",
    "$\n",
    "FairCoin = \\begin{array}{c|cc} & \\mathbf{Head} & \\mathbf{Tail} \\\\ \\hline \\mathbf{Head} & \\dfrac{1}{2} & \\dfrac{1}{2} \\\\  \\mathbf{Tail} & \\dfrac{1}{2} & \\dfrac{1}{2}  \\end{array}\n",
    "$\n",
    "\n",
    "Or, by using 0 and 1:\n",
    "\n",
    "$\n",
    "FairCoin = \\begin{array}{c|cc} & \\mathbf{0} & \\mathbf{1} \\\\ \\hline \\mathbf{0} & \\dfrac{1}{2} & \\dfrac{1}{2} \\\\  \\mathbf{1} & \\dfrac{1}{2} & \\dfrac{1}{2}  \\end{array}\n",
    "$"
   ]
  },
  {
   "cell_type": "markdown",
   "metadata": {},
   "source": [
    "<h3> Task 1: Simulating FairCoin in Python</h3>\n",
    "\n",
    "Flip a fair coin 100 times. Calculate the total number of heads and tails, and then check the ratio of the number of heads and the number of tails.\n",
    "\n",
    "Do the same experiment 1000 times.\n",
    "\n",
    "Do the same experiment 10,000 times.\n",
    "\n",
    "Do the same experiment 100,000 times.\n",
    "\n",
    "Do your results get close to the ideal case (the numbers of heads and tails are equal)?"
   ]
  },
  {
   "cell_type": "code",
   "execution_count": 7,
   "metadata": {},
   "outputs": [
    {
     "name": "stdout",
     "output_type": "stream",
     "text": [
      "Sample № 1\n",
      "Heads probability: 0.47\n",
      "Tails probability: 0.53\n",
      "Sample № 2\n",
      "Heads probability: 0.502\n",
      "Tails probability: 0.498\n",
      "Sample № 3\n",
      "Heads probability: 0.4973\n",
      "Tails probability: 0.5027\n",
      "Sample № 4\n",
      "Heads probability: 0.49925\n",
      "Tails probability: 0.50075\n"
     ]
    }
   ],
   "source": [
    "from random import randrange\n",
    "#\n",
    "# your solution is here\n",
    "#\n",
    "sampleNum = 0\n",
    "for k in [100,1000,10000,100000]:\n",
    "    sampleNum += 1\n",
    "    print(\"Sample №\", sampleNum)\n",
    "    heads=tails=0\n",
    "    for i in range(k):\n",
    "        if randrange(2)==0:\n",
    "            heads += 1\n",
    "        else:\n",
    "            tails += 1\n",
    "    print(\"Heads probability:\", heads/k)\n",
    "    print(\"Tails probability:\", tails/k)\n"
   ]
  },
  {
   "cell_type": "markdown",
   "metadata": {},
   "source": [
    "<a href=\"B06_Coin_Flip_Solutions.ipynb#task1\">click for our solution</a>"
   ]
  },
  {
   "cell_type": "markdown",
   "metadata": {},
   "source": [
    "<h3> Flipping a biased coin </h3>\n",
    "\n",
    "Our coin may have a bias. \n",
    "\n",
    "For example, the probability of getting head is greater than the probability of getting tail.\n",
    "\n",
    "Here is an example:\n",
    "\n",
    "$\n",
    "BiasedCoin = \\begin{array}{c|cc} & \\mathbf{Head} & \\mathbf{Tail} \\\\ \\hline \\mathbf{Head} & 0.6 & 0.6 \\\\  \\mathbf{Tail} & 0.4 & 0.4  \\end{array}\n",
    "$\n",
    "\n",
    "Or, by using 0 and 1 as the states:\n",
    "\n",
    "$\n",
    "BiasedCoin = \\begin{array}{c|cc} & \\mathbf{0} & \\mathbf{1} \\\\ \\hline \\mathbf{0} & 0.6 & 0.6\\\\  \\mathbf{1} & 0.4 & 0.4 \\end{array}\n",
    "$"
   ]
  },
  {
   "cell_type": "markdown",
   "metadata": {},
   "source": [
    "<h3> Task 2: Simulating BiasedCoin in Python</h3>\n",
    "\n",
    "Flip the following biased coin 100 times. Calculate the total numbers of heads and tails, and then check the ratio of the number of heads and the number of tails.\n",
    "\n",
    "$\n",
    "BiasedCoin = \\begin{array}{c|cc} & \\mathbf{Head} & \\mathbf{Tail} \\\\ \\hline \\mathbf{Head} & 0.6 & 0.6 \\\\  \\mathbf{Tail} & 0.4 & 0.4  \\end{array}\n",
    "$\n",
    "\n",
    "\n",
    "Do the same experiment 1000 times.\n",
    "\n",
    "Do the same experiment 10,000 times.\n",
    "\n",
    "Do the same experiment 100,000 times.\n",
    "\n",
    "Do your results get close to the ideal case $ \\mypar{ \\dfrac{ \\mbox{# of heads} }{ \\mbox{# of tails} } = \\dfrac{0.6}{0.4} = 1.50000000 } $?"
   ]
  },
  {
   "cell_type": "code",
   "execution_count": 10,
   "metadata": {},
   "outputs": [
    {
     "name": "stdout",
     "output_type": "stream",
     "text": [
      "Sample № 1\n",
      "Ratio: 1.3923444976076556\n",
      "Sample № 2\n",
      "Ratio: 1.4746349913387775\n",
      "Sample № 3\n",
      "Ratio: 1.498625755834291\n"
     ]
    }
   ],
   "source": [
    "#\n",
    "# your solution is here\n",
    "#\n",
    "sampleNum = 0\n",
    "for k in [1000,10000,100000]:\n",
    "    sampleNum += 1\n",
    "    print(\"Sample №\", sampleNum)\n",
    "    heads=tails=0\n",
    "    for i in range(k):\n",
    "        if randrange(100) < 60:\n",
    "            heads += 1\n",
    "        else:\n",
    "            tails += 1\n",
    "    print(\"Ratio:\", heads/tails )"
   ]
  },
  {
   "cell_type": "markdown",
   "metadata": {},
   "source": [
    "<a href=\"B06_Coin_Flip_Solutions.ipynb#task2\">click for our solution</a>"
   ]
  },
  {
   "cell_type": "markdown",
   "metadata": {},
   "source": [
    "<h3> Programming a biased coin [extra] </h3>\n",
    "\n",
    "We use a simple method to create a biased coin.\n",
    "\n",
    "First, we pick a range for the precision of probabilities, say $ N $, as $ N = 11, 101, 1001, \\mbox{ or }, 10^k+1 $ for some $ k > 4 $.\n",
    "\n",
    "Second, we pick the bias, say $ B $, as an integer between 0 and $ N $.\n",
    "\n",
    "We fix $ N $ and $ B $.\n",
    "\n",
    "Third, we pick a random integer between 0 and $ N $:\n",
    "<ul>\n",
    "    <li> if it is less than $ B $, we say \"Head\" and </li>\n",
    "    <li> if it is equal to $ B $ or greater than $ B $, we say \"Tail\" </li>\n",
    "</ul>\n",
    "    \n",
    "In this way, we can have a biased coin \"landing\" head with probability $ \\frac{B}{N} $.\n",
    "\n",
    "Remark that we pick $ N = 10^k+1 $. In this way, the coin cannot be fair if $ B $ is an integer. ($ \\frac{10^k+1}{2} $ is not an integer.)"
   ]
  },
  {
   "cell_type": "markdown",
   "metadata": {},
   "source": [
    "<h3> Task 3 </h3>\n",
    "\n",
    "Write a function to implement the described biased coin,\n",
    "\n",
    "The inputs are integers $ N >0 $ and $ 0 \\leq B < N $.\n",
    "\n",
    "The output is either \"Head\" or \"Tail\"."
   ]
  },
  {
   "cell_type": "code",
   "execution_count": 19,
   "metadata": {},
   "outputs": [
    {
     "name": "stdout",
     "output_type": "stream",
     "text": [
      "Tail\n"
     ]
    }
   ],
   "source": [
    "def biased_coin(N,B):\n",
    "    heads=tails=0\n",
    "    if randrange(N) < B:\n",
    "        return \"Head\"\n",
    "    else:\n",
    "        return \"Tail\"\n",
    "\n",
    "print(biased_coin(101,60))"
   ]
  },
  {
   "cell_type": "markdown",
   "metadata": {},
   "source": [
    "<a href=\"B06_Coin_Flip_Solutions.ipynb#task3\">click for our solution</a>"
   ]
  },
  {
   "cell_type": "markdown",
   "metadata": {},
   "source": [
    "<h3> Task 4</h3>\n",
    "\n",
    "We use the biased coin defined in Task 3. \n",
    "\n",
    "(You may use the one given in the solution.)\n",
    "\n",
    "We pick $ N $ as 101.\n",
    "\n",
    "We determine $ B $ randomly, and we do not check its value immedeately.\n",
    "\n",
    "The task is to guess the bias by using the biased coin at most 500 times.\n",
    "\n",
    "Check the real bias, and calculate the error."
   ]
  },
  {
   "cell_type": "code",
   "execution_count": 36,
   "metadata": {},
   "outputs": [
    {
     "name": "stdout",
     "output_type": "stream",
     "text": [
      "Real value of B is equal to: 0.25742574257425743\n",
      "Calculated value of B is equal to: = 0.236\n",
      "Error 0.09\n"
     ]
    }
   ],
   "source": [
    "from random import randrange\n",
    "\n",
    "def biased_coin(N,B):\n",
    "    heads=tails=0\n",
    "    if randrange(N) < B:\n",
    "        return \"Head\"\n",
    "    else:\n",
    "        return \"Tail\"\n",
    "\n",
    "N = 101\n",
    "B = randrange(100)\n",
    "print(\"Real value of B is equal to:\", B/N)\n",
    "#\n",
    "# your solution is here\n",
    "#\n",
    "\n",
    "heads=tails=0\n",
    "for i in range(500):\n",
    "    if biased_coin(N,B) == \"Head\":\n",
    "        heads += 1\n",
    "    else:\n",
    "        tails += 1 \n",
    "\n",
    "        \n",
    "print(\"Calculated value of B is equal to: =\", heads/500)\n",
    "print(\"Error\",round(abs(1-(B/N)/(heads/500)),2))"
   ]
  },
  {
   "cell_type": "markdown",
   "metadata": {},
   "source": [
    "<a href=\"B06_Coin_Flip_Solutions.ipynb#task4\">click for our solution</a>"
   ]
  },
  {
   "cell_type": "code",
   "execution_count": null,
   "metadata": {},
   "outputs": [],
   "source": []
  }
 ],
 "metadata": {
  "kernelspec": {
   "display_name": "Python 3",
   "language": "python",
   "name": "python3"
  },
  "language_info": {
   "codemirror_mode": {
    "name": "ipython",
    "version": 3
   },
   "file_extension": ".py",
   "mimetype": "text/x-python",
   "name": "python",
   "nbconvert_exporter": "python",
   "pygments_lexer": "ipython3",
   "version": "3.7.3"
  }
 },
 "nbformat": 4,
 "nbformat_minor": 2
}
