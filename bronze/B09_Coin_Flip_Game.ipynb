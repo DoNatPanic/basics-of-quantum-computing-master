{
 "cells": [
  {
   "cell_type": "markdown",
   "metadata": {},
   "source": [
    "<table width=\"100%\"> <tr>\n",
    "        <td  style=\"background-color:#ffffff;\">\n",
    "            <a href=\"https://qsoftware.lu.lv/index.php/qworld/\" target=\"_blank\"><img src=\"..\\images\\qworld.jpg\" width=\"35%\" align=\"left\"> </a></td>\n",
    "        <td style=\"background-color:#ffffff;vertical-align:bottom;text-align:right;\">\n",
    "            prepared by Abuzer Yakaryilmaz (<a href=\"http://qworld.lu.lv/index.php/qlatvia/\" target=\"_blank\">QLatvia</a>)\n",
    "        </td>        \n",
    "</tr></table>"
   ]
  },
  {
   "cell_type": "markdown",
   "metadata": {},
   "source": [
    "<table width=\"100%\"><tr><td style=\"color:#bbbbbb;background-color:#ffffff;font-size:11px;font-style:italic;text-align:right;\">This cell contains some macros. If there is a problem with displaying mathematical formulas, please run this cell to load these macros. </td></tr></table>\n",
    "$ \\newcommand{\\bra}[1]{\\langle #1|} $\n",
    "$ \\newcommand{\\ket}[1]{|#1\\rangle} $\n",
    "$ \\newcommand{\\braket}[2]{\\langle #1|#2\\rangle} $\n",
    "$ \\newcommand{\\dot}[2]{ #1 \\cdot #2} $\n",
    "$ \\newcommand{\\biginner}[2]{\\left\\langle #1,#2\\right\\rangle} $\n",
    "$ \\newcommand{\\mymatrix}[2]{\\left( \\begin{array}{#1} #2\\end{array} \\right)} $\n",
    "$ \\newcommand{\\myvector}[1]{\\mymatrix{c}{#1}} $\n",
    "$ \\newcommand{\\myrvector}[1]{\\mymatrix{r}{#1}} $\n",
    "$ \\newcommand{\\mypar}[1]{\\left( #1 \\right)} $\n",
    "$ \\newcommand{\\mybigpar}[1]{ \\Big( #1 \\Big)} $\n",
    "$ \\newcommand{\\sqrttwo}{\\frac{1}{\\sqrt{2}}} $\n",
    "$ \\newcommand{\\dsqrttwo}{\\dfrac{1}{\\sqrt{2}}} $\n",
    "$ \\newcommand{\\onehalf}{\\frac{1}{2}} $\n",
    "$ \\newcommand{\\donehalf}{\\dfrac{1}{2}} $\n",
    "$ \\newcommand{\\hadamard}{ \\mymatrix{rr}{ \\sqrttwo & \\sqrttwo \\\\ \\sqrttwo & -\\sqrttwo }} $\n",
    "$ \\newcommand{\\vzero}{\\myvector{1\\\\0}} $\n",
    "$ \\newcommand{\\vone}{\\myvector{0\\\\1}} $\n",
    "$ \\newcommand{\\vhadamardzero}{\\myvector{ \\sqrttwo \\\\  \\sqrttwo } } $\n",
    "$ \\newcommand{\\vhadamardone}{ \\myrvector{ \\sqrttwo \\\\ -\\sqrttwo } } $\n",
    "$ \\newcommand{\\myarray}[2]{ \\begin{array}{#1}#2\\end{array}} $\n",
    "$ \\newcommand{\\X}{ \\mymatrix{cc}{0 & 1 \\\\ 1 & 0}  } $\n",
    "$ \\newcommand{\\Z}{ \\mymatrix{rr}{1 & 0 \\\\ 0 & -1}  } $\n",
    "$ \\newcommand{\\Htwo}{ \\mymatrix{rrrr}{ \\frac{1}{2} & \\frac{1}{2} & \\frac{1}{2} & \\frac{1}{2} \\\\ \\frac{1}{2} & -\\frac{1}{2} & \\frac{1}{2} & -\\frac{1}{2} \\\\ \\frac{1}{2} & \\frac{1}{2} & -\\frac{1}{2} & -\\frac{1}{2} \\\\ \\frac{1}{2} & -\\frac{1}{2} & -\\frac{1}{2} & \\frac{1}{2} } } $\n",
    "$ \\newcommand{\\CNOT}{ \\mymatrix{cccc}{1 & 0 & 0 & 0 \\\\ 0 & 1 & 0 & 0 \\\\ 0 & 0 & 0 & 1 \\\\ 0 & 0 & 1 & 0} } $\n",
    "$ \\newcommand{\\norm}[1]{ \\left\\lVert #1 \\right\\rVert } $"
   ]
  },
  {
   "cell_type": "markdown",
   "metadata": {},
   "source": [
    "<h2> A Game with two biased coins </h2>\n",
    "\n",
    "Our friend Asja has one euro and one cent. \n",
    "\n",
    "Both coins are biased, and the probabilities of getting heads and tails are as follows:\n",
    "<ul>\n",
    "    <li> one euro: head with probability $ 0.6 $ and tail with probability $ 0.4 $. </li>\n",
    "    <li> one cent: head with probability $ 0.3 $ and tail with probability $ 0.7 $. </li>\n",
    "</ul>\n",
    "\n",
    "Asja flips her coins based on the following <b>protocol</b>: \n",
    "<ol> \n",
    "    <li> whenever she gets a head, she flips one euro; </li>\n",
    "    <li> whenever she gets a tail, she flips one cent; and </li>\n",
    "    <li> she starts with flipping one euro (we assume that she got head from nowhere). </li>\n",
    "</ol>\n",
    "\n",
    "By using a single bit, we summarize all possible transitions of this game as follows:\n",
    "\n",
    "$\n",
    "GameCoins = \\begin{array}{c|cc} & \\mathbf{Head} & \\mathbf{Tail} \\\\ \\hline \\mathbf{Head} & 0.6 & 0.3\\\\  \\mathbf{Tail} & 0.4 & 0.7  \\end{array} = \\begin{array}{c|cc} & \\mathbf{0} & \\mathbf{1} \\\\ \\hline \\mathbf{0} & 0.6 & 0.3 \\\\  \\mathbf{1} & 0.4 & 0.7  \\end{array}\n",
    "$"
   ]
  },
  {
   "cell_type": "markdown",
   "metadata": {},
   "source": [
    "<h3>Task 1: Convience yourself </h3>\n",
    "\n",
    "Please convience yourself about the correctness of transitions given in the table.\n",
    "\n",
    "<i> Remark that there is no difference between getting head from one euro or getting head from one cent.\n",
    "    \n",
    "Therefore, one bit is enough to represent all transitions.\n",
    "</i>"
   ]
  },
  {
   "cell_type": "markdown",
   "metadata": {},
   "source": [
    "<h3> Tracing Asja's three coin tosses </h3>\n",
    "\n",
    "Suppose that Asja <b>secretly</b> tosses her coins based on the defined protocol.\n",
    "\n",
    "By using python, we can calculate the probabilities of Asja getting head and tail after three coin tosses.\n",
    "\n",
    "<i><b>Remark:</b> In the previous two tasks, the ideal ratio is easy to calculate. Besides, we do our experiments and then compare our results with the ideal ratio. \n",
    "\n",
    "Here we will calculate the exact probabilities (the ideal ratio) by using python. (We will not do experiment.)\n",
    "</i>\n",
    "\n",
    "We present our solution step by step."
   ]
  },
  {
   "cell_type": "code",
   "execution_count": null,
   "metadata": {},
   "outputs": [],
   "source": [
    "# initial case\n",
    "# We assume that the probability of having head is 1 at the beginning,\n",
    "#    because Asja will start with one euro.\n",
    "prob_head = 1\n",
    "prob_tail = 0\n",
    "\n",
    "\n",
    "#\n",
    "# first coin-flip\n",
    "#\n",
    "\n",
    "# the new probability of head is calculated by using the first row \n",
    "new_prob_head = prob_head * 0.6 + prob_tail * 0.3\n",
    "\n",
    "# the new probability of tail is calculated by using the second row \n",
    "new_prob_tail = prob_head * 0.4 + prob_tail * 0.7\n",
    "\n",
    "# update the probabilities\n",
    "prob_head = new_prob_head\n",
    "prob_tail = new_prob_tail\n",
    "\n",
    "#\n",
    "# second coin-flip\n",
    "#\n",
    "# we do the same calculations\n",
    "\n",
    "new_prob_head = prob_head * 0.6 + prob_tail * 0.3\n",
    "new_prob_tail = prob_head * 0.4 + prob_tail * 0.7\n",
    "\n",
    "prob_head = new_prob_head\n",
    "prob_tail = new_prob_tail\n",
    "\n",
    "#\n",
    "# third coin-flip\n",
    "#\n",
    "# we do the same calculations\n",
    "\n",
    "new_prob_head = prob_head * 0.6 + prob_tail * 0.3\n",
    "new_prob_tail = prob_head * 0.4 + prob_tail * 0.7\n",
    "\n",
    "prob_head = new_prob_head\n",
    "prob_tail = new_prob_tail\n",
    "\n",
    "# print prob_head and prob_tail\n",
    "print(\"the probability of getting head after 3 coin tosses is\",round(prob_head,6))\n",
    "print(\"the probability of getting tail after 3 coin tosses is\",round(prob_tail,6))\n"
   ]
  },
  {
   "cell_type": "markdown",
   "metadata": {},
   "source": [
    "<h3> Task 2: Tracing ten biased coin tosses </h3>\n",
    "\n",
    "By using python, calculate the probabilities of Asja getting head and tail after 10 coin tosses.\n",
    "\n",
    "$\n",
    "GameCoins = \\begin{array}{c|cc} & \\mathbf{Head} & \\mathbf{Tail} \\\\ \\hline \\mathbf{Head} & 0.6 & 0.3\\\\  \\mathbf{Tail} & 0.4 & 0.7  \\end{array} = \\begin{array}{c|cc} & \\mathbf{0} & \\mathbf{1} \\\\ \\hline \\mathbf{0} & 0.6 & 0.3 \\\\  \\mathbf{1} & 0.4 & 0.7  \\end{array}\n",
    "$\n",
    "\n",
    "Please use a loop in your solution."
   ]
  },
  {
   "cell_type": "code",
   "execution_count": 1,
   "metadata": {},
   "outputs": [
    {
     "name": "stdout",
     "output_type": "stream",
     "text": [
      "prob_head 0.42857480279999977\n",
      "prob_tail 0.5714251971999997\n"
     ]
    }
   ],
   "source": [
    "#\n",
    "# your solution is here\n",
    "#\n",
    "prob_head = 1\n",
    "prob_tail = 0\n",
    "for i in range(10):\n",
    "    new_prob_head = prob_head * 0.6 + prob_tail * 0.3\n",
    "    new_prob_tail = prob_head * 0.4 + prob_tail * 0.7\n",
    "    prob_head = new_prob_head\n",
    "    prob_tail = new_prob_tail\n",
    "print(\"prob_head\", prob_head)\n",
    "print(\"prob_tail\", prob_tail)\n"
   ]
  },
  {
   "cell_type": "markdown",
   "metadata": {},
   "source": [
    "<a href=\"B09_Coin_Flip_Game_Solutions.ipynb#task2\">click for our solution</a>"
   ]
  },
  {
   "cell_type": "markdown",
   "metadata": {},
   "source": [
    "<h3> Task 3</h3>\n",
    "\n",
    "Repeat Task 2 for 20, 30, and 50 coin tosses."
   ]
  },
  {
   "cell_type": "code",
   "execution_count": 37,
   "metadata": {},
   "outputs": [
    {
     "name": "stdout",
     "output_type": "stream",
     "text": [
      "Sample number 1\n",
      "prob_head 0.428571428591\n",
      "prob_tail 0.571428571409\n",
      "Sample number 2\n",
      "prob_head 0.428571428571\n",
      "prob_tail 0.571428571429\n",
      "Sample number 3\n",
      "prob_head 0.428571428571\n",
      "prob_tail 0.571428571429\n"
     ]
    }
   ],
   "source": [
    "def probs(probsNum, initHead, initTail):\n",
    "    prob_head = initHead\n",
    "    prob_tail = initTail\n",
    "    for i in range(probsNum):\n",
    "        new_prob_head = prob_head * 0.6 + prob_tail * 0.3\n",
    "        new_prob_tail = prob_head * 0.4 + prob_tail * 0.7\n",
    "        prob_head = new_prob_head\n",
    "        prob_tail = new_prob_tail\n",
    "    print(\"prob_head\", round(prob_head,12))\n",
    "    print(\"prob_tail\", round(prob_tail,12))    \n",
    "\n",
    "samplesNum = 0\n",
    "for i in  [20, 30, 50]:\n",
    "    samplesNum += 1\n",
    "    print(\"Sample number\", samplesNum)\n",
    "    probs(i, 1, 0)"
   ]
  },
  {
   "cell_type": "markdown",
   "metadata": {},
   "source": [
    "<a href=\"B09_Coin_Flip_Game_Solutions.ipynb#task3\">click for our solution</a>"
   ]
  },
  {
   "cell_type": "markdown",
   "metadata": {},
   "source": [
    "<h3> Task 4</h3>\n",
    "\n",
    "Repeat Task 2 for 10, 20, and 50 coin tosses by picking different initial conditions, e.g., \n",
    "    \n",
    "    prob_head = prob_tail = 1/2\n",
    "or\n",
    "    \n",
    "    prob_head = 0 \n",
    "    prob_tail = 1"
   ]
  },
  {
   "cell_type": "code",
   "execution_count": 4,
   "metadata": {},
   "outputs": [
    {
     "name": "stdout",
     "output_type": "stream",
     "text": [
      "Sample number 1\n",
      "prob_head 0.42857142857391883\n",
      "prob_tail 0.5714285714260805\n",
      "Sample number 2\n",
      "prob_head 0.42857142857142827\n",
      "prob_tail 0.571428571428571\n",
      "Sample number 3\n",
      "prob_head 0.42857142857142827\n",
      "prob_tail 0.571428571428571\n"
     ]
    }
   ],
   "source": [
    "def probs(probsNum, initHead, initTail):\n",
    "    prob_head = initHead\n",
    "    prob_tail = initTail\n",
    "    for i in range(probsNum):\n",
    "        new_prob_head = prob_head * 0.6 + prob_tail * 0.3\n",
    "        new_prob_tail = prob_head * 0.4 + prob_tail * 0.7\n",
    "        prob_head = new_prob_head\n",
    "        prob_tail = new_prob_tail\n",
    "    print(\"prob_head\", prob_head)\n",
    "    print(\"prob_tail\", prob_tail)    \n",
    "\n",
    "samplesNum = 0\n",
    "for i in  [20, 30, 50]:\n",
    "    samplesNum += 1\n",
    "    print(\"Sample number\", samplesNum)\n",
    "    probs(i, 0.5, 0.5)\n"
   ]
  },
  {
   "cell_type": "markdown",
   "metadata": {},
   "source": [
    "<a href=\"B09_Coin_Flip_Game_Solutions.ipynb#task4\">click for our solution</a>"
   ]
  },
  {
   "cell_type": "markdown",
   "metadata": {},
   "source": [
    "<hr>"
   ]
  },
  {
   "cell_type": "markdown",
   "metadata": {},
   "source": [
    "<h3> Arbitrary transitions for GameCoins [extra]</h3>\n",
    "\n",
    "By changing the bias of each Asja's coin, we can define arbitrary GameCoins.\n",
    "\n",
    "If $ a $ is the probability of getting head for one euro and $ b $ is the probability of getting head for one cent, then we have the following transitions:\n",
    "\n",
    "$\n",
    "GameCoins(a,b) = \\begin{array}{c|cc} & \\mathbf{Head} & \\mathbf{Tail} \\\\ \\hline \\mathbf{Head} & a & b\\\\  \\mathbf{Tail} & 1-a & 1-b  \\end{array} = \\begin{array}{c|cc} & \\mathbf{0} & \\mathbf{1} \\\\ \\hline \\mathbf{0} & a & b \\\\  \\mathbf{1} & 1-a & 1-b  \\end{array}\n",
    "$"
   ]
  },
  {
   "cell_type": "markdown",
   "metadata": {},
   "source": [
    "<h3> Task 5 </h3>\n",
    "\n",
    "Observe that if $ a=1 $ and $ b = 0 $, then it is Identity operator, which does not change the initial state.\n",
    "\n",
    "If $ a=0 $ and $ b=1 $, then it is NOT operator. NOT operator swaps the probabilities of head and tail. If the initial probabilities are not $ 0.5 $ and $ 0.5 $, then the system cannot converge."
   ]
  },
  {
   "cell_type": "code",
   "execution_count": 12,
   "metadata": {},
   "outputs": [
    {
     "name": "stdout",
     "output_type": "stream",
     "text": [
      "prob_head True\n",
      "prob_tail False\n",
      "\n",
      "\n",
      "prob_head True\n",
      "prob_tail True\n"
     ]
    }
   ],
   "source": [
    "def notOperatorCheck(probsNum, initHead, initTail):\n",
    "    prob_head = initHead\n",
    "    prob_tail = initTail\n",
    "    for i in range(probsNum):\n",
    "        new_prob_head = not(prob_tail)\n",
    "        new_prob_tail = not(prob_head)\n",
    "        prob_head = new_prob_head\n",
    "        prob_tail = new_prob_tail\n",
    "    print(\"prob_head\", prob_head)\n",
    "    print(\"prob_tail\", prob_tail)    \n",
    "\n",
    "notOperatorCheck(20, 1, 0)\n",
    "print(\"\\n\")\n",
    "notOperatorCheck(20, 0.5, 0.5)"
   ]
  },
  {
   "cell_type": "markdown",
   "metadata": {},
   "source": [
    "<h3> Task 6</h3>\n",
    "\n",
    "Randomly pick the values of $ a $ and $ b $, and then implement Tasks 3 and 4 for $ GameCoins(a,b) $."
   ]
  },
  {
   "cell_type": "code",
   "execution_count": 4,
   "metadata": {},
   "outputs": [
    {
     "name": "stdout",
     "output_type": "stream",
     "text": [
      "Sample number 1\n",
      "prob_head 0.6771428571426077\n",
      "prob_tail 0.9028571428573913\n",
      "Sample number 2\n",
      "prob_head 0.6771428571428565\n",
      "prob_tail 0.9028571428571421\n",
      "Sample number 3\n",
      "prob_head 0.6771428571428565\n",
      "prob_tail 0.9028571428571421\n"
     ]
    }
   ],
   "source": [
    "from random import randrange\n",
    "def probs(probsNum, initHead, initTail):\n",
    "    prob_head = initHead\n",
    "    prob_tail = initTail\n",
    "    for i in range(probsNum):\n",
    "        new_prob_head = prob_head * 0.6 + prob_tail * 0.3\n",
    "        new_prob_tail = prob_head * 0.4 + prob_tail * 0.7\n",
    "        prob_head = new_prob_head\n",
    "        prob_tail = new_prob_tail\n",
    "    print(\"prob_head\", prob_head)\n",
    "    print(\"prob_tail\", prob_tail)    \n",
    "\n",
    "samplesNum = 0\n",
    "A = randrange(100)/100\n",
    "B = randrange(100)/100\n",
    "for i in  [20, 30, 50]:\n",
    "    samplesNum += 1\n",
    "    print(\"Sample number\", samplesNum)\n",
    "    probs(i, A, B)\n",
    "    "
   ]
  },
  {
   "cell_type": "markdown",
   "metadata": {},
   "source": [
    "<h3> Task 7</h3>\n",
    "\n",
    "10 times repeat Task 6 and observe whether the system converges in each time."
   ]
  },
  {
   "cell_type": "code",
   "execution_count": 3,
   "metadata": {},
   "outputs": [
    {
     "name": "stdout",
     "output_type": "stream",
     "text": [
      "1 -th iteration\n",
      "Sample number 1\n",
      "prob_head 0.24000000001046015\n",
      "prob_tail 0.3199999999895394\n",
      "Sample number 2\n",
      "prob_head 0.2399999999999997\n",
      "prob_tail 0.3199999999999995\n",
      "Sample number 3\n",
      "prob_head 0.23999999999999966\n",
      "prob_tail 0.3199999999999995\n",
      "\n",
      "2 -th iteration\n",
      "Sample number 1\n",
      "prob_head 0.47999999999023657\n",
      "prob_tail 0.6400000000097624\n",
      "Sample number 2\n",
      "prob_head 0.4799999999999993\n",
      "prob_tail 0.6399999999999992\n",
      "Sample number 3\n",
      "prob_head 0.4799999999999993\n",
      "prob_tail 0.6399999999999992\n",
      "\n",
      "3 -th iteration\n",
      "Sample number 1\n",
      "prob_head 0.41571428570711283\n",
      "prob_tail 0.554285714292887\n",
      "Sample number 2\n",
      "prob_head 0.4157142857142856\n",
      "prob_tail 0.5542857142857142\n",
      "Sample number 3\n",
      "prob_head 0.4157142857142856\n",
      "prob_tail 0.5542857142857142\n",
      "\n",
      "4 -th iteration\n",
      "Sample number 1\n",
      "prob_head 0.6042857142988144\n",
      "prob_tail 0.8057142857011851\n",
      "Sample number 2\n",
      "prob_head 0.6042857142857139\n",
      "prob_tail 0.805714285714285\n",
      "Sample number 3\n",
      "prob_head 0.6042857142857139\n",
      "prob_tail 0.805714285714285\n",
      "\n",
      "5 -th iteration\n",
      "Sample number 1\n",
      "prob_head 0.6428571428556481\n",
      "prob_tail 0.8571428571443509\n",
      "Sample number 2\n",
      "prob_head 0.6428571428571421\n",
      "prob_tail 0.8571428571428563\n",
      "Sample number 3\n",
      "prob_head 0.6428571428571421\n",
      "prob_tail 0.8571428571428563\n",
      "\n",
      "6 -th iteration\n",
      "Sample number 1\n",
      "prob_head 0.5228571428629705\n",
      "prob_tail 0.6971428571370287\n",
      "Sample number 2\n",
      "prob_head 0.5228571428571424\n",
      "prob_tail 0.6971428571428564\n",
      "Sample number 3\n",
      "prob_head 0.5228571428571422\n",
      "prob_tail 0.6971428571428564\n",
      "\n",
      "7 -th iteration\n",
      "Sample number 1\n",
      "prob_head 0.5742857142918406\n",
      "prob_tail 0.7657142857081584\n",
      "Sample number 2\n",
      "prob_head 0.5742857142857136\n",
      "prob_tail 0.7657142857142848\n",
      "Sample number 3\n",
      "prob_head 0.5742857142857136\n",
      "prob_tail 0.7657142857142848\n",
      "\n",
      "8 -th iteration\n",
      "Sample number 1\n",
      "prob_head 0.28714285714609455\n",
      "prob_tail 0.38285714285390476\n",
      "Sample number 2\n",
      "prob_head 0.2871428571428567\n",
      "prob_tail 0.38285714285714223\n",
      "Sample number 3\n",
      "prob_head 0.2871428571428567\n",
      "prob_tail 0.38285714285714223\n",
      "\n",
      "9 -th iteration\n",
      "Sample number 1\n",
      "prob_head 0.4285714285624125\n",
      "prob_tail 0.571428571437587\n",
      "Sample number 2\n",
      "prob_head 0.42857142857142827\n",
      "prob_tail 0.5714285714285712\n",
      "Sample number 3\n",
      "prob_head 0.42857142857142827\n",
      "prob_tail 0.5714285714285712\n",
      "\n",
      "10 -th iteration\n",
      "Sample number 1\n",
      "prob_head 0.36857142855962316\n",
      "prob_tail 0.49142857144037644\n",
      "Sample number 2\n",
      "prob_head 0.3685714285714281\n",
      "prob_tail 0.491428571428571\n",
      "Sample number 3\n",
      "prob_head 0.36857142857142816\n",
      "prob_tail 0.4914285714285709\n",
      "\n",
      "As we can see, system converges each time\n"
     ]
    }
   ],
   "source": [
    "def probs(probsNum, initHead, initTail):\n",
    "    prob_head = initHead\n",
    "    prob_tail = initTail\n",
    "    for i in range(probsNum):\n",
    "        new_prob_head = prob_head * 0.6 + prob_tail * 0.3\n",
    "        new_prob_tail = prob_head * 0.4 + prob_tail * 0.7\n",
    "        prob_head = new_prob_head\n",
    "        prob_tail = new_prob_tail\n",
    "    print(\"prob_head\", prob_head)\n",
    "    print(\"prob_tail\", prob_tail)   \n",
    "\n",
    "# 10 times repeat Task 6 and observe whether the system converges in each time\n",
    "for k in range(10):\n",
    "    print(k+1,\"-th iteration\")\n",
    "    from random import randrange \n",
    "\n",
    "    samplesNum = 0\n",
    "    A = randrange(100)/100\n",
    "    B = randrange(100)/100\n",
    "    for i in  [20, 30, 50]:\n",
    "        samplesNum += 1\n",
    "        print(\"Sample number\", samplesNum)\n",
    "        probs(i, A, B)\n",
    "    print()\n",
    "\n",
    "print(\"As we can see, system converges each time\")"
   ]
  },
  {
   "cell_type": "markdown",
   "metadata": {},
   "source": [
    "<h3>Task 8</h3>\n",
    "\n",
    "We can rewrite arbitrary GameCoins as \n",
    "\n",
    "$  \\begin{array}{c|cc} & \\mathbf{Head} & \\mathbf{Tail} \\\\ \\hline \\mathbf{Head} & 1-y & x\\\\  \\mathbf{Tail} & y & 1-x  \\end{array} = \\begin{array}{c|cc} & \\mathbf{0} & \\mathbf{1} \\\\ \\hline \\mathbf{0} & 1-y & x \\\\  \\mathbf{1} & y & 1-x  \\end{array}.\n",
    "$ \n",
    "\n",
    "We assume that it is neither Identity nor NOT operator. Then, independent of the initial state, the system always converges to \n",
    "\n",
    "$ Pr[\\mbox{\"head\"}] = \\dfrac{x}{x+y} $ and $ Pr[\\mbox{\"tail\"}]=\\dfrac{y}{x+y} $ \n",
    "\n",
    "as the probabilities of getting head and tail, respectively.\n",
    "\n",
    "Observe this fact by checking the results of Task 7."
   ]
  },
  {
   "cell_type": "code",
   "execution_count": 56,
   "metadata": {},
   "outputs": [
    {
     "name": "stdout",
     "output_type": "stream",
     "text": [
      "Sample number 1\n",
      "prob_head 0.6857142857123428\n",
      "prob_tail 0.9142857142876566\n",
      "Sample number 2\n",
      "prob_head 0.6857142857142853\n",
      "prob_tail 0.9142857142857138\n",
      "Sample number 3\n",
      "prob_head 0.6857142857142853\n",
      "prob_tail 0.9142857142857138\n",
      "\n",
      "Probability of head 0.7238805970149255\n",
      "Probability of tail 0.27611940298507465\n"
     ]
    }
   ],
   "source": [
    "from random import randrange\n",
    "def probs(probsNum, initHead, initTail):\n",
    "    prob_head = initHead\n",
    "    prob_tail = initTail\n",
    "    for i in range(probsNum):\n",
    "        new_prob_head = prob_head * 0.6 + prob_tail * 0.3\n",
    "        new_prob_tail = prob_head * 0.4 + prob_tail * 0.7\n",
    "        prob_head = new_prob_head\n",
    "        prob_tail = new_prob_tail\n",
    "    print(\"prob_head\", prob_head)\n",
    "    print(\"prob_tail\", prob_tail)    \n",
    "\n",
    "samplesNum = 0\n",
    "A = randrange(100)/100\n",
    "B = randrange(100)/100\n",
    "Y = 1 - A\n",
    "X = B\n",
    "for i in  [20, 30, 500]:\n",
    "    samplesNum += 1\n",
    "    print(\"Sample number\", samplesNum)\n",
    "    probs(i, A, B)\n",
    "\n",
    "print()\n",
    "print(\"Probability of head\", X/(X + Y))\n",
    "print(\"Probability of tail\", Y/(X + Y))"
   ]
  }
 ],
 "metadata": {
  "kernelspec": {
   "display_name": "Python 3",
   "language": "python",
   "name": "python3"
  },
  "language_info": {
   "codemirror_mode": {
    "name": "ipython",
    "version": 3
   },
   "file_extension": ".py",
   "mimetype": "text/x-python",
   "name": "python",
   "nbconvert_exporter": "python",
   "pygments_lexer": "ipython3",
   "version": "3.7.3"
  }
 },
 "nbformat": 4,
 "nbformat_minor": 2
}
