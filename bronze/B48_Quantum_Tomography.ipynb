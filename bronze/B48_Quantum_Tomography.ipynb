{
 "cells": [
  {
   "cell_type": "markdown",
   "metadata": {},
   "source": [
    "<table> <tr>\n",
    "        <td  style=\"background-color:#ffffff;\">\n",
    "            <a href=\"http://qworld.lu.lv\" target=\"_blank\"><img src=\"..\\images\\qworld.jpg\" width=\"25%\" align=\"left\"> </a></td>\n",
    "        <td style=\"background-color:#ffffff;vertical-align:bottom;text-align:right;\">\n",
    "            prepared by <a href=\"http://abu.lu.lv\" target=\"_blank\">Abuzer Yakaryilmaz</a> (<a href=\"http://qworld.lu.lv/index.php/qlatvia/\" target=\"_blank\">QLatvia</a>)\n",
    "        </td>        \n",
    "</tr></table>"
   ]
  },
  {
   "cell_type": "markdown",
   "metadata": {},
   "source": [
    "<table width=\"100%\"><tr><td style=\"color:#bbbbbb;background-color:#ffffff;font-size:11px;font-style:italic;text-align:right;\">This cell contains some macros. If there is a problem with displaying mathematical formulas, please run this cell to load these macros. </td></tr></table>\n",
    "$ \\newcommand{\\bra}[1]{\\langle #1|} $\n",
    "$ \\newcommand{\\ket}[1]{|#1\\rangle} $\n",
    "$ \\newcommand{\\braket}[2]{\\langle #1|#2\\rangle} $\n",
    "$ \\newcommand{\\dot}[2]{ #1 \\cdot #2} $\n",
    "$ \\newcommand{\\biginner}[2]{\\left\\langle #1,#2\\right\\rangle} $\n",
    "$ \\newcommand{\\mymatrix}[2]{\\left( \\begin{array}{#1} #2\\end{array} \\right)} $\n",
    "$ \\newcommand{\\myvector}[1]{\\mymatrix{c}{#1}} $\n",
    "$ \\newcommand{\\myrvector}[1]{\\mymatrix{r}{#1}} $\n",
    "$ \\newcommand{\\mypar}[1]{\\left( #1 \\right)} $\n",
    "$ \\newcommand{\\mybigpar}[1]{ \\Big( #1 \\Big)} $\n",
    "$ \\newcommand{\\sqrttwo}{\\frac{1}{\\sqrt{2}}} $\n",
    "$ \\newcommand{\\dsqrttwo}{\\dfrac{1}{\\sqrt{2}}} $\n",
    "$ \\newcommand{\\onehalf}{\\frac{1}{2}} $\n",
    "$ \\newcommand{\\donehalf}{\\dfrac{1}{2}} $\n",
    "$ \\newcommand{\\hadamard}{ \\mymatrix{rr}{ \\sqrttwo & \\sqrttwo \\\\ \\sqrttwo & -\\sqrttwo }} $\n",
    "$ \\newcommand{\\vzero}{\\myvector{1\\\\0}} $\n",
    "$ \\newcommand{\\vone}{\\myvector{0\\\\1}} $\n",
    "$ \\newcommand{\\stateplus}{\\myvector{ \\sqrttwo \\\\  \\sqrttwo } } $\n",
    "$ \\newcommand{\\stateminus}{ \\myrvector{ \\sqrttwo \\\\ -\\sqrttwo } } $\n",
    "$ \\newcommand{\\myarray}[2]{ \\begin{array}{#1}#2\\end{array}} $\n",
    "$ \\newcommand{\\X}{ \\mymatrix{cc}{0 & 1 \\\\ 1 & 0}  } $\n",
    "$ \\newcommand{\\Z}{ \\mymatrix{rr}{1 & 0 \\\\ 0 & -1}  } $\n",
    "$ \\newcommand{\\Htwo}{ \\mymatrix{rrrr}{ \\frac{1}{2} & \\frac{1}{2} & \\frac{1}{2} & \\frac{1}{2} \\\\ \\frac{1}{2} & -\\frac{1}{2} & \\frac{1}{2} & -\\frac{1}{2} \\\\ \\frac{1}{2} & \\frac{1}{2} & -\\frac{1}{2} & -\\frac{1}{2} \\\\ \\frac{1}{2} & -\\frac{1}{2} & -\\frac{1}{2} & \\frac{1}{2} } } $\n",
    "$ \\newcommand{\\CNOT}{ \\mymatrix{cccc}{1 & 0 & 0 & 0 \\\\ 0 & 1 & 0 & 0 \\\\ 0 & 0 & 0 & 1 \\\\ 0 & 0 & 1 & 0} } $\n",
    "$ \\newcommand{\\norm}[1]{ \\left\\lVert #1 \\right\\rVert } $\n",
    "$ \\newcommand{\\pstate}[1]{ \\lceil \\mspace{-1mu} #1 \\mspace{-1.5mu} \\rfloor } $"
   ]
  },
  {
   "cell_type": "markdown",
   "metadata": {},
   "source": [
    "<h2>Quantum Tomography</h2>\n",
    "\n",
    "We see a very basic form of quantum tomography here."
   ]
  },
  {
   "cell_type": "markdown",
   "metadata": {},
   "source": [
    "<h3> Task 1 </h3>\n",
    "\n",
    "You are given 1000 copies of an arbitrary quantum state which lies in the first or second quadrant of the unit circle.\n",
    "\n",
    "This quantum state can be represented by an angle $ \\theta \\in [0,180) $.\n",
    "\n",
    "<i>Please execute the following cell, but do not check the value of $\\theta$.</i>"
   ]
  },
  {
   "cell_type": "code",
   "execution_count": 2,
   "metadata": {},
   "outputs": [],
   "source": [
    "from random import randrange\n",
    "from math import pi\n",
    " \n",
    "theta = randrange(18000)/18000 * pi"
   ]
  },
  {
   "cell_type": "markdown",
   "metadata": {},
   "source": [
    "Your task is to guess this quantum state by writing quantum programs.\n",
    "\n",
    "We assume that the quantum state is given to us with the following code. \n",
    "\n",
    "    from qiskit import QuantumRegister, ClassicalRegister, QuantumCircuit, execute, Aer\n",
    "\n",
    "    # we define a quantum circuit with one qubit and one bit\n",
    "    qreg2 =  QuantumRegister(1) # quantum register with a single qubit\n",
    "    creg2 = ClassicalRegister(1) # classical register with a single bit\n",
    "    circuit2 = QuantumCircuit(qreg2,creg2) # quantum circuit with quantum and classical registers\n",
    "\n",
    "    # rotate the qubit with rotation_angle\n",
    "    circuit2.ry(2*theta,qreg2[0])\n",
    "\n",
    "You should write further codes without using variable $theta$ again.\n",
    "\n",
    "You may use measurements or further $ry$-gates.\n",
    "\n",
    "You can use 1000 shots in total when executing your quantum programs (you can have more than one program starting with the above code).\n",
    "\n",
    "After your guess, please check the actual value and calculate your error in percentage."
   ]
  },
  {
   "cell_type": "code",
   "execution_count": 3,
   "metadata": {},
   "outputs": [
    {
     "data": {
      "text/plain": [
       "<qiskit.circuit.instructionset.InstructionSet at 0x194e315b940>"
      ]
     },
     "execution_count": 3,
     "metadata": {},
     "output_type": "execute_result"
    }
   ],
   "source": [
    "from qiskit import QuantumRegister, ClassicalRegister, QuantumCircuit, execute, Aer\n",
    "from math import pi\n",
    "\n",
    "# we define a quantum circuit with one qubit and one bit\n",
    "qreg1 =  QuantumRegister(1) # quantum register with a single qubit\n",
    "creg1 = ClassicalRegister(1) # classical register with a single bit\n",
    "circuit1 = QuantumCircuit(qreg1,creg1) # quantum circuit with quantum and classical registers\n",
    "\n",
    "# rotate the qubit with rotation_angle\n",
    "circuit1.ry(2*theta,qreg1[0]) \n",
    "circuit1.measure(qreg1, creg1)"
   ]
  },
  {
   "cell_type": "code",
   "execution_count": 18,
   "metadata": {},
   "outputs": [
    {
     "name": "stdout",
     "output_type": "stream",
     "text": [
      "the number of observed ones 987\n",
      "theta1 is 1.4565302898210843\n",
      "theta is 1.429424657383356\n",
      "relative accuracy is 1.9 %\n"
     ]
    }
   ],
   "source": [
    "# execute the program 100 times\n",
    "job = execute(circuit1,Aer.get_backend('qasm_simulator'),shots=1000)\n",
    "\n",
    "counts = job.result().get_counts(circuit1)\n",
    "\n",
    "number_of_ones = 0\n",
    "if '1' in counts:\n",
    "    number_of_ones = counts['1']\n",
    "print(\"the number of observed ones\",number_of_ones)\n",
    "\n",
    "from math import asin\n",
    "\n",
    "theta1 = asin((number_of_ones/1000)**0.5)\n",
    "\n",
    "print(\"theta1 is\",theta1)\n",
    "print(\"theta is\",theta)\n",
    "print(\"relative accuracy is\", round(abs(theta1-theta)/theta * 100, 1), \"%\")"
   ]
  },
  {
   "cell_type": "markdown",
   "metadata": {},
   "source": [
    "[click for our solution](B48_Quantum_Tomography_Solution.ipynb#task1)"
   ]
  },
  {
   "cell_type": "markdown",
   "metadata": {},
   "source": [
    "<h3> Task 2 [extra] </h3>\n",
    "\n",
    "In Task 1, assume that you are given two qubits that are in states $ \\myvector{\\cos \\theta_1 \\\\ \\sin \\theta_1} $ and $ \\myvector{\\cos \\theta_2 \\\\ \\sin \\theta_2} $, where $ \\theta_1,\\theta_2 \\in [0,\\pi) $.\n",
    "\n",
    "By following the same assumptions in Task 1, can you approximate $ \\theta_1 $ and $ \\theta_2 $ by using qiskit?\n",
    "\n",
    "Your circuit should have a quantum register with these two qubits, and so your measurement outcomes will be '00', '01', '10', and '11'."
   ]
  },
  {
   "cell_type": "code",
   "execution_count": 19,
   "metadata": {},
   "outputs": [],
   "source": [
    "from random import randrange\n",
    "from math import pi\n",
    " \n",
    "angle1 = randrange(18000)/18000 * pi\n",
    "angle2 = randrange(18000)/18000 * pi"
   ]
  },
  {
   "cell_type": "code",
   "execution_count": null,
   "metadata": {},
   "outputs": [],
   "source": [
    "from qiskit import QuantumRegister, ClassicalRegister, QuantumCircuit, execute, Aer\n",
    "from math import pi\n",
    "\n",
    "# we define a quantum circuit with one qubit and one bit\n",
    "qreg2 =  QuantumRegister(2) # quantum register with a single qubit\n",
    "creg2 = ClassicalRegister(2) # classical register with a single bit\n",
    "circuit2 = QuantumCircuit(qreg2,creg2) # quantum circuit with quantum and classical registers\n",
    "\n",
    "# rotate the qubit with rotation_angle\n",
    "circuit1.ry(2*theta,qreg1[0]) \n",
    "circuit1.measure(qreg1, creg1)"
   ]
  },
  {
   "cell_type": "markdown",
   "metadata": {},
   "source": [
    "<h3> Task 3 (Discussion) </h3>\n",
    "\n",
    "If the angle in Task 1 is picked in range $ [0,360) $, then can we determine its quadrant correctly?"
   ]
  },
  {
   "cell_type": "markdown",
   "metadata": {},
   "source": [
    "<h3> Global phase </h3>\n",
    "\n",
    "Suppose that we have a qubit and its state is either $ \\ket{0} $ or $ -\\ket{0} $.\n",
    "\n",
    "Is there any sequence of one-qubit gates such that we can measuare different results after applying them?\n",
    "\n",
    "All one-qubit gates are $ 2 \\times 2 $ matrices, and their application is represented by a single matrix: $ A_n \\cdot \\cdots \\cdot A_2 \\cdot A_1 = A $.\n",
    "\n",
    "By linearity, if $ A \\ket{0} = \\ket{u} $, then $ A - \\ket{0} = -\\ket{u} $. Thus, after measurement, the probabilities of observing state $ \\ket{0} $ and state $ \\ket{1} $ are the same. Therefore, we cannot distinguish them.\n",
    "\n",
    "Even though the states $ \\ket{0} $ and $ -\\ket{0} $ are different mathematically, they are assumed the same from the physical point of view. \n",
    "\n",
    "The minus sign in front of $ -\\ket{0} $ is also called as global phase."
   ]
  }
 ],
 "metadata": {
  "kernelspec": {
   "display_name": "Python 3",
   "language": "python",
   "name": "python3"
  },
  "language_info": {
   "codemirror_mode": {
    "name": "ipython",
    "version": 3
   },
   "file_extension": ".py",
   "mimetype": "text/x-python",
   "name": "python",
   "nbconvert_exporter": "python",
   "pygments_lexer": "ipython3",
   "version": "3.7.3"
  }
 },
 "nbformat": 4,
 "nbformat_minor": 2
}
