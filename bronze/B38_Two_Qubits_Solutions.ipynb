{
 "cells": [
  {
   "cell_type": "markdown",
   "metadata": {},
   "source": [
    "<table>\n",
    "    <tr>\n",
    "        <td  style=\"background-color:#ffffff;\"><a href=\"https://qsoftware.lu.lv/index.php/qworld/\" target=\"_blank\"><img src=\"..\\images\\qworld.jpg\" width=\"70%\" align=\"left\"></a></td>\n",
    "        <td style=\"background-color:#ffffff;\" width=\"*\"></td>\n",
    "        <td  style=\"background-color:#ffffff;vertical-align:text-top;\"><a href=\"https://qsoftware.lu.lv\" target=\"_blank\"><img src=\"..\\images\\logo.jpg\" width=\"25%\" align=\"right\"></a></td>        \n",
    "    </tr>\n",
    "    <tr><td colspan=\"3\" align=\"right\" style=\"color:#777777;background-color:#ffffff;font-size:12px;\">\n",
    "        prepared by <a href=\"http://abu.lu.lv\" target=\"_blank\">Abuzer Yakaryilmaz</a>\n",
    "    </td></tr>\n",
    "    <tr><td colspan=\"3\" align=\"right\" style=\"color:#bbbbbb;background-color:#ffffff;font-size:11px;font-style:italic;\">\n",
    "        This cell contains some macros. If there is a problem with displaying mathematical formulas, please run this cell to load these macros.\n",
    "    </td></tr>\n",
    "</table>\n",
    "$ \\newcommand{\\bra}[1]{\\langle #1|} $\n",
    "$ \\newcommand{\\ket}[1]{|#1\\rangle} $\n",
    "$ \\newcommand{\\braket}[2]{\\langle #1|#2\\rangle} $\n",
    "$ \\newcommand{\\dot}[2]{ #1 \\cdot #2} $\n",
    "$ \\newcommand{\\biginner}[2]{\\left\\langle #1,#2\\right\\rangle} $\n",
    "$ \\newcommand{\\mymatrix}[2]{\\left( \\begin{array}{#1} #2\\end{array} \\right)} $\n",
    "$ \\newcommand{\\myvector}[1]{\\mymatrix{c}{#1}} $\n",
    "$ \\newcommand{\\myrvector}[1]{\\mymatrix{r}{#1}} $\n",
    "$ \\newcommand{\\mypar}[1]{\\left( #1 \\right)} $\n",
    "$ \\newcommand{\\mybigpar}[1]{ \\Big( #1 \\Big)} $\n",
    "$ \\newcommand{\\sqrttwo}{\\frac{1}{\\sqrt{2}}} $\n",
    "$ \\newcommand{\\dsqrttwo}{\\dfrac{1}{\\sqrt{2}}} $\n",
    "$ \\newcommand{\\onehalf}{\\frac{1}{2}} $\n",
    "$ \\newcommand{\\donehalf}{\\dfrac{1}{2}} $\n",
    "$ \\newcommand{\\hadamard}{ \\mymatrix{rr}{ \\sqrttwo & \\sqrttwo \\\\ \\sqrttwo & -\\sqrttwo }} $\n",
    "$ \\newcommand{\\vzero}{\\myvector{1\\\\0}} $\n",
    "$ \\newcommand{\\vone}{\\myvector{0\\\\1}} $\n",
    "$ \\newcommand{\\vhadamardzero}{\\myvector{ \\sqrttwo \\\\  \\sqrttwo } } $\n",
    "$ \\newcommand{\\vhadamardone}{ \\myrvector{ \\sqrttwo \\\\ -\\sqrttwo } } $\n",
    "$ \\newcommand{\\myarray}[2]{ \\begin{array}{#1}#2\\end{array}} $\n",
    "$ \\newcommand{\\X}{ \\mymatrix{cc}{0 & 1 \\\\ 1 & 0}  } $\n",
    "$ \\newcommand{\\Z}{ \\mymatrix{rr}{1 & 0 \\\\ 0 & -1}  } $\n",
    "$ \\newcommand{\\Htwo}{ \\mymatrix{rrrr}{ \\frac{1}{2} & \\frac{1}{2} & \\frac{1}{2} & \\frac{1}{2} \\\\ \\frac{1}{2} & -\\frac{1}{2} & \\frac{1}{2} & -\\frac{1}{2} \\\\ \\frac{1}{2} & \\frac{1}{2} & -\\frac{1}{2} & -\\frac{1}{2} \\\\ \\frac{1}{2} & -\\frac{1}{2} & -\\frac{1}{2} & \\frac{1}{2} } } $\n",
    "$ \\newcommand{\\CNOT}{ \\mymatrix{cccc}{1 & 0 & 0 & 0 \\\\ 0 & 1 & 0 & 0 \\\\ 0 & 0 & 0 & 1 \\\\ 0 & 0 & 1 & 0} } $\n",
    "$ \\newcommand{\\norm}[1]{ \\left\\lVert #1 \\right\\rVert } $"
   ]
  },
  {
   "cell_type": "markdown",
   "metadata": {},
   "source": [
    "<h2> <font color=\"blue\"> Solutions for </font>Two Qubits</h2>"
   ]
  },
  {
   "cell_type": "markdown",
   "metadata": {},
   "source": [
    "<a id=\"task2\"></a>\n",
    "<h3> Task 2 </h3>\n",
    "\n",
    "Create a quantum circuit with two qubits: qreg[0] and qreg[1].\n",
    "\n",
    "<i> Qiskit combines these two qubits as qreg[1]$\\otimes$qreg[0]. </i>\n",
    "\n",
    "Apply rotation with angle $ \\frac{\\pi}{6} $ to qreg[1].\n",
    "\n",
    "Apply rotation with angle $ \\frac{3\\pi}{4} $ to qreg[0].\n",
    "\n",
    "Calculate the quantum states of both qubits and then the quantum state of composite system (qreg[1]$\\otimes$qreg[0]) on paper.\n",
    "\n",
    "Read quantum state of the quantum circuit.\n",
    "\n",
    "Compare your results."
   ]
  },
  {
   "cell_type": "markdown",
   "metadata": {},
   "source": [
    "<h3> Solution </h3>"
   ]
  },
  {
   "cell_type": "markdown",
   "metadata": {},
   "source": [
    "The quantum state of qreg[1] is $ \\myvector{ \\cos(\\frac{\\pi}{6}) \\\\ \\sin(\\frac{\\pi}{6})  } = \\myvector{ \\frac{\\sqrt{3}}{2} \\\\ \\frac{1}{2} } $.\n",
    "\n",
    "The quantum state of qreg[0] is $ \\myvector{ \\cos(\\frac{3\\pi}{4}) \\\\ \\sin(\\frac{3\\pi}{4})  } = \\myrvector{ -\\frac{1}{\\sqrt{2}} \\\\ \\frac{1}{\\sqrt{2}} } $.\n",
    "\n",
    "The quantum state of qreg[1]$\\otimes$qreg[0] is $ \\myvector{ \\frac{\\sqrt{3}}{2} \\\\ \\frac{1}{2} } \\otimes \\myrvector{ -\\frac{1}{\\sqrt{2}} \\\\ \\frac{1}{\\sqrt{2}} } =  \\myvector{ \\frac{\\sqrt{3}}{2} \\myrvector{ -\\frac{1}{\\sqrt{2}} \\\\ \\frac{1}{\\sqrt{2}} } \\\\ \\frac{1}{2} \\myrvector{ -\\frac{1}{\\sqrt{2}} \\\\ \\frac{1}{\\sqrt{2}} } } =\\myrvector{ - \\frac{\\sqrt{3}}{2\\sqrt{2}} \\\\ \\frac{\\sqrt{3}}{2\\sqrt{2}} \\\\ - \\frac{1}{2\\sqrt{2}} \\\\ \\frac{1}{2\\sqrt{2}} }  $."
   ]
  },
  {
   "cell_type": "code",
   "execution_count": 1,
   "metadata": {},
   "outputs": [
    {
     "name": "stdout",
     "output_type": "stream",
     "text": [
      "-0.6124\n",
      "0.6124\n",
      "-0.3536\n",
      "0.3536\n"
     ]
    }
   ],
   "source": [
    "# we can print the values by using python\n",
    "\n",
    "print( round(-3**0.5/(2*2**0.5),4) )\n",
    "print( round(3**0.5/(2*2**0.5),4) )\n",
    "print( round(-1/(2*2**0.5),4) )\n",
    "print( round(1/(2*2**0.5),4) )"
   ]
  },
  {
   "cell_type": "code",
   "execution_count": 2,
   "metadata": {},
   "outputs": [
    {
     "name": "stdout",
     "output_type": "stream",
     "text": [
      "0.6124\n",
      "-0.6124\n",
      "0.3536\n",
      "-0.3536\n"
     ]
    }
   ],
   "source": [
    "from qiskit import QuantumRegister, ClassicalRegister, QuantumCircuit, execute, Aer\n",
    "from math import pi\n",
    "\n",
    "qreg =  QuantumRegister(2)\n",
    "creg = ClassicalRegister(2)\n",
    "mycircuit = QuantumCircuit(qreg,creg)\n",
    "\n",
    "mycircuit.ry(2*(pi/6),qreg[1])\n",
    "mycircuit.ry(2*(3*pi/4),qreg[0])\n",
    "\n",
    "job = execute(mycircuit,Aer.get_backend('statevector_simulator'))\n",
    "current_quantum_state=job.result().get_statevector(mycircuit)\n",
    "\n",
    "for amplitude in current_quantum_state:\n",
    "    print( round(amplitude.real,4) )"
   ]
  },
  {
   "cell_type": "markdown",
   "metadata": {},
   "source": [
    "<a id=\"task3\"></a>\n",
    "<h3> Task 3 </h3>\n",
    "\n",
    "Create a quantum curcuit with $ n=5 $ qubits.\n",
    "\n",
    "Set each qubit to $ \\ket{1} $.\n",
    "\n",
    "Repeat 4 times:\n",
    "<ul>\n",
    "    <li>Randomly pick a pair of qubits, and apply cx-gate (CNOT operator) on the pair.</li>\n",
    "</ul>\n",
    "\n",
    "Draw your circuit, and execute your program 100 times.\n",
    "\n",
    "Verify your measurement results by checking the diagram of the circuit. "
   ]
  },
  {
   "cell_type": "markdown",
   "metadata": {},
   "source": [
    "<h3> Solution </h3>"
   ]
  },
  {
   "cell_type": "code",
   "execution_count": 1,
   "metadata": {},
   "outputs": [
    {
     "name": "stdout",
     "output_type": "stream",
     "text": [
      "the indices of the controller and target qubits are 4 2\n",
      "the indices of the controller and target qubits are 3 0\n",
      "the indices of the controller and target qubits are 3 2\n",
      "the indices of the controller and target qubits are 3 2\n",
      "Everything looks fine, let's continue ...\n"
     ]
    }
   ],
   "source": [
    "# import all necessary objects and methods for quantum circuits\n",
    "from qiskit import QuantumRegister, ClassicalRegister, QuantumCircuit, execute, Aer\n",
    "# import randrange for random choices\n",
    "from random import randrange\n",
    "\n",
    "n = 5\n",
    "m = 4\n",
    "\n",
    "states_of_qubits = [] # we trace the state of each qubit also by ourselves\n",
    "\n",
    "qreg1 =  QuantumRegister(n) # quantum register with n qubits\n",
    "creg1 = ClassicalRegister(n) # classical register with n bits\n",
    "\n",
    "mycircuit1 = QuantumCircuit(qreg1,creg1) # quantum circuit with quantum and classical registers\n",
    "\n",
    "# set each qubit to |1>\n",
    "for i in range(n):\n",
    "    mycircuit1.x(qreg1[i]) # apply x-gate (NOT operator)\n",
    "    states_of_qubits.append(1) # the state of each qubit is set to 1\n",
    "    \n",
    "# randomly pick m pairs of qubits\n",
    "for i in range(m):\n",
    "    controller_qubit = randrange(n)\n",
    "    target_qubit = randrange(n)\n",
    "    # controller and target qubits should be different\n",
    "    while controller_qubit == target_qubit: # if they are the same, we pick the target_qubit again\n",
    "        target_qubit = randrange(n)\n",
    "    # print our picked qubits\n",
    "    print(\"the indices of the controller and target qubits are\",controller_qubit,target_qubit)\n",
    "    # apply cx-gate (CNOT operator)\n",
    "    mycircuit1.cx(qreg1[controller_qubit],qreg1[target_qubit])\n",
    "    # we also trace the results\n",
    "    if states_of_qubits[controller_qubit] == 1: # if the value of the controller qubit is 1,\n",
    "        states_of_qubits[target_qubit] = 1 - states_of_qubits[target_qubit] # then flips the value of the target qubit \n",
    "        # remark that 1-x gives the negation of x\n",
    "    \n",
    "\n",
    "# measure the quantum register\n",
    "mycircuit1.measure(qreg1,creg1)\n",
    "\n",
    "print(\"Everything looks fine, let's continue ...\")"
   ]
  },
  {
   "cell_type": "code",
   "execution_count": 2,
   "metadata": {},
   "outputs": [
    {
     "data": {
      "image/png": "[encoded data removed]",
      "text/plain": [
       "<Figure size 730.828x385.28 with 1 Axes>"
      ]
     },
     "execution_count": 2,
     "metadata": {},
     "output_type": "execute_result"
    }
   ],
   "source": [
    "# draw the circuit\n",
    "\n",
    "mycircuit1.draw(output='mpl')\n",
    "# re-execute this cell if you DO NOT see the circuit diagram"
   ]
  },
  {
   "cell_type": "code",
   "execution_count": 3,
   "metadata": {},
   "outputs": [
    {
     "name": "stdout",
     "output_type": "stream",
     "text": [
      "01011 is observed 100 times\n",
      "[0, 1, 0, 1, 1]\n"
     ]
    }
   ],
   "source": [
    "# execute the circuit 100 times in the local simulator\n",
    "\n",
    "job = execute(mycircuit1,Aer.get_backend('qasm_simulator'),shots=100)\n",
    "counts = job.result().get_counts(mycircuit1)\n",
    "\n",
    "# print the reverse of the outcome\n",
    "for outcome in counts:\n",
    "    reverse_outcome = ''\n",
    "    for i in outcome:\n",
    "        reverse_outcome = i + reverse_outcome\n",
    "    print(reverse_outcome,\"is observed\",counts[outcome],\"times\")\n",
    "\n",
    "# the states of the qubits should be as follows based on our own calculation\n",
    "print(states_of_qubits)"
   ]
  },
  {
   "cell_type": "markdown",
   "metadata": {},
   "source": [
    "<a id=\"task4\"></a>\n",
    "<h3>Task 4</h3>\n",
    "\n",
    "Our task is to learn the behavior of the following quantum circuit by doing experiments.\n",
    "\n",
    "Our circuit has two qubits. \n",
    "<ul>\n",
    "    <li> Apply Hadamard to the both qubits.\n",
    "    <li> Apply CNOT(first-qubit,second-qubit).\n",
    "    <li> Apply Hadamard to the both qubits.\n",
    "    <li> Measure the circuit.\n",
    "</ul>\n",
    "\n",
    "Iteratively initialize  the qubits to $ \\ket{00} $, $ \\ket{01} $, $ \\ket{10} $, and $ \\ket{11} $.\n",
    "\n",
    "Execute your program 100 times for each iteration, and then check the outcomes for each iteration. \n",
    "\n",
    "Verify that the overall circuit implements CNOT(second-qubit,first-qubit)."
   ]
  },
  {
   "cell_type": "markdown",
   "metadata": {},
   "source": [
    "<h3> Solution </h3>"
   ]
  },
  {
   "cell_type": "code",
   "execution_count": 4,
   "metadata": {},
   "outputs": [
    {
     "name": "stdout",
     "output_type": "stream",
     "text": [
      "our input is 00 :  00 is observed 100 times\n",
      "our input is 01 :  11 is observed 100 times\n",
      "our input is 10 :  10 is observed 100 times\n",
      "our input is 11 :  01 is observed 100 times\n"
     ]
    }
   ],
   "source": [
    "# import all necessary objects and methods for quantum circuits\n",
    "from qiskit import QuantumRegister, ClassicalRegister, QuantumCircuit, execute, Aer\n",
    "\n",
    "all_inputs=['00','01','10','11']\n",
    "\n",
    "for input in all_inputs:\n",
    "    qreg2 =  QuantumRegister(2) # quantum register with 2 qubits\n",
    "    creg2 = ClassicalRegister(2) # classical register with 2 bits\n",
    "    mycircuit2 = QuantumCircuit(qreg2,creg2) # quantum circuit with quantum and classical registers\n",
    "    \n",
    "    #initialize the inputs\n",
    "    if input[0]=='1':\n",
    "        mycircuit2.x(qreg2[0]) # set the state of the first qubit to |1>\n",
    "    if input[1]=='1':\n",
    "        mycircuit2.x(qreg2[1]) # set the state of the second qubit to |1>\n",
    "\n",
    "    # apply h-gate to both qubits\n",
    "    mycircuit2.h(qreg2[0])\n",
    "    mycircuit2.h(qreg2[1])\n",
    "\n",
    "    # apply cx(first-qubit,second-qubit)\n",
    "    mycircuit2.cx(qreg2[0],qreg2[1])\n",
    "\n",
    "    # apply h-gate to both qubits\n",
    "    mycircuit2.h(qreg2[0])\n",
    "    mycircuit2.h(qreg2[1])\n",
    "\n",
    "    # measure both qubits\n",
    "    mycircuit2.measure(qreg2,creg2)\n",
    "    \n",
    "    # execute the circuit 100 times in the local simulator\n",
    "    job = execute(mycircuit2,Aer.get_backend('qasm_simulator'),shots=100)\n",
    "    counts = job.result().get_counts(mycircuit2)\n",
    "    for outcome in counts: # print the reverse of the outcomes\n",
    "        reverse_outcome = ''\n",
    "        for i in outcome:\n",
    "            reverse_outcome = i + reverse_outcome\n",
    "        print(\"our input is\",input,\": \",reverse_outcome,\"is observed\",counts[outcome],\"times\")"
   ]
  },
  {
   "cell_type": "markdown",
   "metadata": {},
   "source": [
    "<a id=\"task5\"></a>\n",
    "<h3>Task 5</h3>\n",
    "\n",
    "Our task is to learn the behavior of the following quantum circuit by doing experiments.\n",
    "\n",
    "Our circuit has two qubits. \n",
    "<ul>\n",
    "    <li> Apply CNOT(first-qubit,second-qubit).\n",
    "    <li> Apply CNOT(second-qubit,first-qubit).\n",
    "    <li> Apply CNOT(first-qubit,second-qubit).\n",
    "</ul>\n",
    "\n",
    "Iteratively initialize  the qubits to $ \\ket{00} $, $ \\ket{01} $, $ \\ket{10} $, and $ \\ket{11} $.\n",
    "\n",
    "Execute your program 100 times for each iteration, and then check the outcomes for each iteration. \n",
    "\n",
    "Verify that the overall circuit swaps the values of the first and second qubits:\n",
    "<ul>\n",
    "    <li> $\\ket{00} \\rightarrow \\ket{00} $ </li>\n",
    "    <li> $\\ket{01} \\rightarrow \\ket{10} $ </li>\n",
    "    <li> $\\ket{10} \\rightarrow \\ket{01} $ </li>\n",
    "    <li> $\\ket{11} \\rightarrow \\ket{11} $ </li>\n",
    "</ul>"
   ]
  },
  {
   "cell_type": "markdown",
   "metadata": {},
   "source": [
    "<h3> Solution </h3>"
   ]
  },
  {
   "cell_type": "code",
   "execution_count": 5,
   "metadata": {},
   "outputs": [
    {
     "name": "stdout",
     "output_type": "stream",
     "text": [
      "our input is 00 :  00 is observed 100 times\n",
      "our input is 01 :  10 is observed 100 times\n",
      "our input is 10 :  01 is observed 100 times\n",
      "our input is 11 :  11 is observed 100 times\n"
     ]
    }
   ],
   "source": [
    "# import all necessary objects and methods for quantum circuits\n",
    "from qiskit import QuantumRegister, ClassicalRegister, QuantumCircuit, execute, Aer\n",
    "\n",
    "all_inputs=['00','01','10','11']\n",
    "\n",
    "for input in all_inputs:\n",
    "    qreg3 =  QuantumRegister(2) # quantum register with 2 qubits\n",
    "    creg3 = ClassicalRegister(2) # classical register with 2 bits\n",
    "    mycircuit3 = QuantumCircuit(qreg3,creg3) # quantum circuit with quantum and classical registers\n",
    "    \n",
    "    #initialize the inputs\n",
    "    if input[0]=='1':\n",
    "        mycircuit3.x(qreg3[0]) # set the value of the first qubit to |1>\n",
    "    if input[1]=='1':\n",
    "        mycircuit3.x(qreg3[1]) # set the value of the second qubit to |1>\n",
    "\n",
    "    # apply cx(first-qubit,second-qubit)\n",
    "    mycircuit3.cx(qreg3[0],qreg3[1])\n",
    "    # apply cx(second-qubit,first-qubit)\n",
    "    mycircuit3.cx(qreg3[1],qreg3[0])\n",
    "    # apply cx(first-qubit,second-qubit)\n",
    "    mycircuit3.cx(qreg3[0],qreg3[1])\n",
    "    \n",
    "    mycircuit3.measure(qreg3,creg3)\n",
    "    \n",
    "    # execute the circuit 100 times in the local simulator\n",
    "    job = execute(mycircuit3,Aer.get_backend('qasm_simulator'),shots=100)\n",
    "    counts = job.result().get_counts(mycircuit3)\n",
    "    for outcome in counts: # print the reverse of the outcomes\n",
    "        reverse_outcome = ''\n",
    "        for i in outcome:\n",
    "            reverse_outcome = i + reverse_outcome\n",
    "        print(\"our input is\",input,\": \",reverse_outcome,\"is observed\",counts[outcome],\"times\")"
   ]
  },
  {
   "cell_type": "code",
   "execution_count": null,
   "metadata": {},
   "outputs": [],
   "source": []
  }
 ],
 "metadata": {
  "kernelspec": {
   "display_name": "Python 3",
   "language": "python",
   "name": "python3"
  },
  "language_info": {
   "codemirror_mode": {
    "name": "ipython",
    "version": 3
   },
   "file_extension": ".py",
   "mimetype": "text/x-python",
   "name": "python",
   "nbconvert_exporter": "python",
   "pygments_lexer": "ipython3",
   "version": "3.7.3"
  }
 },
 "nbformat": 4,
 "nbformat_minor": 2
}
