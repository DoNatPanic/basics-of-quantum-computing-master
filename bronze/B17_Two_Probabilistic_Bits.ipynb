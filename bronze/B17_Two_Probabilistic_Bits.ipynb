{
 "cells": [
  {
   "cell_type": "markdown",
   "metadata": {},
   "source": [
    "<table> <tr>\n",
    "        <td  style=\"background-color:#ffffff;\">\n",
    "            <a href=\"http://qworld.lu.lv\" target=\"_blank\"><img src=\"..\\images\\qworld.jpg\" width=\"25%\" align=\"left\"> </a></td>\n",
    "        <td style=\"background-color:#ffffff;vertical-align:bottom;text-align:right;\">\n",
    "            prepared by Abuzer Yakaryilmaz (<a href=\"http://qworld.lu.lv/index.php/qlatvia/\" target=\"_blank\">QLatvia</a>)\n",
    "        </td>        \n",
    "</tr></table>"
   ]
  },
  {
   "cell_type": "markdown",
   "metadata": {},
   "source": [
    "<table width=\"100%\"><tr><td style=\"color:#bbbbbb;background-color:#ffffff;font-size:11px;font-style:italic;text-align:right;\">This cell contains some macros. If there is a problem with displaying mathematical formulas, please run this cell to load these macros. </td></tr></table>\n",
    "$ \\newcommand{\\bra}[1]{\\langle #1|} $\n",
    "$ \\newcommand{\\ket}[1]{|#1\\rangle} $\n",
    "$ \\newcommand{\\braket}[2]{\\langle #1|#2\\rangle} $\n",
    "$ \\newcommand{\\dot}[2]{ #1 \\cdot #2} $\n",
    "$ \\newcommand{\\biginner}[2]{\\left\\langle #1,#2\\right\\rangle} $\n",
    "$ \\newcommand{\\mymatrix}[2]{\\left( \\begin{array}{#1} #2\\end{array} \\right)} $\n",
    "$ \\newcommand{\\myvector}[1]{\\mymatrix{c}{#1}} $\n",
    "$ \\newcommand{\\myrvector}[1]{\\mymatrix{r}{#1}} $\n",
    "$ \\newcommand{\\mypar}[1]{\\left( #1 \\right)} $\n",
    "$ \\newcommand{\\mybigpar}[1]{ \\Big( #1 \\Big)} $\n",
    "$ \\newcommand{\\sqrttwo}{\\frac{1}{\\sqrt{2}}} $\n",
    "$ \\newcommand{\\dsqrttwo}{\\dfrac{1}{\\sqrt{2}}} $\n",
    "$ \\newcommand{\\onehalf}{\\frac{1}{2}} $\n",
    "$ \\newcommand{\\donehalf}{\\dfrac{1}{2}} $\n",
    "$ \\newcommand{\\hadamard}{ \\mymatrix{rr}{ \\sqrttwo & \\sqrttwo \\\\ \\sqrttwo & -\\sqrttwo }} $\n",
    "$ \\newcommand{\\vzero}{\\myvector{1\\\\0}} $\n",
    "$ \\newcommand{\\vone}{\\myvector{0\\\\1}} $\n",
    "$ \\newcommand{\\vhadamardzero}{\\myvector{ \\sqrttwo \\\\  \\sqrttwo } } $\n",
    "$ \\newcommand{\\vhadamardone}{ \\myrvector{ \\sqrttwo \\\\ -\\sqrttwo } } $\n",
    "$ \\newcommand{\\myarray}[2]{ \\begin{array}{#1}#2\\end{array}} $\n",
    "$ \\newcommand{\\X}{ \\mymatrix{cc}{0 & 1 \\\\ 1 & 0}  } $\n",
    "$ \\newcommand{\\Z}{ \\mymatrix{rr}{1 & 0 \\\\ 0 & -1}  } $\n",
    "$ \\newcommand{\\Htwo}{ \\mymatrix{rrrr}{ \\frac{1}{2} & \\frac{1}{2} & \\frac{1}{2} & \\frac{1}{2} \\\\ \\frac{1}{2} & -\\frac{1}{2} & \\frac{1}{2} & -\\frac{1}{2} \\\\ \\frac{1}{2} & \\frac{1}{2} & -\\frac{1}{2} & -\\frac{1}{2} \\\\ \\frac{1}{2} & -\\frac{1}{2} & -\\frac{1}{2} & \\frac{1}{2} } } $\n",
    "$ \\newcommand{\\CNOT}{ \\mymatrix{cccc}{1 & 0 & 0 & 0 \\\\ 0 & 1 & 0 & 0 \\\\ 0 & 0 & 0 & 1 \\\\ 0 & 0 & 1 & 0} } $\n",
    "$ \\newcommand{\\norm}[1]{ \\left\\lVert #1 \\right\\rVert } $\n",
    "$ \\newcommand{\\pstate}[1]{ \\lceil \\mspace{-1mu} #1 \\mspace{-1.5mu} \\rfloor } $"
   ]
  },
  {
   "cell_type": "markdown",
   "metadata": {},
   "source": [
    "<h2> Two Probabilistic Bits</h2>\n",
    "\n",
    "Suppose that we have two probabilistic bits, and our probabilistic states respectively are\n",
    "\n",
    "$$ \\myvector{0.2 \\\\ 0.8} \\mbox{ and } \\myvector{0.6 \\\\ 0.4 }. $$\n",
    "\n",
    "If we combine both bits as a single system, then what is the state of the combined system?"
   ]
  },
  {
   "cell_type": "markdown",
   "metadata": {},
   "source": [
    "In total, we have four different states. We can name them as follows:\n",
    "<ul>\n",
    "    <li>00: both bits are in states 0</li>\n",
    "    <li>01: the first bit is in state 0 and the second bit is in state 1</li>\n",
    "    <li>10: the first bit is in state 1 and the second bit is in state 0</li>\n",
    "    <li>11: both bits are in states 1</li>\n",
    "</ul>"
   ]
  },
  {
   "cell_type": "markdown",
   "metadata": {},
   "source": [
    "<h3> Task 1 </h3>\n",
    "\n",
    "<b>Discussion and analysis:</b>\n",
    "\n",
    "What are the probabilities of being in states $ 00 $, $ 01 $, $ 10 $, and $11$?\n",
    "\n",
    "How can we represent these probabilities as a column vector?"
   ]
  },
  {
   "cell_type": "markdown",
   "metadata": {},
   "source": [
    "<h3> Representation for states 0 and 1</h3>\n",
    "\n",
    "The vector representation of state 0 is $ \\myvector{1 \\\\ 0} $. Similarly, the vector representation of state 1 is $ \\myvector{0 \\\\ 1} $.\n",
    "\n",
    "We use $ \\pstate{0} $ to represent $ \\myvector{1 \\\\ 0} $ and $ \\pstate{1} $ to represent $ \\myvector{0 \\\\ 1} $.\n",
    "\n",
    "Then, the probabilistic state $ \\myvector{0.2 \\\\ 0.8} $ is also represented as $ 0.2 \\pstate{0} + 0.8 \\pstate{1} $.\n",
    "\n",
    "Similarly, the probabilistic state $ \\myvector{0.6 \\\\ 0.4} $ is also represented as $ 0.6 \\pstate{0} + 0.4 \\pstate{1} $."
   ]
  },
  {
   "cell_type": "markdown",
   "metadata": {},
   "source": [
    "<h3> Composite system </h3>\n",
    "\n",
    "When two systems are composed, then their states are tensored to calculate the state of composite system.\n",
    "\n",
    "The probabilistic state of the first bit is $  \\myvector{0.2 \\\\ 0.8} = 0.2 \\pstate{0} + 0.8 \\pstate{1} $.\n",
    "\n",
    "The probabilistic state of the second bit is $  \\myvector{0.6 \\\\ 0.4} = 0.6 \\pstate{0} + 0.4 \\pstate{1} $.\n",
    "\n",
    "Then, the probabilistic state of the composite system is $ \\big( 0.2 \\pstate{0} + 0.8 \\pstate{1} \\big) \\otimes  \\big( 0.6 \\pstate{0} + 0.4 \\pstate{1} \\big) $.\n"
   ]
  },
  {
   "cell_type": "markdown",
   "metadata": {},
   "source": [
    "<h3> Task 2 </h3>\n",
    "\n",
    "Find the probabilistic state of the composite system.\n",
    "\n",
    "<i> \n",
    "Rule 1: Tensor product distributes over addition in the same way as the distribution of multiplication over addition.\n",
    "\n",
    "Rule 2: $ \\big( 0.3 \\pstate{1} \\big) \\otimes \\big( 0.7 \\pstate{0} \\big) = (0.3 \\cdot 0.7) \\big( \\pstate{1} \\otimes \\pstate{0} \\big) = 0.21 \\pstate{10} $.\n",
    "</i>"
   ]
  },
  {
   "cell_type": "markdown",
   "metadata": {},
   "source": [
    "<h4>Solution<h4>\n",
    "$0.3 \\myvector{0 \\\\ 1} \\otimes 0.7 \\myvector{1 \\\\ 0} = 0.21 \\myvector{\\myvector{0 \\\\ 1} \\otimes \\myvector{1 \\\\ 0}} = 0.21 \\myvector{0 \\myvector{1 \\\\ 0} \\\\ 1 \\myvector{1 \\\\ 0} } = 0.21 \\myvector{0 \\\\ 0 \\\\ 1 \\\\ 0} = \\myvector{0 \\\\ 0 \\\\ 0.21 \\\\ 0}$."
   ]
  },
  {
   "cell_type": "markdown",
   "metadata": {},
   "source": [
    "<a href=\"B17_Two_Probabilistic_Bits_Solutions.ipynb#task2\">click for our solution</a>"
   ]
  },
  {
   "cell_type": "markdown",
   "metadata": {},
   "source": [
    "<h3> Task 3</h3>\n",
    "\n",
    "Find the probabilistic state of the composite system by calculating this tensor product $ \\myvector{0.2 \\\\ 0.8} \\otimes \\myvector{0.6 \\\\ 0.4 } $."
   ]
  },
  {
   "cell_type": "markdown",
   "metadata": {},
   "source": [
    "<h4>Solution</h4>\n",
    "\n",
    " $ \\myvector{0.2 \\\\ 0.8} \\otimes \\myvector{0.6 \\\\ 0.4 } = \\myvector{ 0.2 \\myvector{0.6 \\\\ 0.4} \\\\ 0.8 \\myvector{0.6 \\\\ 0.4}  } = \\myvector{0.12 \\\\ 0.08 \\\\ 0.48 \\\\ 0.32} $.\n",
    "Alternatively,"
   ]
  },
  {
   "cell_type": "code",
   "execution_count": 1,
   "metadata": {},
   "outputs": [
    {
     "name": "stdout",
     "output_type": "stream",
     "text": [
      "[[0.12], [0.08000000000000002], [0.48], [0.32000000000000006]]\n"
     ]
    }
   ],
   "source": [
    "#lets define tensor multiplication of two states\n",
    "def bitsMultiply(M1,M2):\n",
    "    M=[]\n",
    "    for i in range(4):\n",
    "        M.append([0])\n",
    "    for i in range(2): # row of M1\n",
    "        for j in range(1): # column of M1\n",
    "            for k in range(2): # row of M2\n",
    "                for l in range(1): # column of M2\n",
    "                    M[i*2+k][1*j+l] = M1[i][j] * M2[k][l] \n",
    "    return M\n",
    "\n",
    "#first probabilistic state\n",
    "M0 = [[0.2],[0.8]]\n",
    "#second probabilistic state\n",
    "M1 = [[0.6],[0.4]]\n",
    "#state of composite system\n",
    "M01=[]\n",
    "\n",
    "for i in range(4):\n",
    "    M01.append([0])\n",
    "\n",
    "#call function \n",
    "M01=bitsMultiply(M0,M1)\n",
    "\n",
    "print(M01)"
   ]
  },
  {
   "cell_type": "markdown",
   "metadata": {},
   "source": [
    "<a href=\"B17_Two_Probabilistic_Bits_Solutions.ipynb#task3\">click for our solution</a>"
   ]
  },
  {
   "cell_type": "markdown",
   "metadata": {},
   "source": [
    "<h3> Task 4</h3>\n",
    "\n",
    "Find the vector representations of $ \\pstate{00} $, $ \\pstate{01} $, $\\pstate{10}$, and $ \\pstate{11} $.\n",
    "\n",
    "<i>The vector representation of $ \\pstate{ab} $ is $ \\pstate{a} \\otimes \\pstate{b} $ for $ a,b \\in \\{0,1\\} $.</i>"
   ]
  },
  {
   "cell_type": "code",
   "execution_count": 1,
   "metadata": {},
   "outputs": [
    {
     "name": "stdout",
     "output_type": "stream",
     "text": [
      "tensor muliply of [1,0] and [1,0] is [[1], [0], [0], [0]]\n",
      "tensor muliply of [1,0] and [0,1] is [[0], [1], [0], [0]]\n",
      "tensor muliply of [0,1] and [1,0] is [[0], [0], [1], [0]]\n",
      "tensor muliply of [0,1] and [0,1] is [[0], [0], [0], [1]]\n"
     ]
    }
   ],
   "source": [
    "# matrix M0\n",
    "M0 = [[1],[0]]\n",
    "\n",
    "# matrix M1\n",
    "M1 = [[0],[1]]\n",
    "\n",
    "M00=[]\n",
    "M01=[]\n",
    "M10=[]\n",
    "M11=[]\n",
    "for i in range(4):\n",
    "    M00.append([0])\n",
    "    M01.append([0])\n",
    "    M10.append([0])\n",
    "    M11.append([0])\n",
    "\n",
    "def bitsMultiply(M1,M2):\n",
    "    M=[]\n",
    "    for i in range(4):\n",
    "        M.append([0])\n",
    "    for i in range(2): # row of M1\n",
    "        for j in range(1): # column of M1\n",
    "            for k in range(2): # row of M2\n",
    "                for l in range(1): # column of M2\n",
    "                    M[i*2+k][1*j+l] = M1[i][j] * M2[k][l] \n",
    "    return M\n",
    "\n",
    "M00=bitsMultiply(M0,M0)\n",
    "M01=bitsMultiply(M0,M1)\n",
    "M10=bitsMultiply(M1,M0)\n",
    "M11=bitsMultiply(M1,M1)\n",
    "print(\"tensor muliply of [1,0] and [1,0] is\", M00)\n",
    "print(\"tensor muliply of [1,0] and [0,1] is\", M01)\n",
    "print(\"tensor muliply of [0,1] and [1,0] is\", M10)\n",
    "print(\"tensor muliply of [0,1] and [0,1] is\", M11)"
   ]
  },
  {
   "cell_type": "markdown",
   "metadata": {},
   "source": [
    "Alternatively,\n",
    "\n",
    "$ \\pstate{00} = \\pstate{0} \\otimes \\pstate{0} = \\myvector{1 \\\\ 0} \\otimes \\myvector{1 \\\\ 0} =  \\myvector{1 \\myvector{1 \\\\ 0} \\\\ 0 \\myvector{1 \\\\ 0} }  = \\myvector{1 \\\\ 0 \\\\ 0 \\\\ 0} $.\n",
    "\n",
    "$ \\pstate{01} = \\pstate{0} \\otimes \\pstate{1} = \\myvector{1 \\\\ 0} \\otimes \\myvector{0 \\\\ 1} = \\myvector{1 \\myvector{0 \\\\ 1} \\\\ 0 \\myvector{0 \\\\ 1} }  = \\myvector{0 \\\\ 1 \\\\ 0 \\\\ 0} $.\n",
    "\n",
    "$ \\pstate{10} = \\pstate{1} \\otimes \\pstate{0} = \\myvector{0 \\\\ 1} \\otimes \\myvector{1 \\\\ 0} = \\myvector{0 \\myvector{1 \\\\ 0} \\\\ 1 \\myvector{1 \\\\ 0} }  = \\myvector{0 \\\\ 0 \\\\ 1 \\\\ 0} $.\n",
    "\n",
    "$ \\pstate{11} = \\pstate{1} \\otimes \\pstate{1} = \\myvector{0 \\\\ 1} \\otimes \\myvector{0 \\\\ 1} = \\myvector{0 \\myvector{0 \\\\ 1} \\\\ 1 \\myvector{0 \\\\ 1} }  = \\myvector{0 \\\\ 0 \\\\ 0 \\\\ 1} $."
   ]
  },
  {
   "cell_type": "markdown",
   "metadata": {},
   "source": [
    "<a href=\"B17_Two_Probabilistic_Bits_Solutions.ipynb#task4\">click for our solution</a>"
   ]
  },
  {
   "cell_type": "markdown",
   "metadata": {},
   "source": [
    "<h3> Task 5 [extra] </h3>\n",
    "\n",
    "Suppose that we have three bits.\n",
    "\n",
    "Find the vector representations of $ \\pstate{abc} $ for each $ a,b,c \\in \\{0,1\\} $."
   ]
  },
  {
   "cell_type": "code",
   "execution_count": 9,
   "metadata": {},
   "outputs": [
    {
     "name": "stdout",
     "output_type": "stream",
     "text": [
      "tensor muliply of [1,0,0] and [1,0,0] is [[1], [0], [0], [0], [0], [0], [0], [0], [0]]\n",
      "tensor muliply of [1,0,0] and [0,1,0] is [[0], [1], [0], [0], [0], [0], [0], [0], [0]]\n",
      "tensor muliply of [1,0,0] and [0,0,1] is [[0], [0], [1], [0], [0], [0], [0], [0], [0]]\n",
      "tensor muliply of [0,1,0] and [1,0,0] is [[0], [0], [0], [1], [0], [0], [0], [0], [0]]\n",
      "tensor muliply of [0,1,0] and [0,1,0] is [[0], [0], [0], [0], [1], [0], [0], [0], [0]]\n",
      "tensor muliply of [0,1,0] and [0,0,1] is [[0], [0], [0], [0], [0], [1], [0], [0], [0]]\n",
      "tensor muliply of [0,0,1] and [1,0,0] is [[0], [0], [0], [0], [0], [0], [1], [0], [0]]\n",
      "tensor muliply of [0,0,1] and [0,1,0] is [[0], [0], [0], [0], [0], [0], [0], [1], [0]]\n",
      "tensor muliply of [0,0,1] and [0,0,1] is [[0], [0], [0], [0], [0], [0], [0], [0], [1]]\n"
     ]
    }
   ],
   "source": [
    "# matrix M0\n",
    "M0 = [[1],[0],[0]]\n",
    "\n",
    "# matrix M1\n",
    "M1 = [[0],[1],[0]]\n",
    "\n",
    "# matrix M2\n",
    "M2 = [[0],[0],[1]]\n",
    "\n",
    "M00=[]\n",
    "M01=[]\n",
    "M02=[]\n",
    "M10=[]\n",
    "M11=[]\n",
    "M12=[]\n",
    "M20=[]\n",
    "M21=[]\n",
    "M22=[]\n",
    "\n",
    "for i in range(9):\n",
    "    M00.append([0])\n",
    "    M01.append([0])\n",
    "    M02.append([0])\n",
    "    M10.append([0])\n",
    "    M11.append([0])\n",
    "    M12.append([0])\n",
    "    M20.append([0])\n",
    "    M21.append([0])\n",
    "    M22.append([0])\n",
    "\n",
    "def bitsMultiply(N1,N2):\n",
    "    N=[]\n",
    "    for i in range(9):\n",
    "        N.append([0])\n",
    "    for i in range(3): # row of M1\n",
    "        for j in range(1): # column of M1\n",
    "            for k in range(3): # row of M2\n",
    "                for l in range(1): # column of M2\n",
    "                    N[i*3+k][2*j+l] = N1[i][j] * N2[k][l] \n",
    "    return N\n",
    "\n",
    "M00=bitsMultiply(M0,M0)\n",
    "M01=bitsMultiply(M0,M1)\n",
    "M02=bitsMultiply(M0,M2)\n",
    "M10=bitsMultiply(M1,M0)\n",
    "M11=bitsMultiply(M1,M1)\n",
    "M12=bitsMultiply(M1,M2)\n",
    "M20=bitsMultiply(M2,M0)\n",
    "M21=bitsMultiply(M2,M1)\n",
    "M22=bitsMultiply(M2,M2)\n",
    "print(\"tensor muliply of [1,0,0] and [1,0,0] is\", M00)\n",
    "print(\"tensor muliply of [1,0,0] and [0,1,0] is\", M01)\n",
    "print(\"tensor muliply of [1,0,0] and [0,0,1] is\", M02)\n",
    "print(\"tensor muliply of [0,1,0] and [1,0,0] is\", M10)\n",
    "print(\"tensor muliply of [0,1,0] and [0,1,0] is\", M11)\n",
    "print(\"tensor muliply of [0,1,0] and [0,0,1] is\", M12)\n",
    "print(\"tensor muliply of [0,0,1] and [1,0,0] is\", M20)\n",
    "print(\"tensor muliply of [0,0,1] and [0,1,0] is\", M21)\n",
    "print(\"tensor muliply of [0,0,1] and [0,0,1] is\", M22)"
   ]
  },
  {
   "cell_type": "markdown",
   "metadata": {},
   "source": [
    "<h3> Task 6 [extra] </h3>\n",
    "\n",
    "<i>This is a challenging task.</i>\n",
    "\n",
    "Suppose that we have four bits. \n",
    "\n",
    "Number 9 is represented as $ 1001 $ in binary. Verify that the vector representation of $ \\pstate{1001} $ is the zero vector except its $10$th entry, which is 1.\n",
    "\n",
    "Number 7 is represented as $ 0111 $ in binary. Verify that the vector representation of $ \\pstate{0111} $ is the zero vector except its $8$th entry, which is 1.\n",
    "\n",
    "Generalize this idea for any number between 0 and 15.\n",
    "\n",
    "Generalize this idea for any number of bits."
   ]
  },
  {
   "cell_type": "code",
   "execution_count": 9,
   "metadata": {},
   "outputs": [
    {
     "name": "stdout",
     "output_type": "stream",
     "text": [
      "M1001 is [[0], [0], [0], [0], [0], [0], [0], [0], [0], [1], [0], [0], [0], [0], [0], [0]]\n",
      "10-th entry of M1001 is [1]\n",
      "M0111 is [[0], [0], [0], [0], [0], [0], [0], [1], [0], [0], [0], [0], [0], [0], [0], [0]]\n",
      "8-th entry of M0111 is [1]\n"
     ]
    }
   ],
   "source": [
    "# matrix M0\n",
    "M0 = [[1],[0]]\n",
    "\n",
    "# matrix M1\n",
    "M1 = [[0],[1]]\n",
    "\n",
    "M10=[]\n",
    "M100=[]\n",
    "M1001=[]\n",
    "for i in range(4):\n",
    "    M10.append([0])\n",
    "for i in range(8):\n",
    "    M100.append([0])\n",
    "for i in range(16):\n",
    "    M1001.append([0])\n",
    "                    \n",
    "def bitsNultiply(M1,M2,n1,n2):\n",
    "    M=[]\n",
    "    for i in range(n1*n2):\n",
    "        M.append([0])\n",
    "    for i in range(n1): # row of M1\n",
    "        for j in range(1): # column of M1\n",
    "            for k in range(2): # row of M2\n",
    "                 for l in range(1): # column of M2\n",
    "                        M[i*2+k][1*j+l] = M1[i][j] * M2[k][l]\n",
    "    return M\n",
    "\n",
    "M10=bitsNultiply(M1,M0,2,2)\n",
    "M100=bitsNultiply(M10,M0,4,2)\n",
    "M1001=bitsNultiply(M100,M1,8,2)\n",
    "\n",
    "\n",
    "print(\"M1001 is\", M1001)\n",
    "print(\"10-th entry of M1001 is\",M1001[9])\n",
    "\n",
    "M01=[]\n",
    "M011=[]\n",
    "M0111=[]\n",
    "for i in range(4):\n",
    "    M01.append([0])\n",
    "for i in range(8):\n",
    "    M011.append([0])\n",
    "for i in range(16):\n",
    "    M0111.append([0])\n",
    "\n",
    "M01=bitsNultiply(M0,M1,2,2)\n",
    "M011=bitsNultiply(M01,M1,4,2)\n",
    "M0111=bitsNultiply(M011,M1,8,2)\n",
    "\n",
    "print(\"M0111 is\", M0111)\n",
    "print(\"8-th entry of M0111 is\",M0111[7])"
   ]
  }
 ],
 "metadata": {
  "kernelspec": {
   "display_name": "Python 3",
   "language": "python",
   "name": "python3"
  },
  "language_info": {
   "codemirror_mode": {
    "name": "ipython",
    "version": 3
   },
   "file_extension": ".py",
   "mimetype": "text/x-python",
   "name": "python",
   "nbconvert_exporter": "python",
   "pygments_lexer": "ipython3",
   "version": "3.7.3"
  }
 },
 "nbformat": 4,
 "nbformat_minor": 2
}
