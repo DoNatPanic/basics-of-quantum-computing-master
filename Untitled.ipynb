{
 "cells": [
  {
   "cell_type": "code",
   "execution_count": 7,
   "metadata": {},
   "outputs": [
    {
     "name": "stdout",
     "output_type": "stream",
     "text": [
      "Collecting qiskit\n",
      "Collecting qiskit-ibmq-provider==0.5.0 (from qiskit)\n",
      "  Using cached https://files.pythonhosted.org/packages/18/4f/49911087def9ba45406f18d10cc64e4ee73d8921e8d3fa2e5bf2abee3b71/qiskit_ibmq_provider-0.5.0-py3-none-any.whl\n",
      "Collecting qiskit-aer==0.4.0 (from qiskit)\n",
      "  Using cached https://files.pythonhosted.org/packages/5f/88/100d5bbd248e25afbd55a2617427ad1fb6d73f81716c159275c2bbad3404/qiskit_aer-0.4.0-cp37-cp37m-win_amd64.whl\n",
      "Collecting qiskit-aqua==0.6.4 (from qiskit)\n",
      "  Using cached https://files.pythonhosted.org/packages/f0/7f/5d66a7d2f90a95e5bf34717adeaaee6bc330ed2b38df240a37034f9749af/qiskit_aqua-0.6.4-py3-none-any.whl\n",
      "Requirement already satisfied: qiskit-ignis==0.2.0 in c:\\programdata\\anaconda3\\lib\\site-packages (from qiskit) (0.2.0)\n",
      "Requirement already satisfied: qiskit-terra==0.12.0 in c:\\programdata\\anaconda3\\lib\\site-packages (from qiskit) (0.12.0)\n",
      "Collecting requests-ntlm>=1.1.0 (from qiskit-ibmq-provider==0.5.0->qiskit)\n",
      "  Using cached https://files.pythonhosted.org/packages/03/4b/8b9a1afde8072c4d5710d9fa91433d504325821b038e00237dc8d6d833dc/requests_ntlm-1.1.0-py2.py3-none-any.whl\n",
      "Requirement already satisfied: requests>=2.19 in c:\\programdata\\anaconda3\\lib\\site-packages (from qiskit-ibmq-provider==0.5.0->qiskit) (2.22.0)\n",
      "Collecting arrow>=0.15.5 (from qiskit-ibmq-provider==0.5.0->qiskit)\n",
      "  Using cached https://files.pythonhosted.org/packages/92/fa/f84896dede5decf284e6922134bf03fd26c90870bbf8015f4e8ee2a07bcc/arrow-0.15.5-py2.py3-none-any.whl\n",
      "Collecting nest-asyncio!=1.1.0,>=1.0.0 (from qiskit-ibmq-provider==0.5.0->qiskit)\n",
      "  Using cached https://files.pythonhosted.org/packages/ad/05/a511d3c77850879409ca8a5f73257da50b97c28e030a82cdf8b0d359dedf/nest_asyncio-1.2.3-py3-none-any.whl\n",
      "Collecting websockets<8,>=7 (from qiskit-ibmq-provider==0.5.0->qiskit)\n",
      "  Using cached https://files.pythonhosted.org/packages/8a/7d/7f3a5af575187443e2b6d12611778f73413df2286a71af1a8b012ece1f92/websockets-7.0-cp37-cp37m-win_amd64.whl\n",
      "Requirement already satisfied: cython>=0.27.1 in c:\\programdata\\anaconda3\\lib\\site-packages (from qiskit-aer==0.4.0->qiskit) (0.29.12)\n",
      "Requirement already satisfied: numpy>=1.13 in c:\\programdata\\anaconda3\\lib\\site-packages (from qiskit-aer==0.4.0->qiskit) (1.16.4)\n",
      "Collecting pybind11>=2.4 (from qiskit-aer==0.4.0->qiskit)\n",
      "  Using cached https://files.pythonhosted.org/packages/4b/4d/ae1c4d8e8b139afa9682054dd42df3b0e3b5c1731287933021b9fd7e9cc4/pybind11-2.4.3-py2.py3-none-any.whl\n",
      "Requirement already satisfied: scipy>=1.0 in c:\\programdata\\anaconda3\\lib\\site-packages (from qiskit-aer==0.4.0->qiskit) (1.2.1)\n",
      "Requirement already satisfied: dlx in c:\\programdata\\anaconda3\\lib\\site-packages (from qiskit-aqua==0.6.4->qiskit) (1.0.4)\n",
      "Requirement already satisfied: setuptools>=40.1.0 in c:\\programdata\\anaconda3\\lib\\site-packages (from qiskit-aqua==0.6.4->qiskit) (41.0.1)\n",
      "Requirement already satisfied: scikit-learn>=0.20.0 in c:\\programdata\\anaconda3\\lib\\site-packages (from qiskit-aqua==0.6.4->qiskit) (0.21.2)\n",
      "Collecting cvxopt; python_version < \"3.8\" or sys_platform != \"win32\" (from qiskit-aqua==0.6.4->qiskit)\n",
      "  Using cached https://files.pythonhosted.org/packages/67/94/b4607fbe9b89d068c03c0c8fe42c994489516a379cd74cf66d1ebacabdaf/cvxopt-1.2.4-cp37-cp37m-win_amd64.whl\n",
      "Requirement already satisfied: docplex in c:\\programdata\\anaconda3\\lib\\site-packages (from qiskit-aqua==0.6.4->qiskit) (2.12.182)\n",
      "Requirement already satisfied: h5py in c:\\programdata\\anaconda3\\lib\\site-packages (from qiskit-aqua==0.6.4->qiskit) (2.9.0)\n",
      "Requirement already satisfied: quandl in c:\\programdata\\anaconda3\\lib\\site-packages (from qiskit-aqua==0.6.4->qiskit) (3.5.0)\n",
      "Requirement already satisfied: networkx>=2.2 in c:\\programdata\\anaconda3\\lib\\site-packages (from qiskit-aqua==0.6.4->qiskit) (2.3)\n",
      "Requirement already satisfied: jsonschema>=2.6 in c:\\programdata\\anaconda3\\lib\\site-packages (from qiskit-aqua==0.6.4->qiskit) (3.0.1)\n",
      "Requirement already satisfied: psutil>=5 in c:\\programdata\\anaconda3\\lib\\site-packages (from qiskit-aqua==0.6.4->qiskit) (5.6.3)\n",
      "Requirement already satisfied: sympy>=1.3 in c:\\programdata\\anaconda3\\lib\\site-packages (from qiskit-aqua==0.6.4->qiskit) (1.4)\n",
      "Requirement already satisfied: fastdtw in c:\\programdata\\anaconda3\\lib\\site-packages (from qiskit-aqua==0.6.4->qiskit) (0.3.4)\n",
      "Requirement already satisfied: marshmallow-polyfield<6,>=5.7 in c:\\programdata\\anaconda3\\lib\\site-packages (from qiskit-terra==0.12.0->qiskit) (5.8)\n",
      "Requirement already satisfied: dill>=0.3 in c:\\programdata\\anaconda3\\lib\\site-packages (from qiskit-terra==0.12.0->qiskit) (0.3.1.1)\n",
      "Requirement already satisfied: ply>=3.10 in c:\\programdata\\anaconda3\\lib\\site-packages (from qiskit-terra==0.12.0->qiskit) (3.11)\n",
      "Requirement already satisfied: marshmallow<4,>=3 in c:\\programdata\\anaconda3\\lib\\site-packages (from qiskit-terra==0.12.0->qiskit) (3.5.0)\n",
      "Collecting ntlm-auth>=1.0.2 (from requests-ntlm>=1.1.0->qiskit-ibmq-provider==0.5.0->qiskit)\n",
      "  Using cached https://files.pythonhosted.org/packages/50/09/5e397eb18685b14fd8b209e26cdb4fa6451c82c1bcc651fef05fa73e7b27/ntlm_auth-1.4.0-py2.py3-none-any.whl\n",
      "Requirement already satisfied: cryptography>=1.3 in c:\\programdata\\anaconda3\\lib\\site-packages (from requests-ntlm>=1.1.0->qiskit-ibmq-provider==0.5.0->qiskit) (2.7)\n",
      "Requirement already satisfied: certifi>=2017.4.17 in c:\\programdata\\anaconda3\\lib\\site-packages (from requests>=2.19->qiskit-ibmq-provider==0.5.0->qiskit) (2019.6.16)\n",
      "Requirement already satisfied: idna<2.9,>=2.5 in c:\\programdata\\anaconda3\\lib\\site-packages (from requests>=2.19->qiskit-ibmq-provider==0.5.0->qiskit) (2.8)\n",
      "Requirement already satisfied: chardet<3.1.0,>=3.0.2 in c:\\programdata\\anaconda3\\lib\\site-packages (from requests>=2.19->qiskit-ibmq-provider==0.5.0->qiskit) (3.0.4)\n",
      "Requirement already satisfied: urllib3!=1.25.0,!=1.25.1,<1.26,>=1.21.1 in c:\\programdata\\anaconda3\\lib\\site-packages (from requests>=2.19->qiskit-ibmq-provider==0.5.0->qiskit) (1.24.2)\n",
      "Requirement already satisfied: python-dateutil in c:\\programdata\\anaconda3\\lib\\site-packages (from arrow>=0.15.5->qiskit-ibmq-provider==0.5.0->qiskit) (2.8.0)\n",
      "Requirement already satisfied: joblib>=0.11 in c:\\programdata\\anaconda3\\lib\\site-packages (from scikit-learn>=0.20.0->qiskit-aqua==0.6.4->qiskit) (0.13.2)\n",
      "Collecting mkl (from cvxopt; python_version < \"3.8\" or sys_platform != \"win32\"->qiskit-aqua==0.6.4->qiskit)\n",
      "  Using cached https://files.pythonhosted.org/packages/56/39/537cb3e4e93f1ac5085dc3b3a43cfd99d0af9b29c44fcaa99490f526b611/mkl-2019.0-py2.py3-none-win_amd64.whl\n",
      "Requirement already satisfied: docloud>=1.0.375 in c:\\programdata\\anaconda3\\lib\\site-packages (from docplex->qiskit-aqua==0.6.4->qiskit) (1.0.375)\n",
      "Requirement already satisfied: six in c:\\programdata\\anaconda3\\lib\\site-packages (from docplex->qiskit-aqua==0.6.4->qiskit) (1.12.0)\n",
      "Requirement already satisfied: inflection>=0.3.1 in c:\\programdata\\anaconda3\\lib\\site-packages (from quandl->qiskit-aqua==0.6.4->qiskit) (0.3.1)\n",
      "Requirement already satisfied: more-itertools in c:\\programdata\\anaconda3\\lib\\site-packages (from quandl->qiskit-aqua==0.6.4->qiskit) (7.0.0)\n",
      "Requirement already satisfied: pandas>=0.14 in c:\\programdata\\anaconda3\\lib\\site-packages (from quandl->qiskit-aqua==0.6.4->qiskit) (0.24.2)\n",
      "Requirement already satisfied: decorator>=4.3.0 in c:\\programdata\\anaconda3\\lib\\site-packages (from networkx>=2.2->qiskit-aqua==0.6.4->qiskit) (4.4.0)\n",
      "Requirement already satisfied: attrs>=17.4.0 in c:\\programdata\\anaconda3\\lib\\site-packages (from jsonschema>=2.6->qiskit-aqua==0.6.4->qiskit) (19.1.0)\n",
      "Requirement already satisfied: pyrsistent>=0.14.0 in c:\\programdata\\anaconda3\\lib\\site-packages (from jsonschema>=2.6->qiskit-aqua==0.6.4->qiskit) (0.14.11)\n",
      "Requirement already satisfied: mpmath>=0.19 in c:\\programdata\\anaconda3\\lib\\site-packages (from sympy>=1.3->qiskit-aqua==0.6.4->qiskit) (1.1.0)\n",
      "Requirement already satisfied: cffi!=1.11.3,>=1.8 in c:\\programdata\\anaconda3\\lib\\site-packages (from cryptography>=1.3->requests-ntlm>=1.1.0->qiskit-ibmq-provider==0.5.0->qiskit) (1.12.3)\n",
      "Requirement already satisfied: asn1crypto>=0.21.0 in c:\\programdata\\anaconda3\\lib\\site-packages (from cryptography>=1.3->requests-ntlm>=1.1.0->qiskit-ibmq-provider==0.5.0->qiskit) (0.24.0)\n",
      "Requirement already satisfied: intel-openmp in c:\\programdata\\anaconda3\\lib\\site-packages (from mkl->cvxopt; python_version < \"3.8\" or sys_platform != \"win32\"->qiskit-aqua==0.6.4->qiskit) (2019.0)\n",
      "Requirement already satisfied: pytz>=2011k in c:\\programdata\\anaconda3\\lib\\site-packages (from pandas>=0.14->quandl->qiskit-aqua==0.6.4->qiskit) (2019.1)\n",
      "Requirement already satisfied: pycparser in c:\\programdata\\anaconda3\\lib\\site-packages (from cffi!=1.11.3,>=1.8->cryptography>=1.3->requests-ntlm>=1.1.0->qiskit-ibmq-provider==0.5.0->qiskit) (2.19)\n",
      "Installing collected packages: ntlm-auth, requests-ntlm, arrow, nest-asyncio, websockets, qiskit-ibmq-provider, pybind11, qiskit-aer, mkl, cvxopt, qiskit-aqua, qiskit\n",
      "Note: you may need to restart the kernel to use updated packages.\n"
     ]
    },
    {
     "name": "stderr",
     "output_type": "stream",
     "text": [
      "ERROR: Could not install packages due to an EnvironmentError: [WinError 5] Отказано в доступе: 'C:\\\\ProgramData\\\\Anaconda3\\\\Library\\\\bin\\\\libimalloc.dll'\n",
      "Consider using the `--user` option or check the permissions.\n",
      "\n"
     ]
    }
   ],
   "source": [
    "pip install qiskit"
   ]
  },
  {
   "cell_type": "code",
   "execution_count": 8,
   "metadata": {},
   "outputs": [
    {
     "name": "stdout",
     "output_type": "stream",
     "text": [
      "Requirement already satisfied: conda in c:\\programdata\\anaconda3\\lib\\site-packages (4.7.10)\n",
      "Requirement already satisfied: pycosat>=0.6.3 in c:\\programdata\\anaconda3\\lib\\site-packages (from conda) (0.6.3)\n",
      "Requirement already satisfied: requests>=2.12.4 in c:\\programdata\\anaconda3\\lib\\site-packages (from conda) (2.22.0)\n",
      "Requirement already satisfied: ruamel_yaml>=0.11.14 in c:\\programdata\\anaconda3\\lib\\site-packages (from conda) (0.15.46)\n",
      "Requirement already satisfied: menuinst in c:\\programdata\\anaconda3\\lib\\site-packages (from conda) (1.4.16)\n",
      "Requirement already satisfied: urllib3!=1.25.0,!=1.25.1,<1.26,>=1.21.1 in c:\\programdata\\anaconda3\\lib\\site-packages (from requests>=2.12.4->conda) (1.24.2)\n",
      "Requirement already satisfied: certifi>=2017.4.17 in c:\\programdata\\anaconda3\\lib\\site-packages (from requests>=2.12.4->conda) (2019.6.16)\n",
      "Requirement already satisfied: idna<2.9,>=2.5 in c:\\programdata\\anaconda3\\lib\\site-packages (from requests>=2.12.4->conda) (2.8)\n",
      "Requirement already satisfied: chardet<3.1.0,>=3.0.2 in c:\\programdata\\anaconda3\\lib\\site-packages (from requests>=2.12.4->conda) (3.0.4)\n",
      "Note: you may need to restart the kernel to use updated packages.\n"
     ]
    }
   ],
   "source": [
    "pip install conda\n"
   ]
  },
  {
   "cell_type": "code",
   "execution_count": 9,
   "metadata": {},
   "outputs": [
    {
     "ename": "SyntaxError",
     "evalue": "invalid syntax (<ipython-input-9-53c3a33f3bbc>, line 1)",
     "output_type": "error",
     "traceback": [
      "\u001b[1;36m  File \u001b[1;32m\"<ipython-input-9-53c3a33f3bbc>\"\u001b[1;36m, line \u001b[1;32m1\u001b[0m\n\u001b[1;33m    cd qiskit-iqx-tutorials\u001b[0m\n\u001b[1;37m            ^\u001b[0m\n\u001b[1;31mSyntaxError\u001b[0m\u001b[1;31m:\u001b[0m invalid syntax\n"
     ]
    }
   ],
   "source": [
    "cd qiskit-iqx-tutorials\n",
    "conda env create -f environment.yml"
   ]
  },
  {
   "cell_type": "code",
   "execution_count": null,
   "metadata": {},
   "outputs": [],
   "source": []
  }
 ],
 "metadata": {
  "kernelspec": {
   "display_name": "Python 3",
   "language": "python",
   "name": "python3"
  },
  "language_info": {
   "codemirror_mode": {
    "name": "ipython",
    "version": 3
   },
   "file_extension": ".py",
   "mimetype": "text/x-python",
   "name": "python",
   "nbconvert_exporter": "python",
   "pygments_lexer": "ipython3",
   "version": "3.7.3"
  }
 },
 "nbformat": 4,
 "nbformat_minor": 2
}
